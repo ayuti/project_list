{
  "nbformat": 4,
  "nbformat_minor": 0,
  "metadata": {
    "colab": {
      "name": "lstm_final.ipynb",
      "provenance": [],
      "collapsed_sections": [],
      "authorship_tag": "ABX9TyNVZS2q5sf9oEPign+oT24V",
      "include_colab_link": true
    },
    "kernelspec": {
      "name": "python3",
      "display_name": "Python 3"
    },
    "language_info": {
      "name": "python"
    }
  },
  "cells": [
    {
      "cell_type": "markdown",
      "metadata": {
        "id": "view-in-github",
        "colab_type": "text"
      },
      "source": [
        "<a href=\"https://colab.research.google.com/github/ayuti/project_list/blob/master/lstm_final.ipynb\" target=\"_parent\"><img src=\"https://colab.research.google.com/assets/colab-badge.svg\" alt=\"Open In Colab\"/></a>"
      ]
    },
    {
      "cell_type": "code",
      "metadata": {
        "id": "66lPYs1QTTDR"
      },
      "source": [
        "# Importing the necessary libraries\n",
        "import numpy as np\n",
        "import pandas as pd\n",
        "import matplotlib.pyplot as plt\n",
        "import seaborn as sns\n",
        "from datetime import datetime\n"
      ],
      "execution_count": 379,
      "outputs": []
    },
    {
      "cell_type": "code",
      "metadata": {
        "colab": {
          "base_uri": "https://localhost:8080/",
          "height": 204
        },
        "id": "ZOasHVRLTeaH",
        "outputId": "4408d1f6-a7ff-4da0-a430-4ef2f618df8e"
      },
      "source": [
        "df = pd.read_excel(r'category_nsr_aug.xlsx')\n",
        "\n",
        "df.head(5)\n"
      ],
      "execution_count": 380,
      "outputs": [
        {
          "output_type": "execute_result",
          "data": {
            "text/html": [
              "<div>\n",
              "<style scoped>\n",
              "    .dataframe tbody tr th:only-of-type {\n",
              "        vertical-align: middle;\n",
              "    }\n",
              "\n",
              "    .dataframe tbody tr th {\n",
              "        vertical-align: top;\n",
              "    }\n",
              "\n",
              "    .dataframe thead th {\n",
              "        text-align: right;\n",
              "    }\n",
              "</style>\n",
              "<table border=\"1\" class=\"dataframe\">\n",
              "  <thead>\n",
              "    <tr style=\"text-align: right;\">\n",
              "      <th></th>\n",
              "      <th>PSTG. DATE</th>\n",
              "      <th>Category</th>\n",
              "      <th>NSR</th>\n",
              "    </tr>\n",
              "  </thead>\n",
              "  <tbody>\n",
              "    <tr>\n",
              "      <th>0</th>\n",
              "      <td>2021-04-02</td>\n",
              "      <td>HCV</td>\n",
              "      <td>20.014434</td>\n",
              "    </tr>\n",
              "    <tr>\n",
              "      <th>1</th>\n",
              "      <td>2021-04-02</td>\n",
              "      <td>HCV</td>\n",
              "      <td>25.567178</td>\n",
              "    </tr>\n",
              "    <tr>\n",
              "      <th>2</th>\n",
              "      <td>2021-04-02</td>\n",
              "      <td>HCV</td>\n",
              "      <td>25.833700</td>\n",
              "    </tr>\n",
              "    <tr>\n",
              "      <th>3</th>\n",
              "      <td>2021-04-02</td>\n",
              "      <td>HCV</td>\n",
              "      <td>25.373057</td>\n",
              "    </tr>\n",
              "    <tr>\n",
              "      <th>4</th>\n",
              "      <td>2021-04-02</td>\n",
              "      <td>HCV</td>\n",
              "      <td>21.368760</td>\n",
              "    </tr>\n",
              "  </tbody>\n",
              "</table>\n",
              "</div>"
            ],
            "text/plain": [
              "  PSTG. DATE Category        NSR\n",
              "0 2021-04-02      HCV  20.014434\n",
              "1 2021-04-02      HCV  25.567178\n",
              "2 2021-04-02      HCV  25.833700\n",
              "3 2021-04-02      HCV  25.373057\n",
              "4 2021-04-02      HCV  21.368760"
            ]
          },
          "metadata": {},
          "execution_count": 380
        }
      ]
    },
    {
      "cell_type": "code",
      "metadata": {
        "colab": {
          "base_uri": "https://localhost:8080/"
        },
        "id": "yy5B2MFNTecb",
        "outputId": "7b67e8b6-f6de-4eaa-c7f5-3d40f9635db1"
      },
      "source": [
        "df.info()"
      ],
      "execution_count": 381,
      "outputs": [
        {
          "output_type": "stream",
          "name": "stdout",
          "text": [
            "<class 'pandas.core.frame.DataFrame'>\n",
            "RangeIndex: 1074 entries, 0 to 1073\n",
            "Data columns (total 3 columns):\n",
            " #   Column      Non-Null Count  Dtype         \n",
            "---  ------      --------------  -----         \n",
            " 0   PSTG. DATE  1074 non-null   datetime64[ns]\n",
            " 1   Category    1074 non-null   object        \n",
            " 2   NSR         1074 non-null   float64       \n",
            "dtypes: datetime64[ns](1), float64(1), object(1)\n",
            "memory usage: 25.3+ KB\n"
          ]
        }
      ]
    },
    {
      "cell_type": "code",
      "metadata": {
        "colab": {
          "base_uri": "https://localhost:8080/"
        },
        "id": "oQZxmhjYTefv",
        "outputId": "dee26300-5954-4663-9b85-b37ec3fe7feb"
      },
      "source": [
        "df['Category'] = df['Category'].astype('string')\n",
        "\n",
        "df['NSR'] = df['NSR'].astype(int)\n",
        "\n",
        "df.dtypes\n"
      ],
      "execution_count": 382,
      "outputs": [
        {
          "output_type": "execute_result",
          "data": {
            "text/plain": [
              "PSTG. DATE    datetime64[ns]\n",
              "Category              string\n",
              "NSR                    int64\n",
              "dtype: object"
            ]
          },
          "metadata": {},
          "execution_count": 382
        }
      ]
    },
    {
      "cell_type": "code",
      "metadata": {
        "colab": {
          "base_uri": "https://localhost:8080/"
        },
        "id": "jWg_JCD5TrG1",
        "outputId": "78a5a0f1-d313-4c0b-f9bb-94c8456d6b44"
      },
      "source": [
        "df['Category'].value_counts()"
      ],
      "execution_count": 383,
      "outputs": [
        {
          "output_type": "execute_result",
          "data": {
            "text/plain": [
              "HCV      471\n",
              "ICV      271\n",
              "LCV      239\n",
              "N LCV     68\n",
              "Bus       25\n",
              "Name: Category, dtype: Int64"
            ]
          },
          "metadata": {},
          "execution_count": 383
        }
      ]
    },
    {
      "cell_type": "code",
      "metadata": {
        "colab": {
          "base_uri": "https://localhost:8080/",
          "height": 204
        },
        "id": "ro7go9gwTvGI",
        "outputId": "98ab954d-c9a5-4564-ad0d-f69f59b330d7"
      },
      "source": [
        "# Features\n",
        "features_considered = ['PSTG. DATE', 'Category','NSR']\n",
        "\n",
        "features = df[features_considered]\n",
        "#features.index = df['Date Time']\n",
        "features.head()\n"
      ],
      "execution_count": 384,
      "outputs": [
        {
          "output_type": "execute_result",
          "data": {
            "text/html": [
              "<div>\n",
              "<style scoped>\n",
              "    .dataframe tbody tr th:only-of-type {\n",
              "        vertical-align: middle;\n",
              "    }\n",
              "\n",
              "    .dataframe tbody tr th {\n",
              "        vertical-align: top;\n",
              "    }\n",
              "\n",
              "    .dataframe thead th {\n",
              "        text-align: right;\n",
              "    }\n",
              "</style>\n",
              "<table border=\"1\" class=\"dataframe\">\n",
              "  <thead>\n",
              "    <tr style=\"text-align: right;\">\n",
              "      <th></th>\n",
              "      <th>PSTG. DATE</th>\n",
              "      <th>Category</th>\n",
              "      <th>NSR</th>\n",
              "    </tr>\n",
              "  </thead>\n",
              "  <tbody>\n",
              "    <tr>\n",
              "      <th>0</th>\n",
              "      <td>2021-04-02</td>\n",
              "      <td>HCV</td>\n",
              "      <td>20</td>\n",
              "    </tr>\n",
              "    <tr>\n",
              "      <th>1</th>\n",
              "      <td>2021-04-02</td>\n",
              "      <td>HCV</td>\n",
              "      <td>25</td>\n",
              "    </tr>\n",
              "    <tr>\n",
              "      <th>2</th>\n",
              "      <td>2021-04-02</td>\n",
              "      <td>HCV</td>\n",
              "      <td>25</td>\n",
              "    </tr>\n",
              "    <tr>\n",
              "      <th>3</th>\n",
              "      <td>2021-04-02</td>\n",
              "      <td>HCV</td>\n",
              "      <td>25</td>\n",
              "    </tr>\n",
              "    <tr>\n",
              "      <th>4</th>\n",
              "      <td>2021-04-02</td>\n",
              "      <td>HCV</td>\n",
              "      <td>21</td>\n",
              "    </tr>\n",
              "  </tbody>\n",
              "</table>\n",
              "</div>"
            ],
            "text/plain": [
              "  PSTG. DATE Category  NSR\n",
              "0 2021-04-02      HCV   20\n",
              "1 2021-04-02      HCV   25\n",
              "2 2021-04-02      HCV   25\n",
              "3 2021-04-02      HCV   25\n",
              "4 2021-04-02      HCV   21"
            ]
          },
          "metadata": {},
          "execution_count": 384
        }
      ]
    },
    {
      "cell_type": "code",
      "metadata": {
        "colab": {
          "base_uri": "https://localhost:8080/",
          "height": 450
        },
        "id": "a3hvFhb0T4Sw",
        "outputId": "b2fdfb47-0ee3-4189-eb6c-e16069e01e71"
      },
      "source": [
        "category_df=features.set_index('PSTG. DATE').groupby('Category').resample('D').sum()\n",
        "category_df"
      ],
      "execution_count": 385,
      "outputs": [
        {
          "output_type": "execute_result",
          "data": {
            "text/html": [
              "<div>\n",
              "<style scoped>\n",
              "    .dataframe tbody tr th:only-of-type {\n",
              "        vertical-align: middle;\n",
              "    }\n",
              "\n",
              "    .dataframe tbody tr th {\n",
              "        vertical-align: top;\n",
              "    }\n",
              "\n",
              "    .dataframe thead th {\n",
              "        text-align: right;\n",
              "    }\n",
              "</style>\n",
              "<table border=\"1\" class=\"dataframe\">\n",
              "  <thead>\n",
              "    <tr style=\"text-align: right;\">\n",
              "      <th></th>\n",
              "      <th></th>\n",
              "      <th>NSR</th>\n",
              "    </tr>\n",
              "    <tr>\n",
              "      <th>Category</th>\n",
              "      <th>PSTG. DATE</th>\n",
              "      <th></th>\n",
              "    </tr>\n",
              "  </thead>\n",
              "  <tbody>\n",
              "    <tr>\n",
              "      <th rowspan=\"5\" valign=\"top\">Bus</th>\n",
              "      <th>2021-04-07</th>\n",
              "      <td>11</td>\n",
              "    </tr>\n",
              "    <tr>\n",
              "      <th>2021-04-08</th>\n",
              "      <td>0</td>\n",
              "    </tr>\n",
              "    <tr>\n",
              "      <th>2021-04-09</th>\n",
              "      <td>0</td>\n",
              "    </tr>\n",
              "    <tr>\n",
              "      <th>2021-04-10</th>\n",
              "      <td>0</td>\n",
              "    </tr>\n",
              "    <tr>\n",
              "      <th>2021-04-11</th>\n",
              "      <td>0</td>\n",
              "    </tr>\n",
              "    <tr>\n",
              "      <th>...</th>\n",
              "      <th>...</th>\n",
              "      <td>...</td>\n",
              "    </tr>\n",
              "    <tr>\n",
              "      <th rowspan=\"5\" valign=\"top\">N LCV</th>\n",
              "      <th>2021-08-27</th>\n",
              "      <td>0</td>\n",
              "    </tr>\n",
              "    <tr>\n",
              "      <th>2021-08-28</th>\n",
              "      <td>20</td>\n",
              "    </tr>\n",
              "    <tr>\n",
              "      <th>2021-08-29</th>\n",
              "      <td>0</td>\n",
              "    </tr>\n",
              "    <tr>\n",
              "      <th>2021-08-30</th>\n",
              "      <td>30</td>\n",
              "    </tr>\n",
              "    <tr>\n",
              "      <th>2021-08-31</th>\n",
              "      <td>96</td>\n",
              "    </tr>\n",
              "  </tbody>\n",
              "</table>\n",
              "<p>730 rows × 1 columns</p>\n",
              "</div>"
            ],
            "text/plain": [
              "                     NSR\n",
              "Category PSTG. DATE     \n",
              "Bus      2021-04-07   11\n",
              "         2021-04-08    0\n",
              "         2021-04-09    0\n",
              "         2021-04-10    0\n",
              "         2021-04-11    0\n",
              "...                  ...\n",
              "N LCV    2021-08-27    0\n",
              "         2021-08-28   20\n",
              "         2021-08-29    0\n",
              "         2021-08-30   30\n",
              "         2021-08-31   96\n",
              "\n",
              "[730 rows x 1 columns]"
            ]
          },
          "metadata": {},
          "execution_count": 385
        }
      ]
    },
    {
      "cell_type": "code",
      "metadata": {
        "colab": {
          "base_uri": "https://localhost:8080/",
          "height": 214
        },
        "id": "6YOjb9wmT-Zp",
        "outputId": "51c7da37-d2bb-4e62-f3ec-1c5252ea2c27"
      },
      "source": [
        "plt.rcParams[\"figure.figsize\"] = (25,3)\n",
        "category_df.query('Category==\"HCV\"')[['NSR']].plot()\n"
      ],
      "execution_count": 386,
      "outputs": [
        {
          "output_type": "execute_result",
          "data": {
            "text/plain": [
              "<matplotlib.axes._subplots.AxesSubplot at 0x7f75a2b6cc10>"
            ]
          },
          "metadata": {},
          "execution_count": 386
        },
        {
          "output_type": "display_data",
          "data": {
            "image/png": "[encoded data removed]",
            "text/plain": [
              "<Figure size 1800x216 with 1 Axes>"
            ]
          },
          "metadata": {
            "needs_background": "light"
          }
        }
      ]
    },
    {
      "cell_type": "code",
      "metadata": {
        "colab": {
          "base_uri": "https://localhost:8080/",
          "height": 450
        },
        "id": "FNpjKA0WT-nt",
        "outputId": "c1f945c3-dbc1-40ce-c01a-b5287ed214d1"
      },
      "source": [
        "hcv_df=category_df.query('Category==\"HCV\"')[['NSR']]\n",
        "\n",
        "hcv_df"
      ],
      "execution_count": 387,
      "outputs": [
        {
          "output_type": "execute_result",
          "data": {
            "text/html": [
              "<div>\n",
              "<style scoped>\n",
              "    .dataframe tbody tr th:only-of-type {\n",
              "        vertical-align: middle;\n",
              "    }\n",
              "\n",
              "    .dataframe tbody tr th {\n",
              "        vertical-align: top;\n",
              "    }\n",
              "\n",
              "    .dataframe thead th {\n",
              "        text-align: right;\n",
              "    }\n",
              "</style>\n",
              "<table border=\"1\" class=\"dataframe\">\n",
              "  <thead>\n",
              "    <tr style=\"text-align: right;\">\n",
              "      <th></th>\n",
              "      <th></th>\n",
              "      <th>NSR</th>\n",
              "    </tr>\n",
              "    <tr>\n",
              "      <th>Category</th>\n",
              "      <th>PSTG. DATE</th>\n",
              "      <th></th>\n",
              "    </tr>\n",
              "  </thead>\n",
              "  <tbody>\n",
              "    <tr>\n",
              "      <th rowspan=\"11\" valign=\"top\">HCV</th>\n",
              "      <th>2021-04-02</th>\n",
              "      <td>163</td>\n",
              "    </tr>\n",
              "    <tr>\n",
              "      <th>2021-04-03</th>\n",
              "      <td>0</td>\n",
              "    </tr>\n",
              "    <tr>\n",
              "      <th>2021-04-04</th>\n",
              "      <td>0</td>\n",
              "    </tr>\n",
              "    <tr>\n",
              "      <th>2021-04-05</th>\n",
              "      <td>114</td>\n",
              "    </tr>\n",
              "    <tr>\n",
              "      <th>2021-04-06</th>\n",
              "      <td>46</td>\n",
              "    </tr>\n",
              "    <tr>\n",
              "      <th>...</th>\n",
              "      <td>...</td>\n",
              "    </tr>\n",
              "    <tr>\n",
              "      <th>2021-08-27</th>\n",
              "      <td>135</td>\n",
              "    </tr>\n",
              "    <tr>\n",
              "      <th>2021-08-28</th>\n",
              "      <td>78</td>\n",
              "    </tr>\n",
              "    <tr>\n",
              "      <th>2021-08-29</th>\n",
              "      <td>0</td>\n",
              "    </tr>\n",
              "    <tr>\n",
              "      <th>2021-08-30</th>\n",
              "      <td>185</td>\n",
              "    </tr>\n",
              "    <tr>\n",
              "      <th>2021-08-31</th>\n",
              "      <td>1297</td>\n",
              "    </tr>\n",
              "  </tbody>\n",
              "</table>\n",
              "<p>152 rows × 1 columns</p>\n",
              "</div>"
            ],
            "text/plain": [
              "                      NSR\n",
              "Category PSTG. DATE      \n",
              "HCV      2021-04-02   163\n",
              "         2021-04-03     0\n",
              "         2021-04-04     0\n",
              "         2021-04-05   114\n",
              "         2021-04-06    46\n",
              "...                   ...\n",
              "         2021-08-27   135\n",
              "         2021-08-28    78\n",
              "         2021-08-29     0\n",
              "         2021-08-30   185\n",
              "         2021-08-31  1297\n",
              "\n",
              "[152 rows x 1 columns]"
            ]
          },
          "metadata": {},
          "execution_count": 387
        }
      ]
    },
    {
      "cell_type": "code",
      "metadata": {
        "colab": {
          "base_uri": "https://localhost:8080/"
        },
        "id": "gGJyblo5UZGT",
        "outputId": "619dc885-36e3-4361-f3a7-0cda06b3306f"
      },
      "source": [
        "len(hcv_df)\n"
      ],
      "execution_count": 388,
      "outputs": [
        {
          "output_type": "execute_result",
          "data": {
            "text/plain": [
              "152"
            ]
          },
          "metadata": {},
          "execution_count": 388
        }
      ]
    },
    {
      "cell_type": "code",
      "metadata": {
        "colab": {
          "base_uri": "https://localhost:8080/"
        },
        "id": "VaiZ8D7uUZJz",
        "outputId": "ca245fad-0711-403a-a810-81a27c8867d1"
      },
      "source": [
        "test_index=40\n",
        "train_data=hcv_df.iloc[:-test_index]\n",
        "test_data=hcv_df.iloc[-test_index:]\n",
        "\n",
        "print(len(train_data),len(test_data))"
      ],
      "execution_count": 389,
      "outputs": [
        {
          "output_type": "stream",
          "name": "stdout",
          "text": [
            "112 40\n"
          ]
        }
      ]
    },
    {
      "cell_type": "code",
      "metadata": {
        "colab": {
          "base_uri": "https://localhost:8080/",
          "height": 235
        },
        "id": "NZ5N4P1yXdIf",
        "outputId": "3eca6ba3-6329-4b54-947b-07011f162532"
      },
      "source": [
        "test_data.head(5)"
      ],
      "execution_count": 390,
      "outputs": [
        {
          "output_type": "execute_result",
          "data": {
            "text/html": [
              "<div>\n",
              "<style scoped>\n",
              "    .dataframe tbody tr th:only-of-type {\n",
              "        vertical-align: middle;\n",
              "    }\n",
              "\n",
              "    .dataframe tbody tr th {\n",
              "        vertical-align: top;\n",
              "    }\n",
              "\n",
              "    .dataframe thead th {\n",
              "        text-align: right;\n",
              "    }\n",
              "</style>\n",
              "<table border=\"1\" class=\"dataframe\">\n",
              "  <thead>\n",
              "    <tr style=\"text-align: right;\">\n",
              "      <th></th>\n",
              "      <th></th>\n",
              "      <th>NSR</th>\n",
              "    </tr>\n",
              "    <tr>\n",
              "      <th>Category</th>\n",
              "      <th>PSTG. DATE</th>\n",
              "      <th></th>\n",
              "    </tr>\n",
              "  </thead>\n",
              "  <tbody>\n",
              "    <tr>\n",
              "      <th rowspan=\"5\" valign=\"top\">HCV</th>\n",
              "      <th>2021-07-23</th>\n",
              "      <td>28</td>\n",
              "    </tr>\n",
              "    <tr>\n",
              "      <th>2021-07-24</th>\n",
              "      <td>0</td>\n",
              "    </tr>\n",
              "    <tr>\n",
              "      <th>2021-07-25</th>\n",
              "      <td>0</td>\n",
              "    </tr>\n",
              "    <tr>\n",
              "      <th>2021-07-26</th>\n",
              "      <td>28</td>\n",
              "    </tr>\n",
              "    <tr>\n",
              "      <th>2021-07-27</th>\n",
              "      <td>82</td>\n",
              "    </tr>\n",
              "  </tbody>\n",
              "</table>\n",
              "</div>"
            ],
            "text/plain": [
              "                     NSR\n",
              "Category PSTG. DATE     \n",
              "HCV      2021-07-23   28\n",
              "         2021-07-24    0\n",
              "         2021-07-25    0\n",
              "         2021-07-26   28\n",
              "         2021-07-27   82"
            ]
          },
          "metadata": {},
          "execution_count": 390
        }
      ]
    },
    {
      "cell_type": "code",
      "metadata": {
        "id": "r7hLftnpT-rH"
      },
      "source": [
        "from sklearn.preprocessing import MinMaxScaler\n",
        "\n",
        "scaler=MinMaxScaler()\n",
        "\n",
        "scaled_train_data=scaler.fit_transform(train_data)\n",
        "scaled_test_data=scaler.transform(test_data)\n"
      ],
      "execution_count": 391,
      "outputs": []
    },
    {
      "cell_type": "code",
      "metadata": {
        "id": "SKCjuWACT4xK"
      },
      "source": [
        "length=3\n",
        "batch_size=1\n",
        "features=scaled_train_data.shape[1]\n"
      ],
      "execution_count": 392,
      "outputs": []
    },
    {
      "cell_type": "code",
      "metadata": {
        "id": "Zh0s07aQVI1j"
      },
      "source": [
        "# Importing the keras library and the TimeseriesGenerator\n",
        "from tensorflow.keras.preprocessing.sequence import TimeseriesGenerator\n",
        "\n",
        "time_series_generator=TimeseriesGenerator(scaled_train_data,scaled_train_data,length=length,batch_size=batch_size)\n"
      ],
      "execution_count": 393,
      "outputs": []
    },
    {
      "cell_type": "code",
      "metadata": {
        "id": "Om-HixnBVSiU"
      },
      "source": [
        "# Importing the necessary libraries to create/construct the neural network model\n",
        "from tensorflow.keras.models import Sequential\n",
        "from tensorflow.keras.layers import Dense,LSTM\n",
        "from tensorflow.keras import initializers\n"
      ],
      "execution_count": 394,
      "outputs": []
    },
    {
      "cell_type": "code",
      "metadata": {
        "id": "eSm9MzefVYfi"
      },
      "source": [
        "import tensorflow as tf\n",
        "initializer = tf.keras.initializers.he_uniform(seed=0)\n",
        "# Initially, the network model is defined \n",
        "model = Sequential()\n",
        "\n",
        "# Hidden layer neurons are chosen to be 51 equal to the defined length (number of past time series data per batch)\n",
        "# Selected Activation function has been the rectified linear unit\n",
        "model.add(LSTM(51, activation='relu', input_shape=(length,features),kernel_initializer=initializer,\n",
        "                     bias_initializer=initializers.Constant(0.01)))\n",
        "# The output layer consists of 4 neuron (one neuron for each input feature) with a 'sigmoid' activation fuction \n",
        "model.add(Dense(features,activation='sigmoid',kernel_initializer=initializer,\n",
        "                     bias_initializer=initializers.Constant(0.01)))\n",
        "# The model is compiled with selected loss function= 'mse', whereas the selected optimizer is 'adam' with a learning rate\n",
        "# of 0.001, epsilon=1e-8 and with the default values of the exponential decay rates for the first and\n",
        "# second moment estimates\n",
        "opt = tf.keras.optimizers.Adam(learning_rate=0.001,\n",
        "    beta_1=0.9,\n",
        "    beta_2=0.999,\n",
        "    epsilon=1e-8)\n",
        "\n",
        "model.compile(optimizer=opt, loss='mse')\n"
      ],
      "execution_count": 395,
      "outputs": []
    },
    {
      "cell_type": "code",
      "metadata": {
        "colab": {
          "base_uri": "https://localhost:8080/"
        },
        "id": "GBtTGU9OVddC",
        "outputId": "8dce81d7-de2a-44f6-d615-d0968e0be2f6"
      },
      "source": [
        "model.fit(time_series_generator,epochs=20)\n"
      ],
      "execution_count": 396,
      "outputs": [
        {
          "output_type": "stream",
          "name": "stdout",
          "text": [
            "Epoch 1/20\n",
            "109/109 [==============================] - 2s 4ms/step - loss: 0.1091\n",
            "Epoch 2/20\n",
            "109/109 [==============================] - 0s 3ms/step - loss: 0.0164\n",
            "Epoch 3/20\n",
            "109/109 [==============================] - 0s 3ms/step - loss: 0.0157\n",
            "Epoch 4/20\n",
            "109/109 [==============================] - 0s 3ms/step - loss: 0.0157\n",
            "Epoch 5/20\n",
            "109/109 [==============================] - 0s 3ms/step - loss: 0.0152\n",
            "Epoch 6/20\n",
            "109/109 [==============================] - 0s 3ms/step - loss: 0.0151\n",
            "Epoch 7/20\n",
            "109/109 [==============================] - 0s 3ms/step - loss: 0.0152\n",
            "Epoch 8/20\n",
            "109/109 [==============================] - 0s 3ms/step - loss: 0.0151\n",
            "Epoch 9/20\n",
            "109/109 [==============================] - 0s 3ms/step - loss: 0.0146\n",
            "Epoch 10/20\n",
            "109/109 [==============================] - 0s 3ms/step - loss: 0.0147\n",
            "Epoch 11/20\n",
            "109/109 [==============================] - 0s 3ms/step - loss: 0.0147\n",
            "Epoch 12/20\n",
            "109/109 [==============================] - 0s 3ms/step - loss: 0.0142\n",
            "Epoch 13/20\n",
            "109/109 [==============================] - 0s 3ms/step - loss: 0.0141\n",
            "Epoch 14/20\n",
            "109/109 [==============================] - 0s 3ms/step - loss: 0.0142\n",
            "Epoch 15/20\n",
            "109/109 [==============================] - 0s 3ms/step - loss: 0.0138\n",
            "Epoch 16/20\n",
            "109/109 [==============================] - 0s 3ms/step - loss: 0.0139\n",
            "Epoch 17/20\n",
            "109/109 [==============================] - 0s 3ms/step - loss: 0.0140\n",
            "Epoch 18/20\n",
            "109/109 [==============================] - 0s 3ms/step - loss: 0.0138\n",
            "Epoch 19/20\n",
            "109/109 [==============================] - 0s 3ms/step - loss: 0.0134\n",
            "Epoch 20/20\n",
            "109/109 [==============================] - 0s 3ms/step - loss: 0.0135\n"
          ]
        },
        {
          "output_type": "execute_result",
          "data": {
            "text/plain": [
              "<keras.callbacks.History at 0x7f75a27fc810>"
            ]
          },
          "metadata": {},
          "execution_count": 396
        }
      ]
    },
    {
      "cell_type": "code",
      "metadata": {
        "colab": {
          "base_uri": "https://localhost:8080/",
          "height": 209
        },
        "id": "E9WAoGxmVdgb",
        "outputId": "e48d4653-fef3-4577-b648-e0ff650cfd3e"
      },
      "source": [
        "# Training loss plot\n",
        "loss = pd.DataFrame(model.history.history)\n",
        "loss.plot()\n",
        "plt.title('LSTM Training Loss',fontweight='bold')\n",
        "plt.xlabel('Epochs',fontweight='bold')\n",
        "plt.ylabel(\"Loss-'MSE'\",fontweight='bold');\n"
      ],
      "execution_count": 397,
      "outputs": [
        {
          "output_type": "display_data",
          "data": {
            "image/png": "[encoded data removed]",
            "text/plain": [
              "<Figure size 1800x216 with 1 Axes>"
            ]
          },
          "metadata": {
            "needs_background": "light"
          }
        }
      ]
    },
    {
      "cell_type": "code",
      "metadata": {
        "id": "MWPW8fPnVYh7"
      },
      "source": [
        "# Determining all LSTM predicted values so as to compare them with the actual test values \n",
        "n_features = scaled_train_data.shape[1]\n",
        "test_outputs = []\n",
        "batch = scaled_train_data[-length:].reshape((1, length, n_features))\n",
        "\n",
        "for i in range(len(test_data)):\n",
        "    test_out = model.predict(batch)[0]\n",
        "    test_outputs.append(test_out) \n",
        "    batch = np.append(batch[:,1:,:],[[test_out]],axis=1)\n"
      ],
      "execution_count": 398,
      "outputs": []
    },
    {
      "cell_type": "code",
      "metadata": {
        "id": "UWc79s8JVYli"
      },
      "source": [
        "# Applying the inverse_transform function to the test_outputs to get their original values\n",
        "true_outputs = scaler.inverse_transform(test_outputs)\n"
      ],
      "execution_count": 399,
      "outputs": []
    },
    {
      "cell_type": "code",
      "metadata": {
        "id": "DMh-6f5WW6F7"
      },
      "source": [
        "# Converting the true_outputs from np.ndarray to pandas dataframe\n",
        "true_outputs = pd.DataFrame(data=true_outputs,columns=test_data.columns,index=test_data.index)\n"
      ],
      "execution_count": 400,
      "outputs": []
    },
    {
      "cell_type": "code",
      "metadata": {
        "colab": {
          "base_uri": "https://localhost:8080/",
          "height": 235
        },
        "id": "gN1q77p8VSl6",
        "outputId": "4417bf68-5bbf-48c0-e866-ef4d7c65e948"
      },
      "source": [
        "# Predicted values - first 5 predictions\n",
        "true_outputs.head(5)\n"
      ],
      "execution_count": 401,
      "outputs": [
        {
          "output_type": "execute_result",
          "data": {
            "text/html": [
              "<div>\n",
              "<style scoped>\n",
              "    .dataframe tbody tr th:only-of-type {\n",
              "        vertical-align: middle;\n",
              "    }\n",
              "\n",
              "    .dataframe tbody tr th {\n",
              "        vertical-align: top;\n",
              "    }\n",
              "\n",
              "    .dataframe thead th {\n",
              "        text-align: right;\n",
              "    }\n",
              "</style>\n",
              "<table border=\"1\" class=\"dataframe\">\n",
              "  <thead>\n",
              "    <tr style=\"text-align: right;\">\n",
              "      <th></th>\n",
              "      <th></th>\n",
              "      <th>NSR</th>\n",
              "    </tr>\n",
              "    <tr>\n",
              "      <th>Category</th>\n",
              "      <th>PSTG. DATE</th>\n",
              "      <th></th>\n",
              "    </tr>\n",
              "  </thead>\n",
              "  <tbody>\n",
              "    <tr>\n",
              "      <th rowspan=\"5\" valign=\"top\">HCV</th>\n",
              "      <th>2021-07-23</th>\n",
              "      <td>3.785766</td>\n",
              "    </tr>\n",
              "    <tr>\n",
              "      <th>2021-07-24</th>\n",
              "      <td>52.261339</td>\n",
              "    </tr>\n",
              "    <tr>\n",
              "      <th>2021-07-25</th>\n",
              "      <td>60.283670</td>\n",
              "    </tr>\n",
              "    <tr>\n",
              "      <th>2021-07-26</th>\n",
              "      <td>80.402043</td>\n",
              "    </tr>\n",
              "    <tr>\n",
              "      <th>2021-07-27</th>\n",
              "      <td>122.057219</td>\n",
              "    </tr>\n",
              "  </tbody>\n",
              "</table>\n",
              "</div>"
            ],
            "text/plain": [
              "                            NSR\n",
              "Category PSTG. DATE            \n",
              "HCV      2021-07-23    3.785766\n",
              "         2021-07-24   52.261339\n",
              "         2021-07-25   60.283670\n",
              "         2021-07-26   80.402043\n",
              "         2021-07-27  122.057219"
            ]
          },
          "metadata": {},
          "execution_count": 401
        }
      ]
    },
    {
      "cell_type": "markdown",
      "metadata": {
        "id": "tWuUva47Bw_w"
      },
      "source": [
        "for hcv prediction on test data"
      ]
    },
    {
      "cell_type": "code",
      "metadata": {
        "colab": {
          "base_uri": "https://localhost:8080/",
          "height": 214
        },
        "id": "MVQoMjaYXHg2",
        "outputId": "3e7e43f4-0ae2-476e-e06d-58eb318d3816"
      },
      "source": [
        "#n_lcv_df['NSR'][:-test_index].plot(linestyle='--',marker='.',label='Train',color='r')\n",
        "#test_data['NSR'].plot(linestyle='--',marker='.',label='Targets',color='g')\n",
        "#true_outputs['NSR'].plot(linestyle='--',marker='.',label='Predictions',color='b')\n",
        "pd.concat([hcv_df['NSR'],test_data['NSR'],true_outputs['NSR']],axis=1).plot()\n"
      ],
      "execution_count": 402,
      "outputs": [
        {
          "output_type": "execute_result",
          "data": {
            "text/plain": [
              "<matplotlib.axes._subplots.AxesSubplot at 0x7f75a100cd90>"
            ]
          },
          "metadata": {},
          "execution_count": 402
        },
        {
          "output_type": "display_data",
          "data": {
            "image/png": "[encoded data removed]",
            "text/plain": [
              "<Figure size 1800x216 with 1 Axes>"
            ]
          },
          "metadata": {
            "needs_background": "light"
          }
        }
      ]
    },
    {
      "cell_type": "code",
      "metadata": {
        "id": "4v5L1YGapJVD"
      },
      "source": [
        "#pip install chart_studio"
      ],
      "execution_count": 403,
      "outputs": []
    },
    {
      "cell_type": "code",
      "metadata": {
        "id": "PfxdwFFRVI5F",
        "colab": {
          "base_uri": "https://localhost:8080/",
          "height": 450
        },
        "outputId": "4f682b6e-b7c0-4d91-bc18-342a80f01507"
      },
      "source": [
        "train_data1=hcv_df\n",
        "len(train_data1)\n",
        "test_data1=90\n",
        "train_data1"
      ],
      "execution_count": 404,
      "outputs": [
        {
          "output_type": "execute_result",
          "data": {
            "text/html": [
              "<div>\n",
              "<style scoped>\n",
              "    .dataframe tbody tr th:only-of-type {\n",
              "        vertical-align: middle;\n",
              "    }\n",
              "\n",
              "    .dataframe tbody tr th {\n",
              "        vertical-align: top;\n",
              "    }\n",
              "\n",
              "    .dataframe thead th {\n",
              "        text-align: right;\n",
              "    }\n",
              "</style>\n",
              "<table border=\"1\" class=\"dataframe\">\n",
              "  <thead>\n",
              "    <tr style=\"text-align: right;\">\n",
              "      <th></th>\n",
              "      <th></th>\n",
              "      <th>NSR</th>\n",
              "    </tr>\n",
              "    <tr>\n",
              "      <th>Category</th>\n",
              "      <th>PSTG. DATE</th>\n",
              "      <th></th>\n",
              "    </tr>\n",
              "  </thead>\n",
              "  <tbody>\n",
              "    <tr>\n",
              "      <th rowspan=\"11\" valign=\"top\">HCV</th>\n",
              "      <th>2021-04-02</th>\n",
              "      <td>163</td>\n",
              "    </tr>\n",
              "    <tr>\n",
              "      <th>2021-04-03</th>\n",
              "      <td>0</td>\n",
              "    </tr>\n",
              "    <tr>\n",
              "      <th>2021-04-04</th>\n",
              "      <td>0</td>\n",
              "    </tr>\n",
              "    <tr>\n",
              "      <th>2021-04-05</th>\n",
              "      <td>114</td>\n",
              "    </tr>\n",
              "    <tr>\n",
              "      <th>2021-04-06</th>\n",
              "      <td>46</td>\n",
              "    </tr>\n",
              "    <tr>\n",
              "      <th>...</th>\n",
              "      <td>...</td>\n",
              "    </tr>\n",
              "    <tr>\n",
              "      <th>2021-08-27</th>\n",
              "      <td>135</td>\n",
              "    </tr>\n",
              "    <tr>\n",
              "      <th>2021-08-28</th>\n",
              "      <td>78</td>\n",
              "    </tr>\n",
              "    <tr>\n",
              "      <th>2021-08-29</th>\n",
              "      <td>0</td>\n",
              "    </tr>\n",
              "    <tr>\n",
              "      <th>2021-08-30</th>\n",
              "      <td>185</td>\n",
              "    </tr>\n",
              "    <tr>\n",
              "      <th>2021-08-31</th>\n",
              "      <td>1297</td>\n",
              "    </tr>\n",
              "  </tbody>\n",
              "</table>\n",
              "<p>152 rows × 1 columns</p>\n",
              "</div>"
            ],
            "text/plain": [
              "                      NSR\n",
              "Category PSTG. DATE      \n",
              "HCV      2021-04-02   163\n",
              "         2021-04-03     0\n",
              "         2021-04-04     0\n",
              "         2021-04-05   114\n",
              "         2021-04-06    46\n",
              "...                   ...\n",
              "         2021-08-27   135\n",
              "         2021-08-28    78\n",
              "         2021-08-29     0\n",
              "         2021-08-30   185\n",
              "         2021-08-31  1297\n",
              "\n",
              "[152 rows x 1 columns]"
            ]
          },
          "metadata": {},
          "execution_count": 404
        }
      ]
    },
    {
      "cell_type": "code",
      "metadata": {
        "id": "A02tDn03yE4q"
      },
      "source": [
        "train_data1 = train_data1.reset_index()  "
      ],
      "execution_count": 405,
      "outputs": []
    },
    {
      "cell_type": "code",
      "metadata": {
        "id": "UOl6Fyrtw7Hv"
      },
      "source": [
        "\n",
        "train_data_new=train_data1.append(pd.DataFrame({'PSTG. DATE': pd.date_range(start=train_data1['PSTG. DATE'].iloc[-1], periods= 80, freq='d'),'Category':'HCV'}),ignore_index = True)\n"
      ],
      "execution_count": 406,
      "outputs": []
    },
    {
      "cell_type": "code",
      "metadata": {
        "id": "AOWbQKW84h0y"
      },
      "source": [
        "train_data_new=train_data_new.set_index('PSTG. DATE').groupby('Category').resample('D').sum()\n",
        "#train_data_new"
      ],
      "execution_count": 407,
      "outputs": []
    },
    {
      "cell_type": "code",
      "metadata": {
        "id": "r37CxXra8LTS"
      },
      "source": [
        "#train_data_new.info()\n",
        "#train_data_new.info()\n",
        "train_data_new['NSR'] = train_data_new['NSR'].astype(int)\n"
      ],
      "execution_count": 408,
      "outputs": []
    },
    {
      "cell_type": "code",
      "metadata": {
        "id": "FinzRAOM4pAP"
      },
      "source": [
        "test_index=89\n",
        "full_train=train_data_new.iloc[:-test_index]\n",
        "full_test=train_data_new.iloc[-test_index:]\n"
      ],
      "execution_count": 409,
      "outputs": []
    },
    {
      "cell_type": "code",
      "metadata": {
        "colab": {
          "base_uri": "https://localhost:8080/",
          "height": 450
        },
        "id": "v8aOGBAN4jwW",
        "outputId": "6d6d80d6-0418-479d-f243-0f8ba5afaa38"
      },
      "source": [
        "full_test    #created dataframe with future dates"
      ],
      "execution_count": 410,
      "outputs": [
        {
          "output_type": "execute_result",
          "data": {
            "text/html": [
              "<div>\n",
              "<style scoped>\n",
              "    .dataframe tbody tr th:only-of-type {\n",
              "        vertical-align: middle;\n",
              "    }\n",
              "\n",
              "    .dataframe tbody tr th {\n",
              "        vertical-align: top;\n",
              "    }\n",
              "\n",
              "    .dataframe thead th {\n",
              "        text-align: right;\n",
              "    }\n",
              "</style>\n",
              "<table border=\"1\" class=\"dataframe\">\n",
              "  <thead>\n",
              "    <tr style=\"text-align: right;\">\n",
              "      <th></th>\n",
              "      <th></th>\n",
              "      <th>NSR</th>\n",
              "    </tr>\n",
              "    <tr>\n",
              "      <th>Category</th>\n",
              "      <th>PSTG. DATE</th>\n",
              "      <th></th>\n",
              "    </tr>\n",
              "  </thead>\n",
              "  <tbody>\n",
              "    <tr>\n",
              "      <th rowspan=\"11\" valign=\"top\">HCV</th>\n",
              "      <th>2021-08-22</th>\n",
              "      <td>0</td>\n",
              "    </tr>\n",
              "    <tr>\n",
              "      <th>2021-08-23</th>\n",
              "      <td>92</td>\n",
              "    </tr>\n",
              "    <tr>\n",
              "      <th>2021-08-24</th>\n",
              "      <td>91</td>\n",
              "    </tr>\n",
              "    <tr>\n",
              "      <th>2021-08-25</th>\n",
              "      <td>62</td>\n",
              "    </tr>\n",
              "    <tr>\n",
              "      <th>2021-08-26</th>\n",
              "      <td>38</td>\n",
              "    </tr>\n",
              "    <tr>\n",
              "      <th>...</th>\n",
              "      <td>...</td>\n",
              "    </tr>\n",
              "    <tr>\n",
              "      <th>2021-11-14</th>\n",
              "      <td>0</td>\n",
              "    </tr>\n",
              "    <tr>\n",
              "      <th>2021-11-15</th>\n",
              "      <td>0</td>\n",
              "    </tr>\n",
              "    <tr>\n",
              "      <th>2021-11-16</th>\n",
              "      <td>0</td>\n",
              "    </tr>\n",
              "    <tr>\n",
              "      <th>2021-11-17</th>\n",
              "      <td>0</td>\n",
              "    </tr>\n",
              "    <tr>\n",
              "      <th>2021-11-18</th>\n",
              "      <td>0</td>\n",
              "    </tr>\n",
              "  </tbody>\n",
              "</table>\n",
              "<p>89 rows × 1 columns</p>\n",
              "</div>"
            ],
            "text/plain": [
              "                     NSR\n",
              "Category PSTG. DATE     \n",
              "HCV      2021-08-22    0\n",
              "         2021-08-23   92\n",
              "         2021-08-24   91\n",
              "         2021-08-25   62\n",
              "         2021-08-26   38\n",
              "...                  ...\n",
              "         2021-11-14    0\n",
              "         2021-11-15    0\n",
              "         2021-11-16    0\n",
              "         2021-11-17    0\n",
              "         2021-11-18    0\n",
              "\n",
              "[89 rows x 1 columns]"
            ]
          },
          "metadata": {},
          "execution_count": 410
        }
      ]
    },
    {
      "cell_type": "code",
      "metadata": {
        "id": "ATJwLpEu6Hbj"
      },
      "source": [
        "from sklearn.preprocessing import MinMaxScaler\n",
        "\n",
        "scaler=MinMaxScaler()\n",
        "\n",
        "scaled_train_data_new=scaler.fit_transform(full_train)\n",
        "scaled_test_data_new=scaler.transform(full_test)\n"
      ],
      "execution_count": 411,
      "outputs": []
    },
    {
      "cell_type": "code",
      "metadata": {
        "id": "J2Ct-tCn7ZPJ"
      },
      "source": [
        "length=3\n",
        "batch_size=1\n",
        "features=scaled_train_data_new.shape[1]\n",
        "\n",
        "# Importing the keras library and the TimeseriesGenerator\n",
        "from tensorflow.keras.preprocessing.sequence import TimeseriesGenerator\n",
        "time_series_generator=TimeseriesGenerator(scaled_train_data_new,scaled_train_data_new,length=length,batch_size=batch_size)\n",
        "\n",
        "\n",
        "\n",
        "# Importing the necessary libraries to create/construct the neural network model\n",
        "from tensorflow.keras.models import Sequential\n",
        "from tensorflow.keras.layers import Dense,LSTM\n",
        "from tensorflow.keras import initializers\n",
        "\n",
        "\n",
        "\n",
        "\n",
        "import tensorflow as tf\n",
        "initializer = tf.keras.initializers.he_uniform(seed=0)\n",
        "# Initially, the network model is defined \n",
        "model = Sequential()\n"
      ],
      "execution_count": 412,
      "outputs": []
    },
    {
      "cell_type": "code",
      "metadata": {
        "colab": {
          "base_uri": "https://localhost:8080/"
        },
        "id": "-72DkOtg8Db0",
        "outputId": "9e9bdd06-7def-410a-ae69-5eb68077cb11"
      },
      "source": [
        "\n",
        "# Selected Activation function has been the rectified linear unit\n",
        "model.add(LSTM(51, activation='relu', input_shape=(length,features),kernel_initializer=initializer,\n",
        "                     bias_initializer=initializers.Constant(0.01)))\n",
        "# The output layer consists of 4 neuron (one neuron for each input feature) with a 'sigmoid' activation fuction \n",
        "model.add(Dense(features,activation='sigmoid',kernel_initializer=initializer,\n",
        "                     bias_initializer=initializers.Constant(0.01)))\n",
        "# The model is compiled with selected loss function= 'mse', whereas the selected optimizer is 'adam' with a learning rate\n",
        "# of 0.001, epsilon=1e-8 and with the default values of the exponential decay rates for the first and\n",
        "# second moment estimates\n",
        "opt = tf.keras.optimizers.Adam(learning_rate=0.001,\n",
        "    beta_1=0.9,\n",
        "    beta_2=0.999,\n",
        "    epsilon=1e-8)\n",
        "\n",
        "model.compile(optimizer=opt, loss='mse')\n",
        "\n",
        "\n",
        "\n",
        "\n",
        "model.fit(time_series_generator,epochs=20)\n"
      ],
      "execution_count": 413,
      "outputs": [
        {
          "output_type": "stream",
          "name": "stdout",
          "text": [
            "Epoch 1/20\n",
            "139/139 [==============================] - 2s 4ms/step - loss: 0.1051\n",
            "Epoch 2/20\n",
            "139/139 [==============================] - 1s 4ms/step - loss: 0.0174\n",
            "Epoch 3/20\n",
            "139/139 [==============================] - 1s 4ms/step - loss: 0.0172\n",
            "Epoch 4/20\n",
            "139/139 [==============================] - 1s 4ms/step - loss: 0.0169\n",
            "Epoch 5/20\n",
            "139/139 [==============================] - 1s 4ms/step - loss: 0.0167\n",
            "Epoch 6/20\n",
            "139/139 [==============================] - 1s 4ms/step - loss: 0.0167\n",
            "Epoch 7/20\n",
            "139/139 [==============================] - 1s 4ms/step - loss: 0.0164\n",
            "Epoch 8/20\n",
            "139/139 [==============================] - 1s 4ms/step - loss: 0.0162\n",
            "Epoch 9/20\n",
            "139/139 [==============================] - 1s 4ms/step - loss: 0.0164\n",
            "Epoch 10/20\n",
            "139/139 [==============================] - 1s 4ms/step - loss: 0.0162\n",
            "Epoch 11/20\n",
            "139/139 [==============================] - 1s 4ms/step - loss: 0.0156\n",
            "Epoch 12/20\n",
            "139/139 [==============================] - 1s 4ms/step - loss: 0.0161\n",
            "Epoch 13/20\n",
            "139/139 [==============================] - 1s 4ms/step - loss: 0.0159\n",
            "Epoch 14/20\n",
            "139/139 [==============================] - 1s 4ms/step - loss: 0.0161\n",
            "Epoch 15/20\n",
            "139/139 [==============================] - 1s 4ms/step - loss: 0.0156\n",
            "Epoch 16/20\n",
            "139/139 [==============================] - 1s 4ms/step - loss: 0.0156\n",
            "Epoch 17/20\n",
            "139/139 [==============================] - 0s 3ms/step - loss: 0.0155\n",
            "Epoch 18/20\n",
            "139/139 [==============================] - 0s 3ms/step - loss: 0.0153\n",
            "Epoch 19/20\n",
            "139/139 [==============================] - 0s 3ms/step - loss: 0.0155\n",
            "Epoch 20/20\n",
            "139/139 [==============================] - 0s 3ms/step - loss: 0.0150\n"
          ]
        },
        {
          "output_type": "execute_result",
          "data": {
            "text/plain": [
              "<keras.callbacks.History at 0x7f75a2471a90>"
            ]
          },
          "metadata": {},
          "execution_count": 413
        }
      ]
    },
    {
      "cell_type": "code",
      "metadata": {
        "colab": {
          "base_uri": "https://localhost:8080/",
          "height": 390
        },
        "id": "izs2saqn9iww",
        "outputId": "59c31ff7-03d7-484f-a7bc-1e0362bd7c53"
      },
      "source": [
        "# Determining all LSTM predicted values so as to compare them with the actual test values \n",
        "n_features = scaled_train_data.shape[1]\n",
        "test_outputs = []\n",
        "batch = scaled_train_data_new[-length:].reshape((1, length, n_features))\n",
        "\n",
        "for i in range(len(full_test)):\n",
        "    test_out = model.predict(batch)[0]\n",
        "    test_outputs.append(test_out) \n",
        "    batch = np.append(batch[:,1:,:],[[test_out]],axis=1)\n",
        "\n",
        "\n",
        "# Applying the inverse_transform function to the test_outputs to get their original values\n",
        "true_outputs1 = scaler.inverse_transform(test_outputs)\n",
        "\n",
        "\n",
        "\n",
        "# Converting the true_outputs from np.ndarray to pandas dataframe\n",
        "true_outputs1 = pd.DataFrame(data=true_outputs1,columns=full_test.columns,index=full_test.index)\n",
        "\n",
        "# Predicted values \n",
        "\n",
        "true_outputs1.head(10)\n",
        "\n"
      ],
      "execution_count": 414,
      "outputs": [
        {
          "output_type": "execute_result",
          "data": {
            "text/html": [
              "<div>\n",
              "<style scoped>\n",
              "    .dataframe tbody tr th:only-of-type {\n",
              "        vertical-align: middle;\n",
              "    }\n",
              "\n",
              "    .dataframe tbody tr th {\n",
              "        vertical-align: top;\n",
              "    }\n",
              "\n",
              "    .dataframe thead th {\n",
              "        text-align: right;\n",
              "    }\n",
              "</style>\n",
              "<table border=\"1\" class=\"dataframe\">\n",
              "  <thead>\n",
              "    <tr style=\"text-align: right;\">\n",
              "      <th></th>\n",
              "      <th></th>\n",
              "      <th>NSR</th>\n",
              "    </tr>\n",
              "    <tr>\n",
              "      <th>Category</th>\n",
              "      <th>PSTG. DATE</th>\n",
              "      <th></th>\n",
              "    </tr>\n",
              "  </thead>\n",
              "  <tbody>\n",
              "    <tr>\n",
              "      <th rowspan=\"10\" valign=\"top\">HCV</th>\n",
              "      <th>2021-08-22</th>\n",
              "      <td>94.662149</td>\n",
              "    </tr>\n",
              "    <tr>\n",
              "      <th>2021-08-23</th>\n",
              "      <td>106.001138</td>\n",
              "    </tr>\n",
              "    <tr>\n",
              "      <th>2021-08-24</th>\n",
              "      <td>138.783272</td>\n",
              "    </tr>\n",
              "    <tr>\n",
              "      <th>2021-08-25</th>\n",
              "      <td>198.492624</td>\n",
              "    </tr>\n",
              "    <tr>\n",
              "      <th>2021-08-26</th>\n",
              "      <td>198.767352</td>\n",
              "    </tr>\n",
              "    <tr>\n",
              "      <th>2021-08-27</th>\n",
              "      <td>188.433288</td>\n",
              "    </tr>\n",
              "    <tr>\n",
              "      <th>2021-08-28</th>\n",
              "      <td>176.714460</td>\n",
              "    </tr>\n",
              "    <tr>\n",
              "      <th>2021-08-29</th>\n",
              "      <td>179.592782</td>\n",
              "    </tr>\n",
              "    <tr>\n",
              "      <th>2021-08-30</th>\n",
              "      <td>183.834752</td>\n",
              "    </tr>\n",
              "    <tr>\n",
              "      <th>2021-08-31</th>\n",
              "      <td>185.654133</td>\n",
              "    </tr>\n",
              "  </tbody>\n",
              "</table>\n",
              "</div>"
            ],
            "text/plain": [
              "                            NSR\n",
              "Category PSTG. DATE            \n",
              "HCV      2021-08-22   94.662149\n",
              "         2021-08-23  106.001138\n",
              "         2021-08-24  138.783272\n",
              "         2021-08-25  198.492624\n",
              "         2021-08-26  198.767352\n",
              "         2021-08-27  188.433288\n",
              "         2021-08-28  176.714460\n",
              "         2021-08-29  179.592782\n",
              "         2021-08-30  183.834752\n",
              "         2021-08-31  185.654133"
            ]
          },
          "metadata": {},
          "execution_count": 414
        }
      ]
    },
    {
      "cell_type": "code",
      "metadata": {
        "id": "A4tC5a2Aa1RM"
      },
      "source": [
        ""
      ],
      "execution_count": 414,
      "outputs": []
    },
    {
      "cell_type": "code",
      "metadata": {
        "colab": {
          "base_uri": "https://localhost:8080/",
          "height": 214
        },
        "id": "hSoMrTJ8ASIk",
        "outputId": "4f8f0903-4274-40a1-e764-69e953ddab86"
      },
      "source": [
        "pd.concat([train_data_new['NSR'],true_outputs1['NSR']],axis=1).plot()\n"
      ],
      "execution_count": 415,
      "outputs": [
        {
          "output_type": "execute_result",
          "data": {
            "text/plain": [
              "<matplotlib.axes._subplots.AxesSubplot at 0x7f75a24d2a90>"
            ]
          },
          "metadata": {},
          "execution_count": 415
        },
        {
          "output_type": "display_data",
          "data": {
            "image/png": "[encoded data removed]",
            "text/plain": [
              "<Figure size 1800x216 with 1 Axes>"
            ]
          },
          "metadata": {
            "needs_background": "light"
          }
        }
      ]
    }
  ]
}