{
  "nbformat": 4,
  "nbformat_minor": 0,
  "metadata": {
    "colab": {
      "name": "bus1_ lstm_final.ipynb",
      "provenance": [],
      "collapsed_sections": [],
      "authorship_tag": "ABX9TyMM56FV6do+WuMrx+YdzASg",
      "include_colab_link": true
    },
    "kernelspec": {
      "name": "python3",
      "display_name": "Python 3"
    },
    "language_info": {
      "name": "python"
    }
  },
  "cells": [
    {
      "cell_type": "markdown",
      "metadata": {
        "id": "view-in-github",
        "colab_type": "text"
      },
      "source": [
        "<a href=\"https://colab.research.google.com/github/ayuti/project_list/blob/master/bus1__lstm_final.ipynb\" target=\"_parent\"><img src=\"https://colab.research.google.com/assets/colab-badge.svg\" alt=\"Open In Colab\"/></a>"
      ]
    },
    {
      "cell_type": "code",
      "metadata": {
        "id": "66lPYs1QTTDR"
      },
      "source": [
        "# Importing the necessary libraries\n",
        "import numpy as np\n",
        "import pandas as pd\n",
        "import matplotlib.pyplot as plt\n",
        "import seaborn as sns\n",
        "from datetime import datetime\n"
      ],
      "execution_count": 1,
      "outputs": []
    },
    {
      "cell_type": "code",
      "metadata": {
        "colab": {
          "base_uri": "https://localhost:8080/",
          "height": 204
        },
        "id": "ZOasHVRLTeaH",
        "outputId": "679ab6ca-db9d-475f-fcf7-8beeca32dc04"
      },
      "source": [
        "df = pd.read_excel(r'category_nsr_aug.xlsx')\n",
        "\n",
        "df.head(5)\n"
      ],
      "execution_count": 2,
      "outputs": [
        {
          "output_type": "execute_result",
          "data": {
            "text/html": [
              "<div>\n",
              "<style scoped>\n",
              "    .dataframe tbody tr th:only-of-type {\n",
              "        vertical-align: middle;\n",
              "    }\n",
              "\n",
              "    .dataframe tbody tr th {\n",
              "        vertical-align: top;\n",
              "    }\n",
              "\n",
              "    .dataframe thead th {\n",
              "        text-align: right;\n",
              "    }\n",
              "</style>\n",
              "<table border=\"1\" class=\"dataframe\">\n",
              "  <thead>\n",
              "    <tr style=\"text-align: right;\">\n",
              "      <th></th>\n",
              "      <th>PSTG. DATE</th>\n",
              "      <th>Category</th>\n",
              "      <th>NSR</th>\n",
              "    </tr>\n",
              "  </thead>\n",
              "  <tbody>\n",
              "    <tr>\n",
              "      <th>0</th>\n",
              "      <td>2021-04-02</td>\n",
              "      <td>HCV</td>\n",
              "      <td>20.014434</td>\n",
              "    </tr>\n",
              "    <tr>\n",
              "      <th>1</th>\n",
              "      <td>2021-04-02</td>\n",
              "      <td>HCV</td>\n",
              "      <td>25.567178</td>\n",
              "    </tr>\n",
              "    <tr>\n",
              "      <th>2</th>\n",
              "      <td>2021-04-02</td>\n",
              "      <td>HCV</td>\n",
              "      <td>25.833700</td>\n",
              "    </tr>\n",
              "    <tr>\n",
              "      <th>3</th>\n",
              "      <td>2021-04-02</td>\n",
              "      <td>HCV</td>\n",
              "      <td>25.373057</td>\n",
              "    </tr>\n",
              "    <tr>\n",
              "      <th>4</th>\n",
              "      <td>2021-04-02</td>\n",
              "      <td>HCV</td>\n",
              "      <td>21.368760</td>\n",
              "    </tr>\n",
              "  </tbody>\n",
              "</table>\n",
              "</div>"
            ],
            "text/plain": [
              "  PSTG. DATE Category        NSR\n",
              "0 2021-04-02      HCV  20.014434\n",
              "1 2021-04-02      HCV  25.567178\n",
              "2 2021-04-02      HCV  25.833700\n",
              "3 2021-04-02      HCV  25.373057\n",
              "4 2021-04-02      HCV  21.368760"
            ]
          },
          "metadata": {},
          "execution_count": 2
        }
      ]
    },
    {
      "cell_type": "code",
      "metadata": {
        "colab": {
          "base_uri": "https://localhost:8080/"
        },
        "id": "yy5B2MFNTecb",
        "outputId": "9a6a102b-7167-4d60-cd5d-cff692c5f63e"
      },
      "source": [
        "df.info()"
      ],
      "execution_count": 3,
      "outputs": [
        {
          "output_type": "stream",
          "name": "stdout",
          "text": [
            "<class 'pandas.core.frame.DataFrame'>\n",
            "RangeIndex: 1074 entries, 0 to 1073\n",
            "Data columns (total 3 columns):\n",
            " #   Column      Non-Null Count  Dtype         \n",
            "---  ------      --------------  -----         \n",
            " 0   PSTG. DATE  1074 non-null   datetime64[ns]\n",
            " 1   Category    1074 non-null   object        \n",
            " 2   NSR         1074 non-null   float64       \n",
            "dtypes: datetime64[ns](1), float64(1), object(1)\n",
            "memory usage: 25.3+ KB\n"
          ]
        }
      ]
    },
    {
      "cell_type": "code",
      "metadata": {
        "colab": {
          "base_uri": "https://localhost:8080/"
        },
        "id": "oQZxmhjYTefv",
        "outputId": "fbae5e5e-b61a-4c08-eca6-958a15a590fc"
      },
      "source": [
        "df['Category'] = df['Category'].astype('string')\n",
        "\n",
        "df['NSR'] = df['NSR'].astype(int)\n",
        "\n",
        "df.dtypes\n"
      ],
      "execution_count": 4,
      "outputs": [
        {
          "output_type": "execute_result",
          "data": {
            "text/plain": [
              "PSTG. DATE    datetime64[ns]\n",
              "Category              string\n",
              "NSR                    int64\n",
              "dtype: object"
            ]
          },
          "metadata": {},
          "execution_count": 4
        }
      ]
    },
    {
      "cell_type": "code",
      "metadata": {
        "colab": {
          "base_uri": "https://localhost:8080/"
        },
        "id": "jWg_JCD5TrG1",
        "outputId": "4643e5dd-2d35-4d6a-d943-59f125cc638f"
      },
      "source": [
        "df['Category'].value_counts()"
      ],
      "execution_count": 5,
      "outputs": [
        {
          "output_type": "execute_result",
          "data": {
            "text/plain": [
              "HCV      471\n",
              "ICV      271\n",
              "LCV      239\n",
              "N LCV     68\n",
              "Bus       25\n",
              "Name: Category, dtype: Int64"
            ]
          },
          "metadata": {},
          "execution_count": 5
        }
      ]
    },
    {
      "cell_type": "code",
      "metadata": {
        "colab": {
          "base_uri": "https://localhost:8080/",
          "height": 204
        },
        "id": "ro7go9gwTvGI",
        "outputId": "cd70e977-b291-4a10-a0c4-61b790950171"
      },
      "source": [
        "# Features\n",
        "features_considered = ['PSTG. DATE', 'Category','NSR']\n",
        "\n",
        "features = df[features_considered]\n",
        "#features.index = df['Date Time']\n",
        "features.head()\n"
      ],
      "execution_count": 6,
      "outputs": [
        {
          "output_type": "execute_result",
          "data": {
            "text/html": [
              "<div>\n",
              "<style scoped>\n",
              "    .dataframe tbody tr th:only-of-type {\n",
              "        vertical-align: middle;\n",
              "    }\n",
              "\n",
              "    .dataframe tbody tr th {\n",
              "        vertical-align: top;\n",
              "    }\n",
              "\n",
              "    .dataframe thead th {\n",
              "        text-align: right;\n",
              "    }\n",
              "</style>\n",
              "<table border=\"1\" class=\"dataframe\">\n",
              "  <thead>\n",
              "    <tr style=\"text-align: right;\">\n",
              "      <th></th>\n",
              "      <th>PSTG. DATE</th>\n",
              "      <th>Category</th>\n",
              "      <th>NSR</th>\n",
              "    </tr>\n",
              "  </thead>\n",
              "  <tbody>\n",
              "    <tr>\n",
              "      <th>0</th>\n",
              "      <td>2021-04-02</td>\n",
              "      <td>HCV</td>\n",
              "      <td>20</td>\n",
              "    </tr>\n",
              "    <tr>\n",
              "      <th>1</th>\n",
              "      <td>2021-04-02</td>\n",
              "      <td>HCV</td>\n",
              "      <td>25</td>\n",
              "    </tr>\n",
              "    <tr>\n",
              "      <th>2</th>\n",
              "      <td>2021-04-02</td>\n",
              "      <td>HCV</td>\n",
              "      <td>25</td>\n",
              "    </tr>\n",
              "    <tr>\n",
              "      <th>3</th>\n",
              "      <td>2021-04-02</td>\n",
              "      <td>HCV</td>\n",
              "      <td>25</td>\n",
              "    </tr>\n",
              "    <tr>\n",
              "      <th>4</th>\n",
              "      <td>2021-04-02</td>\n",
              "      <td>HCV</td>\n",
              "      <td>21</td>\n",
              "    </tr>\n",
              "  </tbody>\n",
              "</table>\n",
              "</div>"
            ],
            "text/plain": [
              "  PSTG. DATE Category  NSR\n",
              "0 2021-04-02      HCV   20\n",
              "1 2021-04-02      HCV   25\n",
              "2 2021-04-02      HCV   25\n",
              "3 2021-04-02      HCV   25\n",
              "4 2021-04-02      HCV   21"
            ]
          },
          "metadata": {},
          "execution_count": 6
        }
      ]
    },
    {
      "cell_type": "code",
      "metadata": {
        "colab": {
          "base_uri": "https://localhost:8080/",
          "height": 450
        },
        "id": "a3hvFhb0T4Sw",
        "outputId": "4d85ac41-4f49-4ba9-b0aa-445998289fa4"
      },
      "source": [
        "category_df=features.set_index('PSTG. DATE').groupby('Category').resample('D').sum()\n",
        "category_df"
      ],
      "execution_count": 7,
      "outputs": [
        {
          "output_type": "execute_result",
          "data": {
            "text/html": [
              "<div>\n",
              "<style scoped>\n",
              "    .dataframe tbody tr th:only-of-type {\n",
              "        vertical-align: middle;\n",
              "    }\n",
              "\n",
              "    .dataframe tbody tr th {\n",
              "        vertical-align: top;\n",
              "    }\n",
              "\n",
              "    .dataframe thead th {\n",
              "        text-align: right;\n",
              "    }\n",
              "</style>\n",
              "<table border=\"1\" class=\"dataframe\">\n",
              "  <thead>\n",
              "    <tr style=\"text-align: right;\">\n",
              "      <th></th>\n",
              "      <th></th>\n",
              "      <th>NSR</th>\n",
              "    </tr>\n",
              "    <tr>\n",
              "      <th>Category</th>\n",
              "      <th>PSTG. DATE</th>\n",
              "      <th></th>\n",
              "    </tr>\n",
              "  </thead>\n",
              "  <tbody>\n",
              "    <tr>\n",
              "      <th rowspan=\"5\" valign=\"top\">Bus</th>\n",
              "      <th>2021-04-07</th>\n",
              "      <td>11</td>\n",
              "    </tr>\n",
              "    <tr>\n",
              "      <th>2021-04-08</th>\n",
              "      <td>0</td>\n",
              "    </tr>\n",
              "    <tr>\n",
              "      <th>2021-04-09</th>\n",
              "      <td>0</td>\n",
              "    </tr>\n",
              "    <tr>\n",
              "      <th>2021-04-10</th>\n",
              "      <td>0</td>\n",
              "    </tr>\n",
              "    <tr>\n",
              "      <th>2021-04-11</th>\n",
              "      <td>0</td>\n",
              "    </tr>\n",
              "    <tr>\n",
              "      <th>...</th>\n",
              "      <th>...</th>\n",
              "      <td>...</td>\n",
              "    </tr>\n",
              "    <tr>\n",
              "      <th rowspan=\"5\" valign=\"top\">N LCV</th>\n",
              "      <th>2021-08-27</th>\n",
              "      <td>0</td>\n",
              "    </tr>\n",
              "    <tr>\n",
              "      <th>2021-08-28</th>\n",
              "      <td>20</td>\n",
              "    </tr>\n",
              "    <tr>\n",
              "      <th>2021-08-29</th>\n",
              "      <td>0</td>\n",
              "    </tr>\n",
              "    <tr>\n",
              "      <th>2021-08-30</th>\n",
              "      <td>30</td>\n",
              "    </tr>\n",
              "    <tr>\n",
              "      <th>2021-08-31</th>\n",
              "      <td>96</td>\n",
              "    </tr>\n",
              "  </tbody>\n",
              "</table>\n",
              "<p>730 rows × 1 columns</p>\n",
              "</div>"
            ],
            "text/plain": [
              "                     NSR\n",
              "Category PSTG. DATE     \n",
              "Bus      2021-04-07   11\n",
              "         2021-04-08    0\n",
              "         2021-04-09    0\n",
              "         2021-04-10    0\n",
              "         2021-04-11    0\n",
              "...                  ...\n",
              "N LCV    2021-08-27    0\n",
              "         2021-08-28   20\n",
              "         2021-08-29    0\n",
              "         2021-08-30   30\n",
              "         2021-08-31   96\n",
              "\n",
              "[730 rows x 1 columns]"
            ]
          },
          "metadata": {},
          "execution_count": 7
        }
      ]
    },
    {
      "cell_type": "code",
      "metadata": {
        "colab": {
          "base_uri": "https://localhost:8080/",
          "height": 214
        },
        "id": "6YOjb9wmT-Zp",
        "outputId": "25a2ce7b-75f4-465f-907b-5dc4c5cf2fd9"
      },
      "source": [
        "plt.rcParams[\"figure.figsize\"] = (25,3)\n",
        "category_df.query('Category==\"Bus\"')[['NSR']].plot()\n"
      ],
      "execution_count": 8,
      "outputs": [
        {
          "output_type": "execute_result",
          "data": {
            "text/plain": [
              "<matplotlib.axes._subplots.AxesSubplot at 0x7f21b64a2c10>"
            ]
          },
          "metadata": {},
          "execution_count": 8
        },
        {
          "output_type": "display_data",
          "data": {
            "image/png": "[encoded data removed]",
            "text/plain": [
              "<Figure size 1800x216 with 1 Axes>"
            ]
          },
          "metadata": {
            "needs_background": "light"
          }
        }
      ]
    },
    {
      "cell_type": "code",
      "metadata": {
        "colab": {
          "base_uri": "https://localhost:8080/",
          "height": 450
        },
        "id": "FNpjKA0WT-nt",
        "outputId": "2282330b-b33f-4e23-acca-bdde65c4e2ed"
      },
      "source": [
        "bus_df=category_df.query('Category==\"Bus\"')[['NSR']]\n",
        "\n",
        "bus_df"
      ],
      "execution_count": 9,
      "outputs": [
        {
          "output_type": "execute_result",
          "data": {
            "text/html": [
              "<div>\n",
              "<style scoped>\n",
              "    .dataframe tbody tr th:only-of-type {\n",
              "        vertical-align: middle;\n",
              "    }\n",
              "\n",
              "    .dataframe tbody tr th {\n",
              "        vertical-align: top;\n",
              "    }\n",
              "\n",
              "    .dataframe thead th {\n",
              "        text-align: right;\n",
              "    }\n",
              "</style>\n",
              "<table border=\"1\" class=\"dataframe\">\n",
              "  <thead>\n",
              "    <tr style=\"text-align: right;\">\n",
              "      <th></th>\n",
              "      <th></th>\n",
              "      <th>NSR</th>\n",
              "    </tr>\n",
              "    <tr>\n",
              "      <th>Category</th>\n",
              "      <th>PSTG. DATE</th>\n",
              "      <th></th>\n",
              "    </tr>\n",
              "  </thead>\n",
              "  <tbody>\n",
              "    <tr>\n",
              "      <th rowspan=\"11\" valign=\"top\">Bus</th>\n",
              "      <th>2021-04-07</th>\n",
              "      <td>11</td>\n",
              "    </tr>\n",
              "    <tr>\n",
              "      <th>2021-04-08</th>\n",
              "      <td>0</td>\n",
              "    </tr>\n",
              "    <tr>\n",
              "      <th>2021-04-09</th>\n",
              "      <td>0</td>\n",
              "    </tr>\n",
              "    <tr>\n",
              "      <th>2021-04-10</th>\n",
              "      <td>0</td>\n",
              "    </tr>\n",
              "    <tr>\n",
              "      <th>2021-04-11</th>\n",
              "      <td>0</td>\n",
              "    </tr>\n",
              "    <tr>\n",
              "      <th>...</th>\n",
              "      <td>...</td>\n",
              "    </tr>\n",
              "    <tr>\n",
              "      <th>2021-08-27</th>\n",
              "      <td>0</td>\n",
              "    </tr>\n",
              "    <tr>\n",
              "      <th>2021-08-28</th>\n",
              "      <td>0</td>\n",
              "    </tr>\n",
              "    <tr>\n",
              "      <th>2021-08-29</th>\n",
              "      <td>0</td>\n",
              "    </tr>\n",
              "    <tr>\n",
              "      <th>2021-08-30</th>\n",
              "      <td>10</td>\n",
              "    </tr>\n",
              "    <tr>\n",
              "      <th>2021-08-31</th>\n",
              "      <td>10</td>\n",
              "    </tr>\n",
              "  </tbody>\n",
              "</table>\n",
              "<p>147 rows × 1 columns</p>\n",
              "</div>"
            ],
            "text/plain": [
              "                     NSR\n",
              "Category PSTG. DATE     \n",
              "Bus      2021-04-07   11\n",
              "         2021-04-08    0\n",
              "         2021-04-09    0\n",
              "         2021-04-10    0\n",
              "         2021-04-11    0\n",
              "...                  ...\n",
              "         2021-08-27    0\n",
              "         2021-08-28    0\n",
              "         2021-08-29    0\n",
              "         2021-08-30   10\n",
              "         2021-08-31   10\n",
              "\n",
              "[147 rows x 1 columns]"
            ]
          },
          "metadata": {},
          "execution_count": 9
        }
      ]
    },
    {
      "cell_type": "code",
      "metadata": {
        "colab": {
          "base_uri": "https://localhost:8080/"
        },
        "id": "gGJyblo5UZGT",
        "outputId": "f54fe062-246a-4e90-e624-d9d300fce91d"
      },
      "source": [
        "len(bus_df)\n"
      ],
      "execution_count": 10,
      "outputs": [
        {
          "output_type": "execute_result",
          "data": {
            "text/plain": [
              "147"
            ]
          },
          "metadata": {},
          "execution_count": 10
        }
      ]
    },
    {
      "cell_type": "code",
      "metadata": {
        "colab": {
          "base_uri": "https://localhost:8080/"
        },
        "id": "VaiZ8D7uUZJz",
        "outputId": "95619822-6775-4d69-bb06-ce0f0bb441e7"
      },
      "source": [
        "test_index=30\n",
        "train_data=bus_df.iloc[:-test_index]\n",
        "test_data=bus_df.iloc[-test_index:]\n",
        "\n",
        "print(len(train_data),len(test_data))"
      ],
      "execution_count": 11,
      "outputs": [
        {
          "output_type": "stream",
          "name": "stdout",
          "text": [
            "117 30\n"
          ]
        }
      ]
    },
    {
      "cell_type": "code",
      "metadata": {
        "colab": {
          "base_uri": "https://localhost:8080/",
          "height": 390
        },
        "id": "NZ5N4P1yXdIf",
        "outputId": "828a9eb8-a862-4c22-d8f5-764bdc51e09f"
      },
      "source": [
        "test_data.head(10)"
      ],
      "execution_count": 38,
      "outputs": [
        {
          "output_type": "execute_result",
          "data": {
            "text/html": [
              "<div>\n",
              "<style scoped>\n",
              "    .dataframe tbody tr th:only-of-type {\n",
              "        vertical-align: middle;\n",
              "    }\n",
              "\n",
              "    .dataframe tbody tr th {\n",
              "        vertical-align: top;\n",
              "    }\n",
              "\n",
              "    .dataframe thead th {\n",
              "        text-align: right;\n",
              "    }\n",
              "</style>\n",
              "<table border=\"1\" class=\"dataframe\">\n",
              "  <thead>\n",
              "    <tr style=\"text-align: right;\">\n",
              "      <th></th>\n",
              "      <th></th>\n",
              "      <th>NSR</th>\n",
              "    </tr>\n",
              "    <tr>\n",
              "      <th>Category</th>\n",
              "      <th>PSTG. DATE</th>\n",
              "      <th></th>\n",
              "    </tr>\n",
              "  </thead>\n",
              "  <tbody>\n",
              "    <tr>\n",
              "      <th rowspan=\"10\" valign=\"top\">Bus</th>\n",
              "      <th>2021-08-02</th>\n",
              "      <td>0</td>\n",
              "    </tr>\n",
              "    <tr>\n",
              "      <th>2021-08-03</th>\n",
              "      <td>0</td>\n",
              "    </tr>\n",
              "    <tr>\n",
              "      <th>2021-08-04</th>\n",
              "      <td>0</td>\n",
              "    </tr>\n",
              "    <tr>\n",
              "      <th>2021-08-05</th>\n",
              "      <td>0</td>\n",
              "    </tr>\n",
              "    <tr>\n",
              "      <th>2021-08-06</th>\n",
              "      <td>0</td>\n",
              "    </tr>\n",
              "    <tr>\n",
              "      <th>2021-08-07</th>\n",
              "      <td>0</td>\n",
              "    </tr>\n",
              "    <tr>\n",
              "      <th>2021-08-08</th>\n",
              "      <td>0</td>\n",
              "    </tr>\n",
              "    <tr>\n",
              "      <th>2021-08-09</th>\n",
              "      <td>0</td>\n",
              "    </tr>\n",
              "    <tr>\n",
              "      <th>2021-08-10</th>\n",
              "      <td>0</td>\n",
              "    </tr>\n",
              "    <tr>\n",
              "      <th>2021-08-11</th>\n",
              "      <td>0</td>\n",
              "    </tr>\n",
              "  </tbody>\n",
              "</table>\n",
              "</div>"
            ],
            "text/plain": [
              "                     NSR\n",
              "Category PSTG. DATE     \n",
              "Bus      2021-08-02    0\n",
              "         2021-08-03    0\n",
              "         2021-08-04    0\n",
              "         2021-08-05    0\n",
              "         2021-08-06    0\n",
              "         2021-08-07    0\n",
              "         2021-08-08    0\n",
              "         2021-08-09    0\n",
              "         2021-08-10    0\n",
              "         2021-08-11    0"
            ]
          },
          "metadata": {},
          "execution_count": 38
        }
      ]
    },
    {
      "cell_type": "code",
      "metadata": {
        "id": "r7hLftnpT-rH"
      },
      "source": [
        "from sklearn.preprocessing import MinMaxScaler\n",
        "\n",
        "scaler=MinMaxScaler()\n",
        "\n",
        "scaled_train_data=scaler.fit_transform(train_data)\n",
        "scaled_test_data=scaler.transform(test_data)\n"
      ],
      "execution_count": 13,
      "outputs": []
    },
    {
      "cell_type": "code",
      "metadata": {
        "id": "SKCjuWACT4xK"
      },
      "source": [
        "length=3\n",
        "batch_size=1\n",
        "features=scaled_train_data.shape[1]\n"
      ],
      "execution_count": 14,
      "outputs": []
    },
    {
      "cell_type": "code",
      "metadata": {
        "id": "Zh0s07aQVI1j"
      },
      "source": [
        "# Importing the keras library and the TimeseriesGenerator\n",
        "from tensorflow.keras.preprocessing.sequence import TimeseriesGenerator\n",
        "\n",
        "time_series_generator=TimeseriesGenerator(scaled_train_data,scaled_train_data,length=length,batch_size=batch_size)\n"
      ],
      "execution_count": 15,
      "outputs": []
    },
    {
      "cell_type": "code",
      "metadata": {
        "id": "Om-HixnBVSiU"
      },
      "source": [
        "# Importing the necessary libraries to create/construct the neural network model\n",
        "from tensorflow.keras.models import Sequential\n",
        "from tensorflow.keras.layers import Dense,LSTM\n",
        "from tensorflow.keras import initializers\n"
      ],
      "execution_count": 16,
      "outputs": []
    },
    {
      "cell_type": "code",
      "metadata": {
        "id": "eSm9MzefVYfi"
      },
      "source": [
        "import tensorflow as tf\n",
        "initializer = tf.keras.initializers.he_uniform(seed=0)\n",
        "# Initially, the network model is defined \n",
        "model = Sequential()\n",
        "\n",
        "# Hidden layer neurons are chosen to be 51 equal to the defined length (number of past time series data per batch)\n",
        "# Selected Activation function has been the rectified linear unit\n",
        "model.add(LSTM(51, activation='relu', input_shape=(length,features),kernel_initializer=initializer,\n",
        "                     bias_initializer=initializers.Constant(0.01)))\n",
        "# The output layer consists of 4 neuron (one neuron for each input feature) with a 'sigmoid' activation fuction \n",
        "model.add(Dense(features,activation='sigmoid',kernel_initializer=initializer,\n",
        "                     bias_initializer=initializers.Constant(0.01)))\n",
        "# The model is compiled with selected loss function= 'mse', whereas the selected optimizer is 'adam' with a learning rate\n",
        "# of 0.001, epsilon=1e-8 and with the default values of the exponential decay rates for the first and\n",
        "# second moment estimates\n",
        "opt = tf.keras.optimizers.Adam(learning_rate=0.001,\n",
        "    beta_1=0.9,\n",
        "    beta_2=0.999,\n",
        "    epsilon=1e-8)\n",
        "\n",
        "model.compile(optimizer=opt, loss='mse')\n"
      ],
      "execution_count": 17,
      "outputs": []
    },
    {
      "cell_type": "code",
      "metadata": {
        "colab": {
          "base_uri": "https://localhost:8080/"
        },
        "id": "GBtTGU9OVddC",
        "outputId": "4d002c8a-4234-417d-ba29-55a515128823"
      },
      "source": [
        "model.fit(time_series_generator,epochs=20)\n"
      ],
      "execution_count": 18,
      "outputs": [
        {
          "output_type": "stream",
          "name": "stdout",
          "text": [
            "Epoch 1/20\n",
            "114/114 [==============================] - 2s 3ms/step - loss: 0.0107\n",
            "Epoch 2/20\n",
            "114/114 [==============================] - 0s 3ms/step - loss: 0.0102\n",
            "Epoch 3/20\n",
            "114/114 [==============================] - 0s 3ms/step - loss: 0.0109\n",
            "Epoch 4/20\n",
            "114/114 [==============================] - 0s 3ms/step - loss: 0.0104\n",
            "Epoch 5/20\n",
            "114/114 [==============================] - 0s 3ms/step - loss: 0.0100\n",
            "Epoch 6/20\n",
            "114/114 [==============================] - 0s 4ms/step - loss: 0.0100\n",
            "Epoch 7/20\n",
            "114/114 [==============================] - 0s 3ms/step - loss: 0.0105\n",
            "Epoch 8/20\n",
            "114/114 [==============================] - 0s 3ms/step - loss: 0.0102\n",
            "Epoch 9/20\n",
            "114/114 [==============================] - 0s 3ms/step - loss: 0.0103\n",
            "Epoch 10/20\n",
            "114/114 [==============================] - 0s 3ms/step - loss: 0.0101\n",
            "Epoch 11/20\n",
            "114/114 [==============================] - 0s 3ms/step - loss: 0.0103\n",
            "Epoch 12/20\n",
            "114/114 [==============================] - 0s 3ms/step - loss: 0.0103\n",
            "Epoch 13/20\n",
            "114/114 [==============================] - 0s 3ms/step - loss: 0.0103\n",
            "Epoch 14/20\n",
            "114/114 [==============================] - 0s 3ms/step - loss: 0.0102\n",
            "Epoch 15/20\n",
            "114/114 [==============================] - 0s 3ms/step - loss: 0.0101\n",
            "Epoch 16/20\n",
            "114/114 [==============================] - 0s 3ms/step - loss: 0.0105\n",
            "Epoch 17/20\n",
            "114/114 [==============================] - 0s 3ms/step - loss: 0.0103\n",
            "Epoch 18/20\n",
            "114/114 [==============================] - 0s 3ms/step - loss: 0.0100\n",
            "Epoch 19/20\n",
            "114/114 [==============================] - 0s 4ms/step - loss: 0.0101\n",
            "Epoch 20/20\n",
            "114/114 [==============================] - 0s 3ms/step - loss: 0.0104\n"
          ]
        },
        {
          "output_type": "execute_result",
          "data": {
            "text/plain": [
              "<keras.callbacks.History at 0x7f213c9e7e10>"
            ]
          },
          "metadata": {},
          "execution_count": 18
        }
      ]
    },
    {
      "cell_type": "code",
      "metadata": {
        "colab": {
          "base_uri": "https://localhost:8080/",
          "height": 207
        },
        "id": "E9WAoGxmVdgb",
        "outputId": "28b7deaa-8b88-4fa2-eb92-23a0fe881777"
      },
      "source": [
        "# Training loss plot\n",
        "loss = pd.DataFrame(model.history.history)\n",
        "loss.plot()\n",
        "plt.title('LSTM Training Loss',fontweight='bold')\n",
        "plt.xlabel('Epochs',fontweight='bold')\n",
        "plt.ylabel(\"Loss-'MSE'\",fontweight='bold');\n"
      ],
      "execution_count": 19,
      "outputs": [
        {
          "output_type": "display_data",
          "data": {
            "image/png": "[encoded data removed]",
            "text/plain": [
              "<Figure size 1800x216 with 1 Axes>"
            ]
          },
          "metadata": {
            "needs_background": "light"
          }
        }
      ]
    },
    {
      "cell_type": "code",
      "metadata": {
        "id": "MWPW8fPnVYh7"
      },
      "source": [
        "# Determining all LSTM predicted values so as to compare them with the actual test values \n",
        "n_features = scaled_train_data.shape[1]\n",
        "test_outputs = []\n",
        "batch = scaled_train_data[-length:].reshape((1, length, n_features))\n",
        "\n",
        "for i in range(len(test_data)):\n",
        "    test_out = model.predict(batch)[0]\n",
        "    test_outputs.append(test_out) \n",
        "    batch = np.append(batch[:,1:,:],[[test_out]],axis=1)\n"
      ],
      "execution_count": 20,
      "outputs": []
    },
    {
      "cell_type": "code",
      "metadata": {
        "id": "UWc79s8JVYli"
      },
      "source": [
        "# Applying the inverse_transform function to the test_outputs to get their original values\n",
        "true_outputs = scaler.inverse_transform(test_outputs)\n"
      ],
      "execution_count": 21,
      "outputs": []
    },
    {
      "cell_type": "code",
      "metadata": {
        "id": "DMh-6f5WW6F7"
      },
      "source": [
        "# Converting the true_outputs from np.ndarray to pandas dataframe\n",
        "true_outputs = pd.DataFrame(data=true_outputs,columns=test_data.columns,index=test_data.index)\n"
      ],
      "execution_count": 22,
      "outputs": []
    },
    {
      "cell_type": "code",
      "metadata": {
        "colab": {
          "base_uri": "https://localhost:8080/",
          "height": 235
        },
        "id": "gN1q77p8VSl6",
        "outputId": "21f6e579-2b2d-472d-fcdf-e4eae32ac5c2"
      },
      "source": [
        "# Predicted values - first 5 predictions\n",
        "true_outputs.head(5)\n"
      ],
      "execution_count": 23,
      "outputs": [
        {
          "output_type": "execute_result",
          "data": {
            "text/html": [
              "<div>\n",
              "<style scoped>\n",
              "    .dataframe tbody tr th:only-of-type {\n",
              "        vertical-align: middle;\n",
              "    }\n",
              "\n",
              "    .dataframe tbody tr th {\n",
              "        vertical-align: top;\n",
              "    }\n",
              "\n",
              "    .dataframe thead th {\n",
              "        text-align: right;\n",
              "    }\n",
              "</style>\n",
              "<table border=\"1\" class=\"dataframe\">\n",
              "  <thead>\n",
              "    <tr style=\"text-align: right;\">\n",
              "      <th></th>\n",
              "      <th></th>\n",
              "      <th>NSR</th>\n",
              "    </tr>\n",
              "    <tr>\n",
              "      <th>Category</th>\n",
              "      <th>PSTG. DATE</th>\n",
              "      <th></th>\n",
              "    </tr>\n",
              "  </thead>\n",
              "  <tbody>\n",
              "    <tr>\n",
              "      <th rowspan=\"5\" valign=\"top\">Bus</th>\n",
              "      <th>2021-08-02</th>\n",
              "      <td>0.083341</td>\n",
              "    </tr>\n",
              "    <tr>\n",
              "      <th>2021-08-03</th>\n",
              "      <td>0.358318</td>\n",
              "    </tr>\n",
              "    <tr>\n",
              "      <th>2021-08-04</th>\n",
              "      <td>1.055427</td>\n",
              "    </tr>\n",
              "    <tr>\n",
              "      <th>2021-08-05</th>\n",
              "      <td>1.111464</td>\n",
              "    </tr>\n",
              "    <tr>\n",
              "      <th>2021-08-06</th>\n",
              "      <td>1.104761</td>\n",
              "    </tr>\n",
              "  </tbody>\n",
              "</table>\n",
              "</div>"
            ],
            "text/plain": [
              "                          NSR\n",
              "Category PSTG. DATE          \n",
              "Bus      2021-08-02  0.083341\n",
              "         2021-08-03  0.358318\n",
              "         2021-08-04  1.055427\n",
              "         2021-08-05  1.111464\n",
              "         2021-08-06  1.104761"
            ]
          },
          "metadata": {},
          "execution_count": 23
        }
      ]
    },
    {
      "cell_type": "markdown",
      "metadata": {
        "id": "tWuUva47Bw_w"
      },
      "source": [
        "for hcv prediction on test data"
      ]
    },
    {
      "cell_type": "code",
      "metadata": {
        "colab": {
          "base_uri": "https://localhost:8080/",
          "height": 214
        },
        "id": "MVQoMjaYXHg2",
        "outputId": "533e5a23-4e27-4e8a-b697-7c5d7cd02cf2"
      },
      "source": [
        "#n_lcv_df['NSR'][:-test_index].plot(linestyle='--',marker='.',label='Train',color='r')\n",
        "#test_data['NSR'].plot(linestyle='--',marker='.',label='Targets',color='g')\n",
        "#true_outputs['NSR'].plot(linestyle='--',marker='.',label='Predictions',color='b')\n",
        "pd.concat([bus_df['NSR'],test_data['NSR'],true_outputs['NSR']],axis=1).plot()\n"
      ],
      "execution_count": 24,
      "outputs": [
        {
          "output_type": "execute_result",
          "data": {
            "text/plain": [
              "<matplotlib.axes._subplots.AxesSubplot at 0x7f2135f7b8d0>"
            ]
          },
          "metadata": {},
          "execution_count": 24
        },
        {
          "output_type": "display_data",
          "data": {
            "image/png": "[encoded data removed]",
            "text/plain": [
              "<Figure size 1800x216 with 1 Axes>"
            ]
          },
          "metadata": {
            "needs_background": "light"
          }
        }
      ]
    },
    {
      "cell_type": "code",
      "metadata": {
        "id": "4v5L1YGapJVD"
      },
      "source": [
        "#pip install chart_studio"
      ],
      "execution_count": 25,
      "outputs": []
    },
    {
      "cell_type": "code",
      "metadata": {
        "id": "PfxdwFFRVI5F",
        "colab": {
          "base_uri": "https://localhost:8080/",
          "height": 450
        },
        "outputId": "17cc961c-9fa5-4ae3-e8a4-f35323a188f2"
      },
      "source": [
        "train_data1=bus_df\n",
        "len(train_data1)\n",
        "test_data1=90\n",
        "train_data1"
      ],
      "execution_count": 26,
      "outputs": [
        {
          "output_type": "execute_result",
          "data": {
            "text/html": [
              "<div>\n",
              "<style scoped>\n",
              "    .dataframe tbody tr th:only-of-type {\n",
              "        vertical-align: middle;\n",
              "    }\n",
              "\n",
              "    .dataframe tbody tr th {\n",
              "        vertical-align: top;\n",
              "    }\n",
              "\n",
              "    .dataframe thead th {\n",
              "        text-align: right;\n",
              "    }\n",
              "</style>\n",
              "<table border=\"1\" class=\"dataframe\">\n",
              "  <thead>\n",
              "    <tr style=\"text-align: right;\">\n",
              "      <th></th>\n",
              "      <th></th>\n",
              "      <th>NSR</th>\n",
              "    </tr>\n",
              "    <tr>\n",
              "      <th>Category</th>\n",
              "      <th>PSTG. DATE</th>\n",
              "      <th></th>\n",
              "    </tr>\n",
              "  </thead>\n",
              "  <tbody>\n",
              "    <tr>\n",
              "      <th rowspan=\"11\" valign=\"top\">Bus</th>\n",
              "      <th>2021-04-07</th>\n",
              "      <td>11</td>\n",
              "    </tr>\n",
              "    <tr>\n",
              "      <th>2021-04-08</th>\n",
              "      <td>0</td>\n",
              "    </tr>\n",
              "    <tr>\n",
              "      <th>2021-04-09</th>\n",
              "      <td>0</td>\n",
              "    </tr>\n",
              "    <tr>\n",
              "      <th>2021-04-10</th>\n",
              "      <td>0</td>\n",
              "    </tr>\n",
              "    <tr>\n",
              "      <th>2021-04-11</th>\n",
              "      <td>0</td>\n",
              "    </tr>\n",
              "    <tr>\n",
              "      <th>...</th>\n",
              "      <td>...</td>\n",
              "    </tr>\n",
              "    <tr>\n",
              "      <th>2021-08-27</th>\n",
              "      <td>0</td>\n",
              "    </tr>\n",
              "    <tr>\n",
              "      <th>2021-08-28</th>\n",
              "      <td>0</td>\n",
              "    </tr>\n",
              "    <tr>\n",
              "      <th>2021-08-29</th>\n",
              "      <td>0</td>\n",
              "    </tr>\n",
              "    <tr>\n",
              "      <th>2021-08-30</th>\n",
              "      <td>10</td>\n",
              "    </tr>\n",
              "    <tr>\n",
              "      <th>2021-08-31</th>\n",
              "      <td>10</td>\n",
              "    </tr>\n",
              "  </tbody>\n",
              "</table>\n",
              "<p>147 rows × 1 columns</p>\n",
              "</div>"
            ],
            "text/plain": [
              "                     NSR\n",
              "Category PSTG. DATE     \n",
              "Bus      2021-04-07   11\n",
              "         2021-04-08    0\n",
              "         2021-04-09    0\n",
              "         2021-04-10    0\n",
              "         2021-04-11    0\n",
              "...                  ...\n",
              "         2021-08-27    0\n",
              "         2021-08-28    0\n",
              "         2021-08-29    0\n",
              "         2021-08-30   10\n",
              "         2021-08-31   10\n",
              "\n",
              "[147 rows x 1 columns]"
            ]
          },
          "metadata": {},
          "execution_count": 26
        }
      ]
    },
    {
      "cell_type": "code",
      "metadata": {
        "id": "A02tDn03yE4q"
      },
      "source": [
        "train_data1 = train_data1.reset_index()  "
      ],
      "execution_count": 27,
      "outputs": []
    },
    {
      "cell_type": "code",
      "metadata": {
        "id": "UOl6Fyrtw7Hv"
      },
      "source": [
        "\n",
        "train_data_new=train_data1.append(pd.DataFrame({'PSTG. DATE': pd.date_range(start=train_data1['PSTG. DATE'].iloc[-1], periods= 80, freq='d'),'Category':'Bus'}),ignore_index = True)\n"
      ],
      "execution_count": 28,
      "outputs": []
    },
    {
      "cell_type": "code",
      "metadata": {
        "id": "AOWbQKW84h0y"
      },
      "source": [
        "train_data_new=train_data_new.set_index('PSTG. DATE').groupby('Category').resample('D').sum()\n",
        "#train_data_new"
      ],
      "execution_count": 29,
      "outputs": []
    },
    {
      "cell_type": "code",
      "metadata": {
        "id": "r37CxXra8LTS"
      },
      "source": [
        "#train_data_new.info()\n",
        "#train_data_new.info()\n",
        "train_data_new['NSR'] = train_data_new['NSR'].astype(int)\n"
      ],
      "execution_count": 30,
      "outputs": []
    },
    {
      "cell_type": "code",
      "metadata": {
        "id": "FinzRAOM4pAP"
      },
      "source": [
        "test_index=89\n",
        "full_train=train_data_new.iloc[:-test_index]\n",
        "full_test=train_data_new.iloc[-test_index:]\n"
      ],
      "execution_count": 31,
      "outputs": []
    },
    {
      "cell_type": "code",
      "metadata": {
        "colab": {
          "base_uri": "https://localhost:8080/",
          "height": 450
        },
        "id": "v8aOGBAN4jwW",
        "outputId": "9723ccc9-b819-420e-b45b-f805a42a4137"
      },
      "source": [
        "full_test    #created dataframe with future dates"
      ],
      "execution_count": 32,
      "outputs": [
        {
          "output_type": "execute_result",
          "data": {
            "text/html": [
              "<div>\n",
              "<style scoped>\n",
              "    .dataframe tbody tr th:only-of-type {\n",
              "        vertical-align: middle;\n",
              "    }\n",
              "\n",
              "    .dataframe tbody tr th {\n",
              "        vertical-align: top;\n",
              "    }\n",
              "\n",
              "    .dataframe thead th {\n",
              "        text-align: right;\n",
              "    }\n",
              "</style>\n",
              "<table border=\"1\" class=\"dataframe\">\n",
              "  <thead>\n",
              "    <tr style=\"text-align: right;\">\n",
              "      <th></th>\n",
              "      <th></th>\n",
              "      <th>NSR</th>\n",
              "    </tr>\n",
              "    <tr>\n",
              "      <th>Category</th>\n",
              "      <th>PSTG. DATE</th>\n",
              "      <th></th>\n",
              "    </tr>\n",
              "  </thead>\n",
              "  <tbody>\n",
              "    <tr>\n",
              "      <th rowspan=\"11\" valign=\"top\">Bus</th>\n",
              "      <th>2021-08-22</th>\n",
              "      <td>0</td>\n",
              "    </tr>\n",
              "    <tr>\n",
              "      <th>2021-08-23</th>\n",
              "      <td>0</td>\n",
              "    </tr>\n",
              "    <tr>\n",
              "      <th>2021-08-24</th>\n",
              "      <td>0</td>\n",
              "    </tr>\n",
              "    <tr>\n",
              "      <th>2021-08-25</th>\n",
              "      <td>0</td>\n",
              "    </tr>\n",
              "    <tr>\n",
              "      <th>2021-08-26</th>\n",
              "      <td>0</td>\n",
              "    </tr>\n",
              "    <tr>\n",
              "      <th>...</th>\n",
              "      <td>...</td>\n",
              "    </tr>\n",
              "    <tr>\n",
              "      <th>2021-11-14</th>\n",
              "      <td>0</td>\n",
              "    </tr>\n",
              "    <tr>\n",
              "      <th>2021-11-15</th>\n",
              "      <td>0</td>\n",
              "    </tr>\n",
              "    <tr>\n",
              "      <th>2021-11-16</th>\n",
              "      <td>0</td>\n",
              "    </tr>\n",
              "    <tr>\n",
              "      <th>2021-11-17</th>\n",
              "      <td>0</td>\n",
              "    </tr>\n",
              "    <tr>\n",
              "      <th>2021-11-18</th>\n",
              "      <td>0</td>\n",
              "    </tr>\n",
              "  </tbody>\n",
              "</table>\n",
              "<p>89 rows × 1 columns</p>\n",
              "</div>"
            ],
            "text/plain": [
              "                     NSR\n",
              "Category PSTG. DATE     \n",
              "Bus      2021-08-22    0\n",
              "         2021-08-23    0\n",
              "         2021-08-24    0\n",
              "         2021-08-25    0\n",
              "         2021-08-26    0\n",
              "...                  ...\n",
              "         2021-11-14    0\n",
              "         2021-11-15    0\n",
              "         2021-11-16    0\n",
              "         2021-11-17    0\n",
              "         2021-11-18    0\n",
              "\n",
              "[89 rows x 1 columns]"
            ]
          },
          "metadata": {},
          "execution_count": 32
        }
      ]
    },
    {
      "cell_type": "code",
      "metadata": {
        "id": "ATJwLpEu6Hbj"
      },
      "source": [
        "from sklearn.preprocessing import MinMaxScaler\n",
        "\n",
        "scaler=MinMaxScaler()\n",
        "\n",
        "scaled_train_data_new=scaler.fit_transform(full_train)\n",
        "scaled_test_data_new=scaler.transform(full_test)\n"
      ],
      "execution_count": 33,
      "outputs": []
    },
    {
      "cell_type": "code",
      "metadata": {
        "id": "J2Ct-tCn7ZPJ"
      },
      "source": [
        "length=3\n",
        "batch_size=1\n",
        "features=scaled_train_data_new.shape[1]\n",
        "\n",
        "# Importing the keras library and the TimeseriesGenerator\n",
        "from tensorflow.keras.preprocessing.sequence import TimeseriesGenerator\n",
        "time_series_generator=TimeseriesGenerator(scaled_train_data_new,scaled_train_data_new,length=length,batch_size=batch_size)\n",
        "\n",
        "\n",
        "\n",
        "# Importing the necessary libraries to create/construct the neural network model\n",
        "from tensorflow.keras.models import Sequential\n",
        "from tensorflow.keras.layers import Dense,LSTM\n",
        "from tensorflow.keras import initializers\n",
        "\n",
        "\n",
        "\n",
        "\n",
        "import tensorflow as tf\n",
        "initializer = tf.keras.initializers.he_uniform(seed=0)\n",
        "# Initially, the network model is defined \n",
        "model = Sequential()\n"
      ],
      "execution_count": 34,
      "outputs": []
    },
    {
      "cell_type": "code",
      "metadata": {
        "colab": {
          "base_uri": "https://localhost:8080/"
        },
        "id": "-72DkOtg8Db0",
        "outputId": "ba60efa7-fefb-4e32-9397-6a9332dcbf5d"
      },
      "source": [
        "\n",
        "# Selected Activation function has been the rectified linear unit\n",
        "model.add(LSTM(51, activation='relu', input_shape=(length,features),kernel_initializer=initializer,\n",
        "                     bias_initializer=initializers.Constant(0.01)))\n",
        "# The output layer consists of 4 neuron (one neuron for each input feature) with a 'sigmoid' activation fuction \n",
        "model.add(Dense(features,activation='sigmoid',kernel_initializer=initializer,\n",
        "                     bias_initializer=initializers.Constant(0.01)))\n",
        "# The model is compiled with selected loss function= 'mse', whereas the selected optimizer is 'adam' with a learning rate\n",
        "# of 0.001, epsilon=1e-8 and with the default values of the exponential decay rates for the first and\n",
        "# second moment estimates\n",
        "opt = tf.keras.optimizers.Adam(learning_rate=0.001,\n",
        "    beta_1=0.9,\n",
        "    beta_2=0.999,\n",
        "    epsilon=1e-8)\n",
        "\n",
        "model.compile(optimizer=opt, loss='mse')\n",
        "\n",
        "\n",
        "\n",
        "\n",
        "model.fit(time_series_generator,epochs=20)\n"
      ],
      "execution_count": 35,
      "outputs": [
        {
          "output_type": "stream",
          "name": "stdout",
          "text": [
            "Epoch 1/20\n",
            "134/134 [==============================] - 2s 3ms/step - loss: 0.0132\n",
            "Epoch 2/20\n",
            "134/134 [==============================] - 0s 3ms/step - loss: 0.0096\n",
            "Epoch 3/20\n",
            "134/134 [==============================] - 0s 3ms/step - loss: 0.0093\n",
            "Epoch 4/20\n",
            "134/134 [==============================] - 0s 3ms/step - loss: 0.0094\n",
            "Epoch 5/20\n",
            "134/134 [==============================] - 0s 3ms/step - loss: 0.0091\n",
            "Epoch 6/20\n",
            "134/134 [==============================] - 0s 3ms/step - loss: 0.0103\n",
            "Epoch 7/20\n",
            "134/134 [==============================] - 0s 3ms/step - loss: 0.0090\n",
            "Epoch 8/20\n",
            "134/134 [==============================] - 0s 3ms/step - loss: 0.0090\n",
            "Epoch 9/20\n",
            "134/134 [==============================] - 0s 3ms/step - loss: 0.0090\n",
            "Epoch 10/20\n",
            "134/134 [==============================] - 0s 3ms/step - loss: 0.0088\n",
            "Epoch 11/20\n",
            "134/134 [==============================] - 0s 4ms/step - loss: 0.0089\n",
            "Epoch 12/20\n",
            "134/134 [==============================] - 0s 3ms/step - loss: 0.0089\n",
            "Epoch 13/20\n",
            "134/134 [==============================] - 0s 3ms/step - loss: 0.0087\n",
            "Epoch 14/20\n",
            "134/134 [==============================] - 0s 3ms/step - loss: 0.0089\n",
            "Epoch 15/20\n",
            "134/134 [==============================] - 1s 4ms/step - loss: 0.0086\n",
            "Epoch 16/20\n",
            "134/134 [==============================] - 0s 3ms/step - loss: 0.0089\n",
            "Epoch 17/20\n",
            "134/134 [==============================] - 0s 3ms/step - loss: 0.0086\n",
            "Epoch 18/20\n",
            "134/134 [==============================] - 0s 3ms/step - loss: 0.0089\n",
            "Epoch 19/20\n",
            "134/134 [==============================] - 0s 3ms/step - loss: 0.0087\n",
            "Epoch 20/20\n",
            "134/134 [==============================] - 0s 3ms/step - loss: 0.0089\n"
          ]
        },
        {
          "output_type": "execute_result",
          "data": {
            "text/plain": [
              "<keras.callbacks.History at 0x7f2138660b10>"
            ]
          },
          "metadata": {},
          "execution_count": 35
        }
      ]
    },
    {
      "cell_type": "code",
      "metadata": {
        "colab": {
          "base_uri": "https://localhost:8080/",
          "height": 390
        },
        "id": "izs2saqn9iww",
        "outputId": "d6dd2687-8748-43f2-efb8-3cd7971248fa"
      },
      "source": [
        "# Determining all LSTM predicted values so as to compare them with the actual test values \n",
        "n_features = scaled_train_data.shape[1]\n",
        "test_outputs = []\n",
        "batch = scaled_train_data_new[-length:].reshape((1, length, n_features))\n",
        "\n",
        "for i in range(len(full_test)):\n",
        "    test_out = model.predict(batch)[0]\n",
        "    test_outputs.append(test_out) \n",
        "    batch = np.append(batch[:,1:,:],[[test_out]],axis=1)\n",
        "\n",
        "\n",
        "# Applying the inverse_transform function to the test_outputs to get their original values\n",
        "true_outputs1 = scaler.inverse_transform(test_outputs)\n",
        "\n",
        "\n",
        "\n",
        "# Converting the true_outputs from np.ndarray to pandas dataframe\n",
        "true_outputs1 = pd.DataFrame(data=true_outputs1,columns=full_test.columns,index=full_test.index)\n",
        "\n",
        "# Predicted values \n",
        "\n",
        "true_outputs1.head(10)\n",
        "\n"
      ],
      "execution_count": 36,
      "outputs": [
        {
          "output_type": "execute_result",
          "data": {
            "text/html": [
              "<div>\n",
              "<style scoped>\n",
              "    .dataframe tbody tr th:only-of-type {\n",
              "        vertical-align: middle;\n",
              "    }\n",
              "\n",
              "    .dataframe tbody tr th {\n",
              "        vertical-align: top;\n",
              "    }\n",
              "\n",
              "    .dataframe thead th {\n",
              "        text-align: right;\n",
              "    }\n",
              "</style>\n",
              "<table border=\"1\" class=\"dataframe\">\n",
              "  <thead>\n",
              "    <tr style=\"text-align: right;\">\n",
              "      <th></th>\n",
              "      <th></th>\n",
              "      <th>NSR</th>\n",
              "    </tr>\n",
              "    <tr>\n",
              "      <th>Category</th>\n",
              "      <th>PSTG. DATE</th>\n",
              "      <th></th>\n",
              "    </tr>\n",
              "  </thead>\n",
              "  <tbody>\n",
              "    <tr>\n",
              "      <th rowspan=\"10\" valign=\"top\">Bus</th>\n",
              "      <th>2021-08-22</th>\n",
              "      <td>-0.206203</td>\n",
              "    </tr>\n",
              "    <tr>\n",
              "      <th>2021-08-23</th>\n",
              "      <td>-0.219333</td>\n",
              "    </tr>\n",
              "    <tr>\n",
              "      <th>2021-08-24</th>\n",
              "      <td>-0.213013</td>\n",
              "    </tr>\n",
              "    <tr>\n",
              "      <th>2021-08-25</th>\n",
              "      <td>-0.209361</td>\n",
              "    </tr>\n",
              "    <tr>\n",
              "      <th>2021-08-26</th>\n",
              "      <td>-0.209172</td>\n",
              "    </tr>\n",
              "    <tr>\n",
              "      <th>2021-08-27</th>\n",
              "      <td>-0.209371</td>\n",
              "    </tr>\n",
              "    <tr>\n",
              "      <th>2021-08-28</th>\n",
              "      <td>-0.209440</td>\n",
              "    </tr>\n",
              "    <tr>\n",
              "      <th>2021-08-29</th>\n",
              "      <td>-0.209438</td>\n",
              "    </tr>\n",
              "    <tr>\n",
              "      <th>2021-08-30</th>\n",
              "      <td>-0.209435</td>\n",
              "    </tr>\n",
              "    <tr>\n",
              "      <th>2021-08-31</th>\n",
              "      <td>-0.209433</td>\n",
              "    </tr>\n",
              "  </tbody>\n",
              "</table>\n",
              "</div>"
            ],
            "text/plain": [
              "                          NSR\n",
              "Category PSTG. DATE          \n",
              "Bus      2021-08-22 -0.206203\n",
              "         2021-08-23 -0.219333\n",
              "         2021-08-24 -0.213013\n",
              "         2021-08-25 -0.209361\n",
              "         2021-08-26 -0.209172\n",
              "         2021-08-27 -0.209371\n",
              "         2021-08-28 -0.209440\n",
              "         2021-08-29 -0.209438\n",
              "         2021-08-30 -0.209435\n",
              "         2021-08-31 -0.209433"
            ]
          },
          "metadata": {},
          "execution_count": 36
        }
      ]
    },
    {
      "cell_type": "code",
      "metadata": {
        "id": "A4tC5a2Aa1RM"
      },
      "source": [
        ""
      ],
      "execution_count": 36,
      "outputs": []
    },
    {
      "cell_type": "code",
      "metadata": {
        "colab": {
          "base_uri": "https://localhost:8080/",
          "height": 214
        },
        "id": "hSoMrTJ8ASIk",
        "outputId": "0d6a1dba-34c6-43cc-9c74-f8a0f87334de"
      },
      "source": [
        "pd.concat([train_data_new['NSR'],true_outputs1['NSR']],axis=1).plot()\n"
      ],
      "execution_count": 37,
      "outputs": [
        {
          "output_type": "execute_result",
          "data": {
            "text/plain": [
              "<matplotlib.axes._subplots.AxesSubplot at 0x7f21386bb9d0>"
            ]
          },
          "metadata": {},
          "execution_count": 37
        },
        {
          "output_type": "display_data",
          "data": {
            "image/png": "[encoded data removed]",
            "text/plain": [
              "<Figure size 1800x216 with 1 Axes>"
            ]
          },
          "metadata": {
            "needs_background": "light"
          }
        }
      ]
    }
  ]
}