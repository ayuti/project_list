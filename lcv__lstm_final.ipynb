{
  "nbformat": 4,
  "nbformat_minor": 0,
  "metadata": {
    "colab": {
      "name": "lcv_ lstm_final.ipynb",
      "provenance": [],
      "collapsed_sections": [],
      "authorship_tag": "ABX9TyOOe2UaFKeiXShchCwFKmrP",
      "include_colab_link": true
    },
    "kernelspec": {
      "name": "python3",
      "display_name": "Python 3"
    },
    "language_info": {
      "name": "python"
    }
  },
  "cells": [
    {
      "cell_type": "markdown",
      "metadata": {
        "id": "view-in-github",
        "colab_type": "text"
      },
      "source": [
        "<a href=\"https://colab.research.google.com/github/ayuti/project_list/blob/master/lcv__lstm_final.ipynb\" target=\"_parent\"><img src=\"https://colab.research.google.com/assets/colab-badge.svg\" alt=\"Open In Colab\"/></a>"
      ]
    },
    {
      "cell_type": "code",
      "metadata": {
        "id": "66lPYs1QTTDR"
      },
      "source": [
        "# Importing the necessary libraries\n",
        "import numpy as np\n",
        "import pandas as pd\n",
        "import matplotlib.pyplot as plt\n",
        "import seaborn as sns\n",
        "from datetime import datetime\n"
      ],
      "execution_count": 1,
      "outputs": []
    },
    {
      "cell_type": "code",
      "metadata": {
        "colab": {
          "base_uri": "https://localhost:8080/",
          "height": 204
        },
        "id": "ZOasHVRLTeaH",
        "outputId": "ef8285e9-048d-4dbe-80cd-45db0781c277"
      },
      "source": [
        "df = pd.read_excel(r'category_nsr_aug.xlsx')\n",
        "\n",
        "df.head(5)\n"
      ],
      "execution_count": 2,
      "outputs": [
        {
          "output_type": "execute_result",
          "data": {
            "text/html": [
              "<div>\n",
              "<style scoped>\n",
              "    .dataframe tbody tr th:only-of-type {\n",
              "        vertical-align: middle;\n",
              "    }\n",
              "\n",
              "    .dataframe tbody tr th {\n",
              "        vertical-align: top;\n",
              "    }\n",
              "\n",
              "    .dataframe thead th {\n",
              "        text-align: right;\n",
              "    }\n",
              "</style>\n",
              "<table border=\"1\" class=\"dataframe\">\n",
              "  <thead>\n",
              "    <tr style=\"text-align: right;\">\n",
              "      <th></th>\n",
              "      <th>PSTG. DATE</th>\n",
              "      <th>Category</th>\n",
              "      <th>NSR</th>\n",
              "    </tr>\n",
              "  </thead>\n",
              "  <tbody>\n",
              "    <tr>\n",
              "      <th>0</th>\n",
              "      <td>2021-04-02</td>\n",
              "      <td>HCV</td>\n",
              "      <td>20.014434</td>\n",
              "    </tr>\n",
              "    <tr>\n",
              "      <th>1</th>\n",
              "      <td>2021-04-02</td>\n",
              "      <td>HCV</td>\n",
              "      <td>25.567178</td>\n",
              "    </tr>\n",
              "    <tr>\n",
              "      <th>2</th>\n",
              "      <td>2021-04-02</td>\n",
              "      <td>HCV</td>\n",
              "      <td>25.833700</td>\n",
              "    </tr>\n",
              "    <tr>\n",
              "      <th>3</th>\n",
              "      <td>2021-04-02</td>\n",
              "      <td>HCV</td>\n",
              "      <td>25.373057</td>\n",
              "    </tr>\n",
              "    <tr>\n",
              "      <th>4</th>\n",
              "      <td>2021-04-02</td>\n",
              "      <td>HCV</td>\n",
              "      <td>21.368760</td>\n",
              "    </tr>\n",
              "  </tbody>\n",
              "</table>\n",
              "</div>"
            ],
            "text/plain": [
              "  PSTG. DATE Category        NSR\n",
              "0 2021-04-02      HCV  20.014434\n",
              "1 2021-04-02      HCV  25.567178\n",
              "2 2021-04-02      HCV  25.833700\n",
              "3 2021-04-02      HCV  25.373057\n",
              "4 2021-04-02      HCV  21.368760"
            ]
          },
          "metadata": {},
          "execution_count": 2
        }
      ]
    },
    {
      "cell_type": "code",
      "metadata": {
        "colab": {
          "base_uri": "https://localhost:8080/"
        },
        "id": "yy5B2MFNTecb",
        "outputId": "13f2f1cb-4976-44a0-f752-0c72049610f3"
      },
      "source": [
        "df.info()"
      ],
      "execution_count": 3,
      "outputs": [
        {
          "output_type": "stream",
          "name": "stdout",
          "text": [
            "<class 'pandas.core.frame.DataFrame'>\n",
            "RangeIndex: 1074 entries, 0 to 1073\n",
            "Data columns (total 3 columns):\n",
            " #   Column      Non-Null Count  Dtype         \n",
            "---  ------      --------------  -----         \n",
            " 0   PSTG. DATE  1074 non-null   datetime64[ns]\n",
            " 1   Category    1074 non-null   object        \n",
            " 2   NSR         1074 non-null   float64       \n",
            "dtypes: datetime64[ns](1), float64(1), object(1)\n",
            "memory usage: 25.3+ KB\n"
          ]
        }
      ]
    },
    {
      "cell_type": "code",
      "metadata": {
        "colab": {
          "base_uri": "https://localhost:8080/"
        },
        "id": "oQZxmhjYTefv",
        "outputId": "9c02df81-56a1-421f-815d-79cf2e481094"
      },
      "source": [
        "df['Category'] = df['Category'].astype('string')\n",
        "\n",
        "df['NSR'] = df['NSR'].astype(int)\n",
        "\n",
        "df.dtypes\n"
      ],
      "execution_count": 4,
      "outputs": [
        {
          "output_type": "execute_result",
          "data": {
            "text/plain": [
              "PSTG. DATE    datetime64[ns]\n",
              "Category              string\n",
              "NSR                    int64\n",
              "dtype: object"
            ]
          },
          "metadata": {},
          "execution_count": 4
        }
      ]
    },
    {
      "cell_type": "code",
      "metadata": {
        "colab": {
          "base_uri": "https://localhost:8080/"
        },
        "id": "jWg_JCD5TrG1",
        "outputId": "9d01f842-96df-464e-e0c0-ad1d4251ff3a"
      },
      "source": [
        "df['Category'].value_counts()"
      ],
      "execution_count": 5,
      "outputs": [
        {
          "output_type": "execute_result",
          "data": {
            "text/plain": [
              "HCV      471\n",
              "ICV      271\n",
              "LCV      239\n",
              "N LCV     68\n",
              "Bus       25\n",
              "Name: Category, dtype: Int64"
            ]
          },
          "metadata": {},
          "execution_count": 5
        }
      ]
    },
    {
      "cell_type": "code",
      "metadata": {
        "colab": {
          "base_uri": "https://localhost:8080/",
          "height": 204
        },
        "id": "ro7go9gwTvGI",
        "outputId": "3fec9e08-ff42-4e72-ce79-0479279f2eb5"
      },
      "source": [
        "# Features\n",
        "features_considered = ['PSTG. DATE', 'Category','NSR']\n",
        "\n",
        "features = df[features_considered]\n",
        "#features.index = df['Date Time']\n",
        "features.head()\n"
      ],
      "execution_count": 6,
      "outputs": [
        {
          "output_type": "execute_result",
          "data": {
            "text/html": [
              "<div>\n",
              "<style scoped>\n",
              "    .dataframe tbody tr th:only-of-type {\n",
              "        vertical-align: middle;\n",
              "    }\n",
              "\n",
              "    .dataframe tbody tr th {\n",
              "        vertical-align: top;\n",
              "    }\n",
              "\n",
              "    .dataframe thead th {\n",
              "        text-align: right;\n",
              "    }\n",
              "</style>\n",
              "<table border=\"1\" class=\"dataframe\">\n",
              "  <thead>\n",
              "    <tr style=\"text-align: right;\">\n",
              "      <th></th>\n",
              "      <th>PSTG. DATE</th>\n",
              "      <th>Category</th>\n",
              "      <th>NSR</th>\n",
              "    </tr>\n",
              "  </thead>\n",
              "  <tbody>\n",
              "    <tr>\n",
              "      <th>0</th>\n",
              "      <td>2021-04-02</td>\n",
              "      <td>HCV</td>\n",
              "      <td>20</td>\n",
              "    </tr>\n",
              "    <tr>\n",
              "      <th>1</th>\n",
              "      <td>2021-04-02</td>\n",
              "      <td>HCV</td>\n",
              "      <td>25</td>\n",
              "    </tr>\n",
              "    <tr>\n",
              "      <th>2</th>\n",
              "      <td>2021-04-02</td>\n",
              "      <td>HCV</td>\n",
              "      <td>25</td>\n",
              "    </tr>\n",
              "    <tr>\n",
              "      <th>3</th>\n",
              "      <td>2021-04-02</td>\n",
              "      <td>HCV</td>\n",
              "      <td>25</td>\n",
              "    </tr>\n",
              "    <tr>\n",
              "      <th>4</th>\n",
              "      <td>2021-04-02</td>\n",
              "      <td>HCV</td>\n",
              "      <td>21</td>\n",
              "    </tr>\n",
              "  </tbody>\n",
              "</table>\n",
              "</div>"
            ],
            "text/plain": [
              "  PSTG. DATE Category  NSR\n",
              "0 2021-04-02      HCV   20\n",
              "1 2021-04-02      HCV   25\n",
              "2 2021-04-02      HCV   25\n",
              "3 2021-04-02      HCV   25\n",
              "4 2021-04-02      HCV   21"
            ]
          },
          "metadata": {},
          "execution_count": 6
        }
      ]
    },
    {
      "cell_type": "code",
      "metadata": {
        "colab": {
          "base_uri": "https://localhost:8080/",
          "height": 450
        },
        "id": "a3hvFhb0T4Sw",
        "outputId": "a4d866fe-d329-40d1-e0ca-d0333df95e98"
      },
      "source": [
        "category_df=features.set_index('PSTG. DATE').groupby('Category').resample('D').sum()\n",
        "category_df"
      ],
      "execution_count": 7,
      "outputs": [
        {
          "output_type": "execute_result",
          "data": {
            "text/html": [
              "<div>\n",
              "<style scoped>\n",
              "    .dataframe tbody tr th:only-of-type {\n",
              "        vertical-align: middle;\n",
              "    }\n",
              "\n",
              "    .dataframe tbody tr th {\n",
              "        vertical-align: top;\n",
              "    }\n",
              "\n",
              "    .dataframe thead th {\n",
              "        text-align: right;\n",
              "    }\n",
              "</style>\n",
              "<table border=\"1\" class=\"dataframe\">\n",
              "  <thead>\n",
              "    <tr style=\"text-align: right;\">\n",
              "      <th></th>\n",
              "      <th></th>\n",
              "      <th>NSR</th>\n",
              "    </tr>\n",
              "    <tr>\n",
              "      <th>Category</th>\n",
              "      <th>PSTG. DATE</th>\n",
              "      <th></th>\n",
              "    </tr>\n",
              "  </thead>\n",
              "  <tbody>\n",
              "    <tr>\n",
              "      <th rowspan=\"5\" valign=\"top\">Bus</th>\n",
              "      <th>2021-04-07</th>\n",
              "      <td>11</td>\n",
              "    </tr>\n",
              "    <tr>\n",
              "      <th>2021-04-08</th>\n",
              "      <td>0</td>\n",
              "    </tr>\n",
              "    <tr>\n",
              "      <th>2021-04-09</th>\n",
              "      <td>0</td>\n",
              "    </tr>\n",
              "    <tr>\n",
              "      <th>2021-04-10</th>\n",
              "      <td>0</td>\n",
              "    </tr>\n",
              "    <tr>\n",
              "      <th>2021-04-11</th>\n",
              "      <td>0</td>\n",
              "    </tr>\n",
              "    <tr>\n",
              "      <th>...</th>\n",
              "      <th>...</th>\n",
              "      <td>...</td>\n",
              "    </tr>\n",
              "    <tr>\n",
              "      <th rowspan=\"5\" valign=\"top\">N LCV</th>\n",
              "      <th>2021-08-27</th>\n",
              "      <td>0</td>\n",
              "    </tr>\n",
              "    <tr>\n",
              "      <th>2021-08-28</th>\n",
              "      <td>20</td>\n",
              "    </tr>\n",
              "    <tr>\n",
              "      <th>2021-08-29</th>\n",
              "      <td>0</td>\n",
              "    </tr>\n",
              "    <tr>\n",
              "      <th>2021-08-30</th>\n",
              "      <td>30</td>\n",
              "    </tr>\n",
              "    <tr>\n",
              "      <th>2021-08-31</th>\n",
              "      <td>96</td>\n",
              "    </tr>\n",
              "  </tbody>\n",
              "</table>\n",
              "<p>730 rows × 1 columns</p>\n",
              "</div>"
            ],
            "text/plain": [
              "                     NSR\n",
              "Category PSTG. DATE     \n",
              "Bus      2021-04-07   11\n",
              "         2021-04-08    0\n",
              "         2021-04-09    0\n",
              "         2021-04-10    0\n",
              "         2021-04-11    0\n",
              "...                  ...\n",
              "N LCV    2021-08-27    0\n",
              "         2021-08-28   20\n",
              "         2021-08-29    0\n",
              "         2021-08-30   30\n",
              "         2021-08-31   96\n",
              "\n",
              "[730 rows x 1 columns]"
            ]
          },
          "metadata": {},
          "execution_count": 7
        }
      ]
    },
    {
      "cell_type": "code",
      "metadata": {
        "colab": {
          "base_uri": "https://localhost:8080/",
          "height": 171
        },
        "id": "6YOjb9wmT-Zp",
        "outputId": "057ca667-6bc1-486f-d4c4-5d546be6abe1"
      },
      "source": [
        "plt.rcParams[\"figure.figsize\"] = (25,3)\n",
        "category_df.query('Category==\"LCV\"')[['NSR']].plot()\n"
      ],
      "execution_count": 8,
      "outputs": [
        {
          "output_type": "execute_result",
          "data": {
            "text/plain": [
              "<matplotlib.axes._subplots.AxesSubplot at 0x7ffbb549cdd0>"
            ]
          },
          "metadata": {},
          "execution_count": 8
        },
        {
          "output_type": "display_data",
          "data": {
            "image/png": "[encoded data removed]",
            "text/plain": [
              "<Figure size 1800x216 with 1 Axes>"
            ]
          },
          "metadata": {
            "needs_background": "light"
          }
        }
      ]
    },
    {
      "cell_type": "code",
      "metadata": {
        "colab": {
          "base_uri": "https://localhost:8080/",
          "height": 450
        },
        "id": "FNpjKA0WT-nt",
        "outputId": "bd315189-994b-4126-cfef-915291e38c17"
      },
      "source": [
        "lcv_df=category_df.query('Category==\"LCV\"')[['NSR']]\n",
        "\n",
        "lcv_df"
      ],
      "execution_count": 9,
      "outputs": [
        {
          "output_type": "execute_result",
          "data": {
            "text/html": [
              "<div>\n",
              "<style scoped>\n",
              "    .dataframe tbody tr th:only-of-type {\n",
              "        vertical-align: middle;\n",
              "    }\n",
              "\n",
              "    .dataframe tbody tr th {\n",
              "        vertical-align: top;\n",
              "    }\n",
              "\n",
              "    .dataframe thead th {\n",
              "        text-align: right;\n",
              "    }\n",
              "</style>\n",
              "<table border=\"1\" class=\"dataframe\">\n",
              "  <thead>\n",
              "    <tr style=\"text-align: right;\">\n",
              "      <th></th>\n",
              "      <th></th>\n",
              "      <th>NSR</th>\n",
              "    </tr>\n",
              "    <tr>\n",
              "      <th>Category</th>\n",
              "      <th>PSTG. DATE</th>\n",
              "      <th></th>\n",
              "    </tr>\n",
              "  </thead>\n",
              "  <tbody>\n",
              "    <tr>\n",
              "      <th rowspan=\"11\" valign=\"top\">LCV</th>\n",
              "      <th>2021-04-03</th>\n",
              "      <td>17</td>\n",
              "    </tr>\n",
              "    <tr>\n",
              "      <th>2021-04-04</th>\n",
              "      <td>0</td>\n",
              "    </tr>\n",
              "    <tr>\n",
              "      <th>2021-04-05</th>\n",
              "      <td>0</td>\n",
              "    </tr>\n",
              "    <tr>\n",
              "      <th>2021-04-06</th>\n",
              "      <td>6</td>\n",
              "    </tr>\n",
              "    <tr>\n",
              "      <th>2021-04-07</th>\n",
              "      <td>12</td>\n",
              "    </tr>\n",
              "    <tr>\n",
              "      <th>...</th>\n",
              "      <td>...</td>\n",
              "    </tr>\n",
              "    <tr>\n",
              "      <th>2021-08-27</th>\n",
              "      <td>71</td>\n",
              "    </tr>\n",
              "    <tr>\n",
              "      <th>2021-08-28</th>\n",
              "      <td>0</td>\n",
              "    </tr>\n",
              "    <tr>\n",
              "      <th>2021-08-29</th>\n",
              "      <td>0</td>\n",
              "    </tr>\n",
              "    <tr>\n",
              "      <th>2021-08-30</th>\n",
              "      <td>51</td>\n",
              "    </tr>\n",
              "    <tr>\n",
              "      <th>2021-08-31</th>\n",
              "      <td>96</td>\n",
              "    </tr>\n",
              "  </tbody>\n",
              "</table>\n",
              "<p>151 rows × 1 columns</p>\n",
              "</div>"
            ],
            "text/plain": [
              "                     NSR\n",
              "Category PSTG. DATE     \n",
              "LCV      2021-04-03   17\n",
              "         2021-04-04    0\n",
              "         2021-04-05    0\n",
              "         2021-04-06    6\n",
              "         2021-04-07   12\n",
              "...                  ...\n",
              "         2021-08-27   71\n",
              "         2021-08-28    0\n",
              "         2021-08-29    0\n",
              "         2021-08-30   51\n",
              "         2021-08-31   96\n",
              "\n",
              "[151 rows x 1 columns]"
            ]
          },
          "metadata": {},
          "execution_count": 9
        }
      ]
    },
    {
      "cell_type": "code",
      "metadata": {
        "colab": {
          "base_uri": "https://localhost:8080/"
        },
        "id": "gGJyblo5UZGT",
        "outputId": "080f4a86-4a6f-4e0c-9535-2bd5fe342b55"
      },
      "source": [
        "len(lcv_df)\n"
      ],
      "execution_count": 10,
      "outputs": [
        {
          "output_type": "execute_result",
          "data": {
            "text/plain": [
              "151"
            ]
          },
          "metadata": {},
          "execution_count": 10
        }
      ]
    },
    {
      "cell_type": "code",
      "metadata": {
        "colab": {
          "base_uri": "https://localhost:8080/"
        },
        "id": "VaiZ8D7uUZJz",
        "outputId": "bacf7a31-b612-4b1a-f0d2-4534295a27bd"
      },
      "source": [
        "test_index=40\n",
        "train_data=lcv_df.iloc[:-test_index]\n",
        "test_data=lcv_df.iloc[-test_index:]\n",
        "\n",
        "print(len(train_data),len(test_data))"
      ],
      "execution_count": 11,
      "outputs": [
        {
          "output_type": "stream",
          "name": "stdout",
          "text": [
            "121 30\n"
          ]
        }
      ]
    },
    {
      "cell_type": "code",
      "metadata": {
        "colab": {
          "base_uri": "https://localhost:8080/",
          "height": 235
        },
        "id": "NZ5N4P1yXdIf",
        "outputId": "f273d8bc-bf16-462b-877a-75316f78d510"
      },
      "source": [
        "test_data.head(5)"
      ],
      "execution_count": 12,
      "outputs": [
        {
          "output_type": "execute_result",
          "data": {
            "text/html": [
              "<div>\n",
              "<style scoped>\n",
              "    .dataframe tbody tr th:only-of-type {\n",
              "        vertical-align: middle;\n",
              "    }\n",
              "\n",
              "    .dataframe tbody tr th {\n",
              "        vertical-align: top;\n",
              "    }\n",
              "\n",
              "    .dataframe thead th {\n",
              "        text-align: right;\n",
              "    }\n",
              "</style>\n",
              "<table border=\"1\" class=\"dataframe\">\n",
              "  <thead>\n",
              "    <tr style=\"text-align: right;\">\n",
              "      <th></th>\n",
              "      <th></th>\n",
              "      <th>NSR</th>\n",
              "    </tr>\n",
              "    <tr>\n",
              "      <th>Category</th>\n",
              "      <th>PSTG. DATE</th>\n",
              "      <th></th>\n",
              "    </tr>\n",
              "  </thead>\n",
              "  <tbody>\n",
              "    <tr>\n",
              "      <th rowspan=\"5\" valign=\"top\">LCV</th>\n",
              "      <th>2021-08-02</th>\n",
              "      <td>0</td>\n",
              "    </tr>\n",
              "    <tr>\n",
              "      <th>2021-08-03</th>\n",
              "      <td>0</td>\n",
              "    </tr>\n",
              "    <tr>\n",
              "      <th>2021-08-04</th>\n",
              "      <td>0</td>\n",
              "    </tr>\n",
              "    <tr>\n",
              "      <th>2021-08-05</th>\n",
              "      <td>0</td>\n",
              "    </tr>\n",
              "    <tr>\n",
              "      <th>2021-08-06</th>\n",
              "      <td>0</td>\n",
              "    </tr>\n",
              "  </tbody>\n",
              "</table>\n",
              "</div>"
            ],
            "text/plain": [
              "                     NSR\n",
              "Category PSTG. DATE     \n",
              "LCV      2021-08-02    0\n",
              "         2021-08-03    0\n",
              "         2021-08-04    0\n",
              "         2021-08-05    0\n",
              "         2021-08-06    0"
            ]
          },
          "metadata": {},
          "execution_count": 12
        }
      ]
    },
    {
      "cell_type": "code",
      "metadata": {
        "id": "r7hLftnpT-rH"
      },
      "source": [
        "from sklearn.preprocessing import MinMaxScaler\n",
        "\n",
        "scaler=MinMaxScaler()\n",
        "\n",
        "scaled_train_data=scaler.fit_transform(train_data)\n",
        "scaled_test_data=scaler.transform(test_data)\n"
      ],
      "execution_count": 13,
      "outputs": []
    },
    {
      "cell_type": "code",
      "metadata": {
        "id": "SKCjuWACT4xK"
      },
      "source": [
        "length=3\n",
        "batch_size=1\n",
        "features=scaled_train_data.shape[1]\n"
      ],
      "execution_count": 14,
      "outputs": []
    },
    {
      "cell_type": "code",
      "metadata": {
        "id": "Zh0s07aQVI1j"
      },
      "source": [
        "# Importing the keras library and the TimeseriesGenerator\n",
        "from tensorflow.keras.preprocessing.sequence import TimeseriesGenerator\n",
        "\n",
        "time_series_generator=TimeseriesGenerator(scaled_train_data,scaled_train_data,length=length,batch_size=batch_size)\n"
      ],
      "execution_count": 15,
      "outputs": []
    },
    {
      "cell_type": "code",
      "metadata": {
        "id": "Om-HixnBVSiU"
      },
      "source": [
        "# Importing the necessary libraries to create/construct the neural network model\n",
        "from tensorflow.keras.models import Sequential\n",
        "from tensorflow.keras.layers import Dense,LSTM\n",
        "from tensorflow.keras import initializers\n"
      ],
      "execution_count": 16,
      "outputs": []
    },
    {
      "cell_type": "code",
      "metadata": {
        "id": "eSm9MzefVYfi"
      },
      "source": [
        "import tensorflow as tf\n",
        "initializer = tf.keras.initializers.he_uniform(seed=0)\n",
        "# Initially, the network model is defined \n",
        "model = Sequential()\n",
        "\n",
        "# Hidden layer neurons are chosen to be 51 equal to the defined length (number of past time series data per batch)\n",
        "# Selected Activation function has been the rectified linear unit\n",
        "model.add(LSTM(51, activation='relu', input_shape=(length,features),kernel_initializer=initializer,\n",
        "                     bias_initializer=initializers.Constant(0.01)))\n",
        "# The output layer consists of 4 neuron (one neuron for each input feature) with a 'sigmoid' activation fuction \n",
        "model.add(Dense(features,activation='sigmoid',kernel_initializer=initializer,\n",
        "                     bias_initializer=initializers.Constant(0.01)))\n",
        "# The model is compiled with selected loss function= 'mse', whereas the selected optimizer is 'adam' with a learning rate\n",
        "# of 0.001, epsilon=1e-8 and with the default values of the exponential decay rates for the first and\n",
        "# second moment estimates\n",
        "opt = tf.keras.optimizers.Adam(learning_rate=0.001,\n",
        "    beta_1=0.9,\n",
        "    beta_2=0.999,\n",
        "    epsilon=1e-8)\n",
        "\n",
        "model.compile(optimizer=opt, loss='mse')\n"
      ],
      "execution_count": 17,
      "outputs": []
    },
    {
      "cell_type": "code",
      "metadata": {
        "colab": {
          "base_uri": "https://localhost:8080/"
        },
        "id": "GBtTGU9OVddC",
        "outputId": "588fbe3b-5f86-4f79-b9ec-5371d2eee0e5"
      },
      "source": [
        "model.fit(time_series_generator,epochs=20)\n"
      ],
      "execution_count": 18,
      "outputs": [
        {
          "output_type": "stream",
          "name": "stdout",
          "text": [
            "Epoch 1/20\n",
            "118/118 [==============================] - 2s 2ms/step - loss: 0.1159\n",
            "Epoch 2/20\n",
            "118/118 [==============================] - 0s 3ms/step - loss: 0.0180\n",
            "Epoch 3/20\n",
            "118/118 [==============================] - 0s 3ms/step - loss: 0.0178\n",
            "Epoch 4/20\n",
            "118/118 [==============================] - 0s 3ms/step - loss: 0.0179\n",
            "Epoch 5/20\n",
            "118/118 [==============================] - 0s 3ms/step - loss: 0.0176\n",
            "Epoch 6/20\n",
            "118/118 [==============================] - 0s 2ms/step - loss: 0.0176\n",
            "Epoch 7/20\n",
            "118/118 [==============================] - 0s 3ms/step - loss: 0.0175\n",
            "Epoch 8/20\n",
            "118/118 [==============================] - 0s 3ms/step - loss: 0.0174\n",
            "Epoch 9/20\n",
            "118/118 [==============================] - 0s 3ms/step - loss: 0.0173\n",
            "Epoch 10/20\n",
            "118/118 [==============================] - 0s 3ms/step - loss: 0.0173\n",
            "Epoch 11/20\n",
            "118/118 [==============================] - 0s 3ms/step - loss: 0.0173\n",
            "Epoch 12/20\n",
            "118/118 [==============================] - 0s 3ms/step - loss: 0.0174\n",
            "Epoch 13/20\n",
            "118/118 [==============================] - 0s 3ms/step - loss: 0.0170\n",
            "Epoch 14/20\n",
            "118/118 [==============================] - 0s 3ms/step - loss: 0.0169\n",
            "Epoch 15/20\n",
            "118/118 [==============================] - 0s 3ms/step - loss: 0.0168\n",
            "Epoch 16/20\n",
            "118/118 [==============================] - 0s 3ms/step - loss: 0.0170\n",
            "Epoch 17/20\n",
            "118/118 [==============================] - 0s 3ms/step - loss: 0.0171\n",
            "Epoch 18/20\n",
            "118/118 [==============================] - 0s 2ms/step - loss: 0.0171\n",
            "Epoch 19/20\n",
            "118/118 [==============================] - 0s 3ms/step - loss: 0.0166\n",
            "Epoch 20/20\n",
            "118/118 [==============================] - 0s 3ms/step - loss: 0.0170\n"
          ]
        },
        {
          "output_type": "execute_result",
          "data": {
            "text/plain": [
              "<keras.callbacks.History at 0x7ffb501d9890>"
            ]
          },
          "metadata": {},
          "execution_count": 18
        }
      ]
    },
    {
      "cell_type": "code",
      "metadata": {
        "colab": {
          "base_uri": "https://localhost:8080/",
          "height": 162
        },
        "id": "E9WAoGxmVdgb",
        "outputId": "e169d22e-3179-469b-8bb9-0636eaf37feb"
      },
      "source": [
        "# Training loss plot\n",
        "loss = pd.DataFrame(model.history.history)\n",
        "loss.plot()\n",
        "plt.title('LSTM Training Loss',fontweight='bold')\n",
        "plt.xlabel('Epochs',fontweight='bold')\n",
        "plt.ylabel(\"Loss-'MSE'\",fontweight='bold');\n"
      ],
      "execution_count": 19,
      "outputs": [
        {
          "output_type": "display_data",
          "data": {
            "image/png": "[encoded data removed]",
            "text/plain": [
              "<Figure size 1800x216 with 1 Axes>"
            ]
          },
          "metadata": {
            "needs_background": "light"
          }
        }
      ]
    },
    {
      "cell_type": "code",
      "metadata": {
        "id": "MWPW8fPnVYh7"
      },
      "source": [
        "# Determining all LSTM predicted values so as to compare them with the actual test values \n",
        "n_features = scaled_train_data.shape[1]\n",
        "test_outputs = []\n",
        "batch = scaled_train_data[-length:].reshape((1, length, n_features))\n",
        "\n",
        "for i in range(len(test_data)):\n",
        "    test_out = model.predict(batch)[0]\n",
        "    test_outputs.append(test_out) \n",
        "    batch = np.append(batch[:,1:,:],[[test_out]],axis=1)\n"
      ],
      "execution_count": 20,
      "outputs": []
    },
    {
      "cell_type": "code",
      "metadata": {
        "id": "UWc79s8JVYli"
      },
      "source": [
        "# Applying the inverse_transform function to the test_outputs to get their original values\n",
        "true_outputs = scaler.inverse_transform(test_outputs)\n"
      ],
      "execution_count": 21,
      "outputs": []
    },
    {
      "cell_type": "code",
      "metadata": {
        "id": "DMh-6f5WW6F7"
      },
      "source": [
        "# Converting the true_outputs from np.ndarray to pandas dataframe\n",
        "true_outputs = pd.DataFrame(data=true_outputs,columns=test_data.columns,index=test_data.index)\n"
      ],
      "execution_count": 22,
      "outputs": []
    },
    {
      "cell_type": "code",
      "metadata": {
        "colab": {
          "base_uri": "https://localhost:8080/",
          "height": 235
        },
        "id": "gN1q77p8VSl6",
        "outputId": "985ea8aa-1daf-4582-f6c5-b8e2f9106964"
      },
      "source": [
        "# Predicted values - first 5 predictions\n",
        "true_outputs.head(5)\n"
      ],
      "execution_count": 23,
      "outputs": [
        {
          "output_type": "execute_result",
          "data": {
            "text/html": [
              "<div>\n",
              "<style scoped>\n",
              "    .dataframe tbody tr th:only-of-type {\n",
              "        vertical-align: middle;\n",
              "    }\n",
              "\n",
              "    .dataframe tbody tr th {\n",
              "        vertical-align: top;\n",
              "    }\n",
              "\n",
              "    .dataframe thead th {\n",
              "        text-align: right;\n",
              "    }\n",
              "</style>\n",
              "<table border=\"1\" class=\"dataframe\">\n",
              "  <thead>\n",
              "    <tr style=\"text-align: right;\">\n",
              "      <th></th>\n",
              "      <th></th>\n",
              "      <th>NSR</th>\n",
              "    </tr>\n",
              "    <tr>\n",
              "      <th>Category</th>\n",
              "      <th>PSTG. DATE</th>\n",
              "      <th></th>\n",
              "    </tr>\n",
              "  </thead>\n",
              "  <tbody>\n",
              "    <tr>\n",
              "      <th rowspan=\"5\" valign=\"top\">LCV</th>\n",
              "      <th>2021-08-02</th>\n",
              "      <td>4.008777</td>\n",
              "    </tr>\n",
              "    <tr>\n",
              "      <th>2021-08-03</th>\n",
              "      <td>0.807447</td>\n",
              "    </tr>\n",
              "    <tr>\n",
              "      <th>2021-08-04</th>\n",
              "      <td>5.122782</td>\n",
              "    </tr>\n",
              "    <tr>\n",
              "      <th>2021-08-05</th>\n",
              "      <td>6.338576</td>\n",
              "    </tr>\n",
              "    <tr>\n",
              "      <th>2021-08-06</th>\n",
              "      <td>6.377043</td>\n",
              "    </tr>\n",
              "  </tbody>\n",
              "</table>\n",
              "</div>"
            ],
            "text/plain": [
              "                          NSR\n",
              "Category PSTG. DATE          \n",
              "LCV      2021-08-02  4.008777\n",
              "         2021-08-03  0.807447\n",
              "         2021-08-04  5.122782\n",
              "         2021-08-05  6.338576\n",
              "         2021-08-06  6.377043"
            ]
          },
          "metadata": {},
          "execution_count": 23
        }
      ]
    },
    {
      "cell_type": "markdown",
      "metadata": {
        "id": "tWuUva47Bw_w"
      },
      "source": [
        "for hcv prediction on test data"
      ]
    },
    {
      "cell_type": "code",
      "metadata": {
        "colab": {
          "base_uri": "https://localhost:8080/",
          "height": 171
        },
        "id": "MVQoMjaYXHg2",
        "outputId": "23fc0001-7f98-4398-c245-157ca1c06130"
      },
      "source": [
        "#n_lcv_df['NSR'][:-test_index].plot(linestyle='--',marker='.',label='Train',color='r')\n",
        "#test_data['NSR'].plot(linestyle='--',marker='.',label='Targets',color='g')\n",
        "#true_outputs['NSR'].plot(linestyle='--',marker='.',label='Predictions',color='b')\n",
        "pd.concat([lcv_df['NSR'],test_data['NSR'],true_outputs['NSR']],axis=1).plot()\n"
      ],
      "execution_count": 24,
      "outputs": [
        {
          "output_type": "execute_result",
          "data": {
            "text/plain": [
              "<matplotlib.axes._subplots.AxesSubplot at 0x7ffbb514dc50>"
            ]
          },
          "metadata": {},
          "execution_count": 24
        },
        {
          "output_type": "display_data",
          "data": {
            "image/png": "[encoded data removed]",
            "text/plain": [
              "<Figure size 1800x216 with 1 Axes>"
            ]
          },
          "metadata": {
            "needs_background": "light"
          }
        }
      ]
    },
    {
      "cell_type": "code",
      "metadata": {
        "id": "4v5L1YGapJVD"
      },
      "source": [
        "#pip install chart_studio"
      ],
      "execution_count": 25,
      "outputs": []
    },
    {
      "cell_type": "code",
      "metadata": {
        "id": "PfxdwFFRVI5F",
        "colab": {
          "base_uri": "https://localhost:8080/",
          "height": 450
        },
        "outputId": "48ce4a62-833a-4d1c-d97a-2695b97be79c"
      },
      "source": [
        "train_data1=lcv_df\n",
        "len(train_data1)\n",
        "test_data1=90\n",
        "train_data1"
      ],
      "execution_count": 26,
      "outputs": [
        {
          "output_type": "execute_result",
          "data": {
            "text/html": [
              "<div>\n",
              "<style scoped>\n",
              "    .dataframe tbody tr th:only-of-type {\n",
              "        vertical-align: middle;\n",
              "    }\n",
              "\n",
              "    .dataframe tbody tr th {\n",
              "        vertical-align: top;\n",
              "    }\n",
              "\n",
              "    .dataframe thead th {\n",
              "        text-align: right;\n",
              "    }\n",
              "</style>\n",
              "<table border=\"1\" class=\"dataframe\">\n",
              "  <thead>\n",
              "    <tr style=\"text-align: right;\">\n",
              "      <th></th>\n",
              "      <th></th>\n",
              "      <th>NSR</th>\n",
              "    </tr>\n",
              "    <tr>\n",
              "      <th>Category</th>\n",
              "      <th>PSTG. DATE</th>\n",
              "      <th></th>\n",
              "    </tr>\n",
              "  </thead>\n",
              "  <tbody>\n",
              "    <tr>\n",
              "      <th rowspan=\"11\" valign=\"top\">LCV</th>\n",
              "      <th>2021-04-03</th>\n",
              "      <td>17</td>\n",
              "    </tr>\n",
              "    <tr>\n",
              "      <th>2021-04-04</th>\n",
              "      <td>0</td>\n",
              "    </tr>\n",
              "    <tr>\n",
              "      <th>2021-04-05</th>\n",
              "      <td>0</td>\n",
              "    </tr>\n",
              "    <tr>\n",
              "      <th>2021-04-06</th>\n",
              "      <td>6</td>\n",
              "    </tr>\n",
              "    <tr>\n",
              "      <th>2021-04-07</th>\n",
              "      <td>12</td>\n",
              "    </tr>\n",
              "    <tr>\n",
              "      <th>...</th>\n",
              "      <td>...</td>\n",
              "    </tr>\n",
              "    <tr>\n",
              "      <th>2021-08-27</th>\n",
              "      <td>71</td>\n",
              "    </tr>\n",
              "    <tr>\n",
              "      <th>2021-08-28</th>\n",
              "      <td>0</td>\n",
              "    </tr>\n",
              "    <tr>\n",
              "      <th>2021-08-29</th>\n",
              "      <td>0</td>\n",
              "    </tr>\n",
              "    <tr>\n",
              "      <th>2021-08-30</th>\n",
              "      <td>51</td>\n",
              "    </tr>\n",
              "    <tr>\n",
              "      <th>2021-08-31</th>\n",
              "      <td>96</td>\n",
              "    </tr>\n",
              "  </tbody>\n",
              "</table>\n",
              "<p>151 rows × 1 columns</p>\n",
              "</div>"
            ],
            "text/plain": [
              "                     NSR\n",
              "Category PSTG. DATE     \n",
              "LCV      2021-04-03   17\n",
              "         2021-04-04    0\n",
              "         2021-04-05    0\n",
              "         2021-04-06    6\n",
              "         2021-04-07   12\n",
              "...                  ...\n",
              "         2021-08-27   71\n",
              "         2021-08-28    0\n",
              "         2021-08-29    0\n",
              "         2021-08-30   51\n",
              "         2021-08-31   96\n",
              "\n",
              "[151 rows x 1 columns]"
            ]
          },
          "metadata": {},
          "execution_count": 26
        }
      ]
    },
    {
      "cell_type": "code",
      "metadata": {
        "id": "A02tDn03yE4q"
      },
      "source": [
        "train_data1 = train_data1.reset_index()  "
      ],
      "execution_count": 27,
      "outputs": []
    },
    {
      "cell_type": "code",
      "metadata": {
        "id": "UOl6Fyrtw7Hv"
      },
      "source": [
        "\n",
        "train_data_new=train_data1.append(pd.DataFrame({'PSTG. DATE': pd.date_range(start=train_data1['PSTG. DATE'].iloc[-1], periods= 80, freq='d'),'Category':'LCV'}),ignore_index = True)\n"
      ],
      "execution_count": 28,
      "outputs": []
    },
    {
      "cell_type": "code",
      "metadata": {
        "id": "AOWbQKW84h0y"
      },
      "source": [
        "train_data_new=train_data_new.set_index('PSTG. DATE').groupby('Category').resample('D').sum()\n",
        "#train_data_new"
      ],
      "execution_count": 29,
      "outputs": []
    },
    {
      "cell_type": "code",
      "metadata": {
        "id": "r37CxXra8LTS"
      },
      "source": [
        "#train_data_new.info()\n",
        "#train_data_new.info()\n",
        "train_data_new['NSR'] = train_data_new['NSR'].astype(int)\n"
      ],
      "execution_count": 30,
      "outputs": []
    },
    {
      "cell_type": "code",
      "metadata": {
        "id": "FinzRAOM4pAP"
      },
      "source": [
        "test_index=89\n",
        "full_train=train_data_new.iloc[:-test_index]\n",
        "full_test=train_data_new.iloc[-test_index:]\n"
      ],
      "execution_count": 31,
      "outputs": []
    },
    {
      "cell_type": "code",
      "metadata": {
        "colab": {
          "base_uri": "https://localhost:8080/",
          "height": 450
        },
        "id": "v8aOGBAN4jwW",
        "outputId": "87f9a74a-6da5-439c-d4f4-224f7a22e868"
      },
      "source": [
        "full_test    #created dataframe with future dates"
      ],
      "execution_count": 32,
      "outputs": [
        {
          "output_type": "execute_result",
          "data": {
            "text/html": [
              "<div>\n",
              "<style scoped>\n",
              "    .dataframe tbody tr th:only-of-type {\n",
              "        vertical-align: middle;\n",
              "    }\n",
              "\n",
              "    .dataframe tbody tr th {\n",
              "        vertical-align: top;\n",
              "    }\n",
              "\n",
              "    .dataframe thead th {\n",
              "        text-align: right;\n",
              "    }\n",
              "</style>\n",
              "<table border=\"1\" class=\"dataframe\">\n",
              "  <thead>\n",
              "    <tr style=\"text-align: right;\">\n",
              "      <th></th>\n",
              "      <th></th>\n",
              "      <th>NSR</th>\n",
              "    </tr>\n",
              "    <tr>\n",
              "      <th>Category</th>\n",
              "      <th>PSTG. DATE</th>\n",
              "      <th></th>\n",
              "    </tr>\n",
              "  </thead>\n",
              "  <tbody>\n",
              "    <tr>\n",
              "      <th rowspan=\"11\" valign=\"top\">LCV</th>\n",
              "      <th>2021-08-22</th>\n",
              "      <td>0</td>\n",
              "    </tr>\n",
              "    <tr>\n",
              "      <th>2021-08-23</th>\n",
              "      <td>6</td>\n",
              "    </tr>\n",
              "    <tr>\n",
              "      <th>2021-08-24</th>\n",
              "      <td>0</td>\n",
              "    </tr>\n",
              "    <tr>\n",
              "      <th>2021-08-25</th>\n",
              "      <td>37</td>\n",
              "    </tr>\n",
              "    <tr>\n",
              "      <th>2021-08-26</th>\n",
              "      <td>61</td>\n",
              "    </tr>\n",
              "    <tr>\n",
              "      <th>...</th>\n",
              "      <td>...</td>\n",
              "    </tr>\n",
              "    <tr>\n",
              "      <th>2021-11-14</th>\n",
              "      <td>0</td>\n",
              "    </tr>\n",
              "    <tr>\n",
              "      <th>2021-11-15</th>\n",
              "      <td>0</td>\n",
              "    </tr>\n",
              "    <tr>\n",
              "      <th>2021-11-16</th>\n",
              "      <td>0</td>\n",
              "    </tr>\n",
              "    <tr>\n",
              "      <th>2021-11-17</th>\n",
              "      <td>0</td>\n",
              "    </tr>\n",
              "    <tr>\n",
              "      <th>2021-11-18</th>\n",
              "      <td>0</td>\n",
              "    </tr>\n",
              "  </tbody>\n",
              "</table>\n",
              "<p>89 rows × 1 columns</p>\n",
              "</div>"
            ],
            "text/plain": [
              "                     NSR\n",
              "Category PSTG. DATE     \n",
              "LCV      2021-08-22    0\n",
              "         2021-08-23    6\n",
              "         2021-08-24    0\n",
              "         2021-08-25   37\n",
              "         2021-08-26   61\n",
              "...                  ...\n",
              "         2021-11-14    0\n",
              "         2021-11-15    0\n",
              "         2021-11-16    0\n",
              "         2021-11-17    0\n",
              "         2021-11-18    0\n",
              "\n",
              "[89 rows x 1 columns]"
            ]
          },
          "metadata": {},
          "execution_count": 32
        }
      ]
    },
    {
      "cell_type": "code",
      "metadata": {
        "id": "ATJwLpEu6Hbj"
      },
      "source": [
        "from sklearn.preprocessing import MinMaxScaler\n",
        "\n",
        "scaler=MinMaxScaler()\n",
        "\n",
        "scaled_train_data_new=scaler.fit_transform(full_train)\n",
        "scaled_test_data_new=scaler.transform(full_test)\n"
      ],
      "execution_count": 33,
      "outputs": []
    },
    {
      "cell_type": "code",
      "metadata": {
        "id": "J2Ct-tCn7ZPJ"
      },
      "source": [
        "length=3\n",
        "batch_size=1\n",
        "features=scaled_train_data_new.shape[1]\n",
        "\n",
        "# Importing the keras library and the TimeseriesGenerator\n",
        "from tensorflow.keras.preprocessing.sequence import TimeseriesGenerator\n",
        "time_series_generator=TimeseriesGenerator(scaled_train_data_new,scaled_train_data_new,length=length,batch_size=batch_size)\n",
        "\n",
        "\n",
        "\n",
        "# Importing the necessary libraries to create/construct the neural network model\n",
        "from tensorflow.keras.models import Sequential\n",
        "from tensorflow.keras.layers import Dense,LSTM\n",
        "from tensorflow.keras import initializers\n",
        "\n",
        "\n",
        "\n",
        "\n",
        "import tensorflow as tf\n",
        "initializer = tf.keras.initializers.he_uniform(seed=0)\n",
        "# Initially, the network model is defined \n",
        "model = Sequential()\n"
      ],
      "execution_count": 34,
      "outputs": []
    },
    {
      "cell_type": "code",
      "metadata": {
        "colab": {
          "base_uri": "https://localhost:8080/"
        },
        "id": "-72DkOtg8Db0",
        "outputId": "00a45eae-8aed-48f9-9bc6-6d98a45a7ed3"
      },
      "source": [
        "\n",
        "# Selected Activation function has been the rectified linear unit\n",
        "model.add(LSTM(51, activation='relu', input_shape=(length,features),kernel_initializer=initializer,\n",
        "                     bias_initializer=initializers.Constant(0.01)))\n",
        "# The output layer consists of 4 neuron (one neuron for each input feature) with a 'sigmoid' activation fuction \n",
        "model.add(Dense(features,activation='sigmoid',kernel_initializer=initializer,\n",
        "                     bias_initializer=initializers.Constant(0.01)))\n",
        "# The model is compiled with selected loss function= 'mse', whereas the selected optimizer is 'adam' with a learning rate\n",
        "# of 0.001, epsilon=1e-8 and with the default values of the exponential decay rates for the first and\n",
        "# second moment estimates\n",
        "opt = tf.keras.optimizers.Adam(learning_rate=0.001,\n",
        "    beta_1=0.9,\n",
        "    beta_2=0.999,\n",
        "    epsilon=1e-8)\n",
        "\n",
        "model.compile(optimizer=opt, loss='mse')\n",
        "\n",
        "\n",
        "\n",
        "\n",
        "model.fit(time_series_generator,epochs=20)\n"
      ],
      "execution_count": 35,
      "outputs": [
        {
          "output_type": "stream",
          "name": "stdout",
          "text": [
            "Epoch 1/20\n",
            "138/138 [==============================] - 2s 3ms/step - loss: 0.1027\n",
            "Epoch 2/20\n",
            "138/138 [==============================] - 0s 3ms/step - loss: 0.0169\n",
            "Epoch 3/20\n",
            "138/138 [==============================] - 0s 3ms/step - loss: 0.0165\n",
            "Epoch 4/20\n",
            "138/138 [==============================] - 0s 3ms/step - loss: 0.0164\n",
            "Epoch 5/20\n",
            "138/138 [==============================] - 0s 3ms/step - loss: 0.0161\n",
            "Epoch 6/20\n",
            "138/138 [==============================] - 0s 3ms/step - loss: 0.0159\n",
            "Epoch 7/20\n",
            "138/138 [==============================] - 0s 2ms/step - loss: 0.0158\n",
            "Epoch 8/20\n",
            "138/138 [==============================] - 0s 3ms/step - loss: 0.0156\n",
            "Epoch 9/20\n",
            "138/138 [==============================] - 0s 3ms/step - loss: 0.0153\n",
            "Epoch 10/20\n",
            "138/138 [==============================] - 0s 3ms/step - loss: 0.0150\n",
            "Epoch 11/20\n",
            "138/138 [==============================] - 0s 3ms/step - loss: 0.0153\n",
            "Epoch 12/20\n",
            "138/138 [==============================] - 0s 3ms/step - loss: 0.0150\n",
            "Epoch 13/20\n",
            "138/138 [==============================] - 0s 3ms/step - loss: 0.0153\n",
            "Epoch 14/20\n",
            "138/138 [==============================] - 0s 3ms/step - loss: 0.0150\n",
            "Epoch 15/20\n",
            "138/138 [==============================] - 0s 3ms/step - loss: 0.0150\n",
            "Epoch 16/20\n",
            "138/138 [==============================] - 0s 3ms/step - loss: 0.0152\n",
            "Epoch 17/20\n",
            "138/138 [==============================] - 0s 3ms/step - loss: 0.0147\n",
            "Epoch 18/20\n",
            "138/138 [==============================] - 0s 3ms/step - loss: 0.0147\n",
            "Epoch 19/20\n",
            "138/138 [==============================] - 0s 3ms/step - loss: 0.0147\n",
            "Epoch 20/20\n",
            "138/138 [==============================] - 0s 3ms/step - loss: 0.0146\n"
          ]
        },
        {
          "output_type": "execute_result",
          "data": {
            "text/plain": [
              "<keras.callbacks.History at 0x7ffb4be57c50>"
            ]
          },
          "metadata": {},
          "execution_count": 35
        }
      ]
    },
    {
      "cell_type": "code",
      "metadata": {
        "colab": {
          "base_uri": "https://localhost:8080/",
          "height": 390
        },
        "id": "izs2saqn9iww",
        "outputId": "c9c448ae-3246-43b7-8af1-75fd109b43e7"
      },
      "source": [
        "# Determining all LSTM predicted values so as to compare them with the actual test values \n",
        "n_features = scaled_train_data.shape[1]\n",
        "test_outputs = []\n",
        "batch = scaled_train_data_new[-length:].reshape((1, length, n_features))\n",
        "\n",
        "for i in range(len(full_test)):\n",
        "    test_out = model.predict(batch)[0]\n",
        "    test_outputs.append(test_out) \n",
        "    batch = np.append(batch[:,1:,:],[[test_out]],axis=1)\n",
        "\n",
        "\n",
        "# Applying the inverse_transform function to the test_outputs to get their original values\n",
        "true_outputs1 = scaler.inverse_transform(test_outputs)\n",
        "\n",
        "\n",
        "\n",
        "# Converting the true_outputs from np.ndarray to pandas dataframe\n",
        "true_outputs1 = pd.DataFrame(data=true_outputs1,columns=full_test.columns,index=full_test.index)\n",
        "\n",
        "# Predicted values \n",
        "\n",
        "true_outputs1.head(10)\n",
        "\n"
      ],
      "execution_count": 36,
      "outputs": [
        {
          "output_type": "execute_result",
          "data": {
            "text/html": [
              "<div>\n",
              "<style scoped>\n",
              "    .dataframe tbody tr th:only-of-type {\n",
              "        vertical-align: middle;\n",
              "    }\n",
              "\n",
              "    .dataframe tbody tr th {\n",
              "        vertical-align: top;\n",
              "    }\n",
              "\n",
              "    .dataframe thead th {\n",
              "        text-align: right;\n",
              "    }\n",
              "</style>\n",
              "<table border=\"1\" class=\"dataframe\">\n",
              "  <thead>\n",
              "    <tr style=\"text-align: right;\">\n",
              "      <th></th>\n",
              "      <th></th>\n",
              "      <th>NSR</th>\n",
              "    </tr>\n",
              "    <tr>\n",
              "      <th>Category</th>\n",
              "      <th>PSTG. DATE</th>\n",
              "      <th></th>\n",
              "    </tr>\n",
              "  </thead>\n",
              "  <tbody>\n",
              "    <tr>\n",
              "      <th rowspan=\"10\" valign=\"top\">LCV</th>\n",
              "      <th>2021-08-22</th>\n",
              "      <td>10.560736</td>\n",
              "    </tr>\n",
              "    <tr>\n",
              "      <th>2021-08-23</th>\n",
              "      <td>5.561810</td>\n",
              "    </tr>\n",
              "    <tr>\n",
              "      <th>2021-08-24</th>\n",
              "      <td>7.567561</td>\n",
              "    </tr>\n",
              "    <tr>\n",
              "      <th>2021-08-25</th>\n",
              "      <td>11.090621</td>\n",
              "    </tr>\n",
              "    <tr>\n",
              "      <th>2021-08-26</th>\n",
              "      <td>9.883490</td>\n",
              "    </tr>\n",
              "    <tr>\n",
              "      <th>2021-08-27</th>\n",
              "      <td>12.147256</td>\n",
              "    </tr>\n",
              "    <tr>\n",
              "      <th>2021-08-28</th>\n",
              "      <td>13.723982</td>\n",
              "    </tr>\n",
              "    <tr>\n",
              "      <th>2021-08-29</th>\n",
              "      <td>14.632455</td>\n",
              "    </tr>\n",
              "    <tr>\n",
              "      <th>2021-08-30</th>\n",
              "      <td>16.362043</td>\n",
              "    </tr>\n",
              "    <tr>\n",
              "      <th>2021-08-31</th>\n",
              "      <td>17.846779</td>\n",
              "    </tr>\n",
              "  </tbody>\n",
              "</table>\n",
              "</div>"
            ],
            "text/plain": [
              "                           NSR\n",
              "Category PSTG. DATE           \n",
              "LCV      2021-08-22  10.560736\n",
              "         2021-08-23   5.561810\n",
              "         2021-08-24   7.567561\n",
              "         2021-08-25  11.090621\n",
              "         2021-08-26   9.883490\n",
              "         2021-08-27  12.147256\n",
              "         2021-08-28  13.723982\n",
              "         2021-08-29  14.632455\n",
              "         2021-08-30  16.362043\n",
              "         2021-08-31  17.846779"
            ]
          },
          "metadata": {},
          "execution_count": 36
        }
      ]
    },
    {
      "cell_type": "code",
      "metadata": {
        "id": "A4tC5a2Aa1RM"
      },
      "source": [
        ""
      ],
      "execution_count": 36,
      "outputs": []
    },
    {
      "cell_type": "code",
      "metadata": {
        "colab": {
          "base_uri": "https://localhost:8080/",
          "height": 171
        },
        "id": "hSoMrTJ8ASIk",
        "outputId": "bfa6848b-9de9-4ec6-ac17-89587c47cc2d"
      },
      "source": [
        "pd.concat([train_data_new['NSR'],true_outputs1['NSR']],axis=1).plot()\n"
      ],
      "execution_count": 37,
      "outputs": [
        {
          "output_type": "execute_result",
          "data": {
            "text/plain": [
              "<matplotlib.axes._subplots.AxesSubplot at 0x7ffb4ba526d0>"
            ]
          },
          "metadata": {},
          "execution_count": 37
        },
        {
          "output_type": "display_data",
          "data": {
            "image/png": "[encoded data removed]",
            "text/plain": [
              "<Figure size 1800x216 with 1 Axes>"
            ]
          },
          "metadata": {
            "needs_background": "light"
          }
        }
      ]
    }
  ]
}