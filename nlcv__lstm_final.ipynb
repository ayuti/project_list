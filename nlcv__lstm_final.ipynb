{
  "nbformat": 4,
  "nbformat_minor": 0,
  "metadata": {
    "colab": {
      "name": "nlcv_ lstm_final.ipynb",
      "provenance": [],
      "collapsed_sections": [],
      "authorship_tag": "ABX9TyM/E9CCLWvxVc2SnYf6uhtY",
      "include_colab_link": true
    },
    "kernelspec": {
      "name": "python3",
      "display_name": "Python 3"
    },
    "language_info": {
      "name": "python"
    }
  },
  "cells": [
    {
      "cell_type": "markdown",
      "metadata": {
        "id": "view-in-github",
        "colab_type": "text"
      },
      "source": [
        "<a href=\"https://colab.research.google.com/github/ayuti/project_list/blob/master/nlcv__lstm_final.ipynb\" target=\"_parent\"><img src=\"https://colab.research.google.com/assets/colab-badge.svg\" alt=\"Open In Colab\"/></a>"
      ]
    },
    {
      "cell_type": "code",
      "metadata": {
        "id": "66lPYs1QTTDR"
      },
      "source": [
        "# Importing the necessary libraries\n",
        "import numpy as np\n",
        "import pandas as pd\n",
        "import matplotlib.pyplot as plt\n",
        "import seaborn as sns\n",
        "from datetime import datetime\n"
      ],
      "execution_count": 112,
      "outputs": []
    },
    {
      "cell_type": "code",
      "metadata": {
        "colab": {
          "base_uri": "https://localhost:8080/",
          "height": 204
        },
        "id": "ZOasHVRLTeaH",
        "outputId": "35d8f31c-ce02-4227-d9dd-c38840489167"
      },
      "source": [
        "df = pd.read_excel(r'category_nsr_aug.xlsx')\n",
        "\n",
        "df.head(5)\n"
      ],
      "execution_count": 113,
      "outputs": [
        {
          "output_type": "execute_result",
          "data": {
            "text/html": [
              "<div>\n",
              "<style scoped>\n",
              "    .dataframe tbody tr th:only-of-type {\n",
              "        vertical-align: middle;\n",
              "    }\n",
              "\n",
              "    .dataframe tbody tr th {\n",
              "        vertical-align: top;\n",
              "    }\n",
              "\n",
              "    .dataframe thead th {\n",
              "        text-align: right;\n",
              "    }\n",
              "</style>\n",
              "<table border=\"1\" class=\"dataframe\">\n",
              "  <thead>\n",
              "    <tr style=\"text-align: right;\">\n",
              "      <th></th>\n",
              "      <th>PSTG. DATE</th>\n",
              "      <th>Category</th>\n",
              "      <th>NSR</th>\n",
              "    </tr>\n",
              "  </thead>\n",
              "  <tbody>\n",
              "    <tr>\n",
              "      <th>0</th>\n",
              "      <td>2021-04-02</td>\n",
              "      <td>HCV</td>\n",
              "      <td>20.014434</td>\n",
              "    </tr>\n",
              "    <tr>\n",
              "      <th>1</th>\n",
              "      <td>2021-04-02</td>\n",
              "      <td>HCV</td>\n",
              "      <td>25.567178</td>\n",
              "    </tr>\n",
              "    <tr>\n",
              "      <th>2</th>\n",
              "      <td>2021-04-02</td>\n",
              "      <td>HCV</td>\n",
              "      <td>25.833700</td>\n",
              "    </tr>\n",
              "    <tr>\n",
              "      <th>3</th>\n",
              "      <td>2021-04-02</td>\n",
              "      <td>HCV</td>\n",
              "      <td>25.373057</td>\n",
              "    </tr>\n",
              "    <tr>\n",
              "      <th>4</th>\n",
              "      <td>2021-04-02</td>\n",
              "      <td>HCV</td>\n",
              "      <td>21.368760</td>\n",
              "    </tr>\n",
              "  </tbody>\n",
              "</table>\n",
              "</div>"
            ],
            "text/plain": [
              "  PSTG. DATE Category        NSR\n",
              "0 2021-04-02      HCV  20.014434\n",
              "1 2021-04-02      HCV  25.567178\n",
              "2 2021-04-02      HCV  25.833700\n",
              "3 2021-04-02      HCV  25.373057\n",
              "4 2021-04-02      HCV  21.368760"
            ]
          },
          "metadata": {},
          "execution_count": 113
        }
      ]
    },
    {
      "cell_type": "code",
      "metadata": {
        "colab": {
          "base_uri": "https://localhost:8080/"
        },
        "id": "yy5B2MFNTecb",
        "outputId": "fbdd266e-a92c-48b9-c0c1-d86cc0a8e0e6"
      },
      "source": [
        "df.info()"
      ],
      "execution_count": 114,
      "outputs": [
        {
          "output_type": "stream",
          "name": "stdout",
          "text": [
            "<class 'pandas.core.frame.DataFrame'>\n",
            "RangeIndex: 1074 entries, 0 to 1073\n",
            "Data columns (total 3 columns):\n",
            " #   Column      Non-Null Count  Dtype         \n",
            "---  ------      --------------  -----         \n",
            " 0   PSTG. DATE  1074 non-null   datetime64[ns]\n",
            " 1   Category    1074 non-null   object        \n",
            " 2   NSR         1074 non-null   float64       \n",
            "dtypes: datetime64[ns](1), float64(1), object(1)\n",
            "memory usage: 25.3+ KB\n"
          ]
        }
      ]
    },
    {
      "cell_type": "code",
      "metadata": {
        "colab": {
          "base_uri": "https://localhost:8080/"
        },
        "id": "oQZxmhjYTefv",
        "outputId": "7e769b3e-b8fd-46a3-e7c8-0368dffb9781"
      },
      "source": [
        "df['Category'] = df['Category'].astype('string')\n",
        "\n",
        "df['NSR'] = df['NSR'].astype(int)\n",
        "\n",
        "df.dtypes\n"
      ],
      "execution_count": 115,
      "outputs": [
        {
          "output_type": "execute_result",
          "data": {
            "text/plain": [
              "PSTG. DATE    datetime64[ns]\n",
              "Category              string\n",
              "NSR                    int64\n",
              "dtype: object"
            ]
          },
          "metadata": {},
          "execution_count": 115
        }
      ]
    },
    {
      "cell_type": "code",
      "metadata": {
        "colab": {
          "base_uri": "https://localhost:8080/"
        },
        "id": "jWg_JCD5TrG1",
        "outputId": "0f74cb0d-0b8b-49d3-a627-6a07f4a23d21"
      },
      "source": [
        "df['Category'].value_counts()"
      ],
      "execution_count": 116,
      "outputs": [
        {
          "output_type": "execute_result",
          "data": {
            "text/plain": [
              "HCV      471\n",
              "ICV      271\n",
              "LCV      239\n",
              "N LCV     68\n",
              "Bus       25\n",
              "Name: Category, dtype: Int64"
            ]
          },
          "metadata": {},
          "execution_count": 116
        }
      ]
    },
    {
      "cell_type": "code",
      "metadata": {
        "colab": {
          "base_uri": "https://localhost:8080/",
          "height": 204
        },
        "id": "ro7go9gwTvGI",
        "outputId": "b19ba6db-ca60-4245-e079-8ab50ba3658d"
      },
      "source": [
        "# Features\n",
        "features_considered = ['PSTG. DATE', 'Category','NSR']\n",
        "\n",
        "features = df[features_considered]\n",
        "#features.index = df['Date Time']\n",
        "features.head()\n"
      ],
      "execution_count": 117,
      "outputs": [
        {
          "output_type": "execute_result",
          "data": {
            "text/html": [
              "<div>\n",
              "<style scoped>\n",
              "    .dataframe tbody tr th:only-of-type {\n",
              "        vertical-align: middle;\n",
              "    }\n",
              "\n",
              "    .dataframe tbody tr th {\n",
              "        vertical-align: top;\n",
              "    }\n",
              "\n",
              "    .dataframe thead th {\n",
              "        text-align: right;\n",
              "    }\n",
              "</style>\n",
              "<table border=\"1\" class=\"dataframe\">\n",
              "  <thead>\n",
              "    <tr style=\"text-align: right;\">\n",
              "      <th></th>\n",
              "      <th>PSTG. DATE</th>\n",
              "      <th>Category</th>\n",
              "      <th>NSR</th>\n",
              "    </tr>\n",
              "  </thead>\n",
              "  <tbody>\n",
              "    <tr>\n",
              "      <th>0</th>\n",
              "      <td>2021-04-02</td>\n",
              "      <td>HCV</td>\n",
              "      <td>20</td>\n",
              "    </tr>\n",
              "    <tr>\n",
              "      <th>1</th>\n",
              "      <td>2021-04-02</td>\n",
              "      <td>HCV</td>\n",
              "      <td>25</td>\n",
              "    </tr>\n",
              "    <tr>\n",
              "      <th>2</th>\n",
              "      <td>2021-04-02</td>\n",
              "      <td>HCV</td>\n",
              "      <td>25</td>\n",
              "    </tr>\n",
              "    <tr>\n",
              "      <th>3</th>\n",
              "      <td>2021-04-02</td>\n",
              "      <td>HCV</td>\n",
              "      <td>25</td>\n",
              "    </tr>\n",
              "    <tr>\n",
              "      <th>4</th>\n",
              "      <td>2021-04-02</td>\n",
              "      <td>HCV</td>\n",
              "      <td>21</td>\n",
              "    </tr>\n",
              "  </tbody>\n",
              "</table>\n",
              "</div>"
            ],
            "text/plain": [
              "  PSTG. DATE Category  NSR\n",
              "0 2021-04-02      HCV   20\n",
              "1 2021-04-02      HCV   25\n",
              "2 2021-04-02      HCV   25\n",
              "3 2021-04-02      HCV   25\n",
              "4 2021-04-02      HCV   21"
            ]
          },
          "metadata": {},
          "execution_count": 117
        }
      ]
    },
    {
      "cell_type": "code",
      "metadata": {
        "colab": {
          "base_uri": "https://localhost:8080/",
          "height": 450
        },
        "id": "a3hvFhb0T4Sw",
        "outputId": "258dc1c2-7fb8-4ee0-c1d5-18478e37d08d"
      },
      "source": [
        "category_df=features.set_index('PSTG. DATE').groupby('Category').resample('D').sum()\n",
        "category_df"
      ],
      "execution_count": 118,
      "outputs": [
        {
          "output_type": "execute_result",
          "data": {
            "text/html": [
              "<div>\n",
              "<style scoped>\n",
              "    .dataframe tbody tr th:only-of-type {\n",
              "        vertical-align: middle;\n",
              "    }\n",
              "\n",
              "    .dataframe tbody tr th {\n",
              "        vertical-align: top;\n",
              "    }\n",
              "\n",
              "    .dataframe thead th {\n",
              "        text-align: right;\n",
              "    }\n",
              "</style>\n",
              "<table border=\"1\" class=\"dataframe\">\n",
              "  <thead>\n",
              "    <tr style=\"text-align: right;\">\n",
              "      <th></th>\n",
              "      <th></th>\n",
              "      <th>NSR</th>\n",
              "    </tr>\n",
              "    <tr>\n",
              "      <th>Category</th>\n",
              "      <th>PSTG. DATE</th>\n",
              "      <th></th>\n",
              "    </tr>\n",
              "  </thead>\n",
              "  <tbody>\n",
              "    <tr>\n",
              "      <th rowspan=\"5\" valign=\"top\">Bus</th>\n",
              "      <th>2021-04-07</th>\n",
              "      <td>11</td>\n",
              "    </tr>\n",
              "    <tr>\n",
              "      <th>2021-04-08</th>\n",
              "      <td>0</td>\n",
              "    </tr>\n",
              "    <tr>\n",
              "      <th>2021-04-09</th>\n",
              "      <td>0</td>\n",
              "    </tr>\n",
              "    <tr>\n",
              "      <th>2021-04-10</th>\n",
              "      <td>0</td>\n",
              "    </tr>\n",
              "    <tr>\n",
              "      <th>2021-04-11</th>\n",
              "      <td>0</td>\n",
              "    </tr>\n",
              "    <tr>\n",
              "      <th>...</th>\n",
              "      <th>...</th>\n",
              "      <td>...</td>\n",
              "    </tr>\n",
              "    <tr>\n",
              "      <th rowspan=\"5\" valign=\"top\">N LCV</th>\n",
              "      <th>2021-08-27</th>\n",
              "      <td>0</td>\n",
              "    </tr>\n",
              "    <tr>\n",
              "      <th>2021-08-28</th>\n",
              "      <td>20</td>\n",
              "    </tr>\n",
              "    <tr>\n",
              "      <th>2021-08-29</th>\n",
              "      <td>0</td>\n",
              "    </tr>\n",
              "    <tr>\n",
              "      <th>2021-08-30</th>\n",
              "      <td>30</td>\n",
              "    </tr>\n",
              "    <tr>\n",
              "      <th>2021-08-31</th>\n",
              "      <td>96</td>\n",
              "    </tr>\n",
              "  </tbody>\n",
              "</table>\n",
              "<p>730 rows × 1 columns</p>\n",
              "</div>"
            ],
            "text/plain": [
              "                     NSR\n",
              "Category PSTG. DATE     \n",
              "Bus      2021-04-07   11\n",
              "         2021-04-08    0\n",
              "         2021-04-09    0\n",
              "         2021-04-10    0\n",
              "         2021-04-11    0\n",
              "...                  ...\n",
              "N LCV    2021-08-27    0\n",
              "         2021-08-28   20\n",
              "         2021-08-29    0\n",
              "         2021-08-30   30\n",
              "         2021-08-31   96\n",
              "\n",
              "[730 rows x 1 columns]"
            ]
          },
          "metadata": {},
          "execution_count": 118
        }
      ]
    },
    {
      "cell_type": "code",
      "metadata": {
        "colab": {
          "base_uri": "https://localhost:8080/",
          "height": 173
        },
        "id": "6YOjb9wmT-Zp",
        "outputId": "baca3354-2c3a-484f-ae64-2d878498a320"
      },
      "source": [
        "plt.rcParams[\"figure.figsize\"] = (25,3)\n",
        "category_df.query('Category==\"N LCV\"')[['NSR']].plot()\n"
      ],
      "execution_count": 119,
      "outputs": [
        {
          "output_type": "execute_result",
          "data": {
            "text/plain": [
              "<matplotlib.axes._subplots.AxesSubplot at 0x7feb693e3310>"
            ]
          },
          "metadata": {},
          "execution_count": 119
        },
        {
          "output_type": "display_data",
          "data": {
            "image/png": "[encoded data removed]",
            "text/plain": [
              "<Figure size 1800x216 with 1 Axes>"
            ]
          },
          "metadata": {
            "needs_background": "light"
          }
        }
      ]
    },
    {
      "cell_type": "code",
      "metadata": {
        "colab": {
          "base_uri": "https://localhost:8080/",
          "height": 450
        },
        "id": "FNpjKA0WT-nt",
        "outputId": "72a0e212-8860-46d2-d252-c9a87032574f"
      },
      "source": [
        "nlcv_df=category_df.query('Category==\"N LCV\"')[['NSR']]\n",
        "\n",
        "nlcv_df"
      ],
      "execution_count": 120,
      "outputs": [
        {
          "output_type": "execute_result",
          "data": {
            "text/html": [
              "<div>\n",
              "<style scoped>\n",
              "    .dataframe tbody tr th:only-of-type {\n",
              "        vertical-align: middle;\n",
              "    }\n",
              "\n",
              "    .dataframe tbody tr th {\n",
              "        vertical-align: top;\n",
              "    }\n",
              "\n",
              "    .dataframe thead th {\n",
              "        text-align: right;\n",
              "    }\n",
              "</style>\n",
              "<table border=\"1\" class=\"dataframe\">\n",
              "  <thead>\n",
              "    <tr style=\"text-align: right;\">\n",
              "      <th></th>\n",
              "      <th></th>\n",
              "      <th>NSR</th>\n",
              "    </tr>\n",
              "    <tr>\n",
              "      <th>Category</th>\n",
              "      <th>PSTG. DATE</th>\n",
              "      <th></th>\n",
              "    </tr>\n",
              "  </thead>\n",
              "  <tbody>\n",
              "    <tr>\n",
              "      <th rowspan=\"11\" valign=\"top\">N LCV</th>\n",
              "      <th>2021-04-23</th>\n",
              "      <td>9</td>\n",
              "    </tr>\n",
              "    <tr>\n",
              "      <th>2021-04-24</th>\n",
              "      <td>0</td>\n",
              "    </tr>\n",
              "    <tr>\n",
              "      <th>2021-04-25</th>\n",
              "      <td>0</td>\n",
              "    </tr>\n",
              "    <tr>\n",
              "      <th>2021-04-26</th>\n",
              "      <td>0</td>\n",
              "    </tr>\n",
              "    <tr>\n",
              "      <th>2021-04-27</th>\n",
              "      <td>0</td>\n",
              "    </tr>\n",
              "    <tr>\n",
              "      <th>...</th>\n",
              "      <td>...</td>\n",
              "    </tr>\n",
              "    <tr>\n",
              "      <th>2021-08-27</th>\n",
              "      <td>0</td>\n",
              "    </tr>\n",
              "    <tr>\n",
              "      <th>2021-08-28</th>\n",
              "      <td>20</td>\n",
              "    </tr>\n",
              "    <tr>\n",
              "      <th>2021-08-29</th>\n",
              "      <td>0</td>\n",
              "    </tr>\n",
              "    <tr>\n",
              "      <th>2021-08-30</th>\n",
              "      <td>30</td>\n",
              "    </tr>\n",
              "    <tr>\n",
              "      <th>2021-08-31</th>\n",
              "      <td>96</td>\n",
              "    </tr>\n",
              "  </tbody>\n",
              "</table>\n",
              "<p>131 rows × 1 columns</p>\n",
              "</div>"
            ],
            "text/plain": [
              "                     NSR\n",
              "Category PSTG. DATE     \n",
              "N LCV    2021-04-23    9\n",
              "         2021-04-24    0\n",
              "         2021-04-25    0\n",
              "         2021-04-26    0\n",
              "         2021-04-27    0\n",
              "...                  ...\n",
              "         2021-08-27    0\n",
              "         2021-08-28   20\n",
              "         2021-08-29    0\n",
              "         2021-08-30   30\n",
              "         2021-08-31   96\n",
              "\n",
              "[131 rows x 1 columns]"
            ]
          },
          "metadata": {},
          "execution_count": 120
        }
      ]
    },
    {
      "cell_type": "code",
      "metadata": {
        "colab": {
          "base_uri": "https://localhost:8080/"
        },
        "id": "gGJyblo5UZGT",
        "outputId": "d9a74b5e-82b3-4354-f52f-cfed889793fa"
      },
      "source": [
        "len(nlcv_df)\n"
      ],
      "execution_count": 121,
      "outputs": [
        {
          "output_type": "execute_result",
          "data": {
            "text/plain": [
              "131"
            ]
          },
          "metadata": {},
          "execution_count": 121
        }
      ]
    },
    {
      "cell_type": "code",
      "metadata": {
        "colab": {
          "base_uri": "https://localhost:8080/"
        },
        "id": "VaiZ8D7uUZJz",
        "outputId": "2fced3a6-8ee2-4644-9324-f14e0dd178f9"
      },
      "source": [
        "test_index=30\n",
        "train_data=nlcv_df.iloc[:-test_index]\n",
        "test_data=nlcv_df.iloc[-test_index:]\n",
        "\n",
        "print(len(train_data),len(test_data))"
      ],
      "execution_count": 122,
      "outputs": [
        {
          "output_type": "stream",
          "name": "stdout",
          "text": [
            "101 30\n"
          ]
        }
      ]
    },
    {
      "cell_type": "code",
      "metadata": {
        "colab": {
          "base_uri": "https://localhost:8080/",
          "height": 235
        },
        "id": "NZ5N4P1yXdIf",
        "outputId": "e5dd3959-7e4e-46b6-a749-649a6ffef9f3"
      },
      "source": [
        "test_data.head(5)"
      ],
      "execution_count": 123,
      "outputs": [
        {
          "output_type": "execute_result",
          "data": {
            "text/html": [
              "<div>\n",
              "<style scoped>\n",
              "    .dataframe tbody tr th:only-of-type {\n",
              "        vertical-align: middle;\n",
              "    }\n",
              "\n",
              "    .dataframe tbody tr th {\n",
              "        vertical-align: top;\n",
              "    }\n",
              "\n",
              "    .dataframe thead th {\n",
              "        text-align: right;\n",
              "    }\n",
              "</style>\n",
              "<table border=\"1\" class=\"dataframe\">\n",
              "  <thead>\n",
              "    <tr style=\"text-align: right;\">\n",
              "      <th></th>\n",
              "      <th></th>\n",
              "      <th>NSR</th>\n",
              "    </tr>\n",
              "    <tr>\n",
              "      <th>Category</th>\n",
              "      <th>PSTG. DATE</th>\n",
              "      <th></th>\n",
              "    </tr>\n",
              "  </thead>\n",
              "  <tbody>\n",
              "    <tr>\n",
              "      <th rowspan=\"5\" valign=\"top\">N LCV</th>\n",
              "      <th>2021-08-02</th>\n",
              "      <td>0</td>\n",
              "    </tr>\n",
              "    <tr>\n",
              "      <th>2021-08-03</th>\n",
              "      <td>0</td>\n",
              "    </tr>\n",
              "    <tr>\n",
              "      <th>2021-08-04</th>\n",
              "      <td>0</td>\n",
              "    </tr>\n",
              "    <tr>\n",
              "      <th>2021-08-05</th>\n",
              "      <td>0</td>\n",
              "    </tr>\n",
              "    <tr>\n",
              "      <th>2021-08-06</th>\n",
              "      <td>9</td>\n",
              "    </tr>\n",
              "  </tbody>\n",
              "</table>\n",
              "</div>"
            ],
            "text/plain": [
              "                     NSR\n",
              "Category PSTG. DATE     \n",
              "N LCV    2021-08-02    0\n",
              "         2021-08-03    0\n",
              "         2021-08-04    0\n",
              "         2021-08-05    0\n",
              "         2021-08-06    9"
            ]
          },
          "metadata": {},
          "execution_count": 123
        }
      ]
    },
    {
      "cell_type": "code",
      "metadata": {
        "id": "r7hLftnpT-rH"
      },
      "source": [
        "from sklearn.preprocessing import MinMaxScaler\n",
        "\n",
        "scaler=MinMaxScaler()\n",
        "\n",
        "scaled_train_data=scaler.fit_transform(train_data)\n",
        "scaled_test_data=scaler.transform(test_data)\n"
      ],
      "execution_count": 124,
      "outputs": []
    },
    {
      "cell_type": "code",
      "metadata": {
        "id": "SKCjuWACT4xK"
      },
      "source": [
        "length=3\n",
        "batch_size=1\n",
        "features=scaled_train_data.shape[1]\n"
      ],
      "execution_count": 125,
      "outputs": []
    },
    {
      "cell_type": "code",
      "metadata": {
        "id": "Zh0s07aQVI1j"
      },
      "source": [
        "# Importing the keras library and the TimeseriesGenerator\n",
        "from tensorflow.keras.preprocessing.sequence import TimeseriesGenerator\n",
        "\n",
        "time_series_generator=TimeseriesGenerator(scaled_train_data,scaled_train_data,length=length,batch_size=batch_size)\n"
      ],
      "execution_count": 126,
      "outputs": []
    },
    {
      "cell_type": "code",
      "metadata": {
        "id": "Om-HixnBVSiU"
      },
      "source": [
        "# Importing the necessary libraries to create/construct the neural network model\n",
        "from tensorflow.keras.models import Sequential\n",
        "from tensorflow.keras.layers import Dense,LSTM\n",
        "from tensorflow.keras import initializers\n"
      ],
      "execution_count": 127,
      "outputs": []
    },
    {
      "cell_type": "code",
      "metadata": {
        "id": "eSm9MzefVYfi"
      },
      "source": [
        "import tensorflow as tf\n",
        "initializer = tf.keras.initializers.he_uniform(seed=0)\n",
        "# Initially, the network model is defined \n",
        "model = Sequential()\n",
        "\n",
        "# Hidden layer neurons are chosen to be 51 equal to the defined length (number of past time series data per batch)\n",
        "# Selected Activation function has been the rectified linear unit\n",
        "model.add(LSTM(51, activation='relu', input_shape=(length,features),kernel_initializer=initializer,\n",
        "                     bias_initializer=initializers.Constant(0.01)))\n",
        "# The output layer consists of 4 neuron (one neuron for each input feature) with a 'sigmoid' activation fuction \n",
        "model.add(Dense(features,activation='sigmoid',kernel_initializer=initializer,\n",
        "                     bias_initializer=initializers.Constant(0.01)))\n",
        "# The model is compiled with selected loss function= 'mse', whereas the selected optimizer is 'adam' with a learning rate\n",
        "# of 0.001, epsilon=1e-8 and with the default values of the exponential decay rates for the first and\n",
        "# second moment estimates\n",
        "opt = tf.keras.optimizers.Adam(learning_rate=0.001,\n",
        "    beta_1=0.9,\n",
        "    beta_2=0.999,\n",
        "    epsilon=1e-8)\n",
        "\n",
        "model.compile(optimizer=opt, loss='mse')\n"
      ],
      "execution_count": 128,
      "outputs": []
    },
    {
      "cell_type": "code",
      "metadata": {
        "colab": {
          "base_uri": "https://localhost:8080/"
        },
        "id": "GBtTGU9OVddC",
        "outputId": "c189ed47-8a75-4ae4-b72f-754bc5bad0ed"
      },
      "source": [
        "model.fit(time_series_generator,epochs=20)\n"
      ],
      "execution_count": 129,
      "outputs": [
        {
          "output_type": "stream",
          "name": "stdout",
          "text": [
            "Epoch 1/20\n",
            "98/98 [==============================] - 2s 4ms/step - loss: 0.1285\n",
            "Epoch 2/20\n",
            "98/98 [==============================] - 0s 3ms/step - loss: 0.0173\n",
            "Epoch 3/20\n",
            "98/98 [==============================] - 0s 3ms/step - loss: 0.0156\n",
            "Epoch 4/20\n",
            "98/98 [==============================] - 0s 4ms/step - loss: 0.0156\n",
            "Epoch 5/20\n",
            "98/98 [==============================] - 0s 4ms/step - loss: 0.0155\n",
            "Epoch 6/20\n",
            "98/98 [==============================] - 0s 3ms/step - loss: 0.0156\n",
            "Epoch 7/20\n",
            "98/98 [==============================] - 0s 3ms/step - loss: 0.0156\n",
            "Epoch 8/20\n",
            "98/98 [==============================] - 0s 3ms/step - loss: 0.0156\n",
            "Epoch 9/20\n",
            "98/98 [==============================] - 0s 4ms/step - loss: 0.0155\n",
            "Epoch 10/20\n",
            "98/98 [==============================] - 0s 4ms/step - loss: 0.0155\n",
            "Epoch 11/20\n",
            "98/98 [==============================] - 0s 3ms/step - loss: 0.0155\n",
            "Epoch 12/20\n",
            "98/98 [==============================] - 0s 3ms/step - loss: 0.0155\n",
            "Epoch 13/20\n",
            "98/98 [==============================] - 0s 3ms/step - loss: 0.0153\n",
            "Epoch 14/20\n",
            "98/98 [==============================] - 0s 4ms/step - loss: 0.0154\n",
            "Epoch 15/20\n",
            "98/98 [==============================] - 0s 3ms/step - loss: 0.0154\n",
            "Epoch 16/20\n",
            "98/98 [==============================] - 0s 4ms/step - loss: 0.0153\n",
            "Epoch 17/20\n",
            "98/98 [==============================] - 0s 4ms/step - loss: 0.0155\n",
            "Epoch 18/20\n",
            "98/98 [==============================] - 0s 3ms/step - loss: 0.0154\n",
            "Epoch 19/20\n",
            "98/98 [==============================] - 0s 3ms/step - loss: 0.0151\n",
            "Epoch 20/20\n",
            "98/98 [==============================] - 0s 3ms/step - loss: 0.0154\n"
          ]
        },
        {
          "output_type": "execute_result",
          "data": {
            "text/plain": [
              "<keras.callbacks.History at 0x7feb678e1ad0>"
            ]
          },
          "metadata": {},
          "execution_count": 129
        }
      ]
    },
    {
      "cell_type": "code",
      "metadata": {
        "colab": {
          "base_uri": "https://localhost:8080/",
          "height": 162
        },
        "id": "E9WAoGxmVdgb",
        "outputId": "20a96207-9201-4789-d56c-c1c9ffdab156"
      },
      "source": [
        "# Training loss plot\n",
        "loss = pd.DataFrame(model.history.history)\n",
        "loss.plot()\n",
        "plt.title('LSTM Training Loss',fontweight='bold')\n",
        "plt.xlabel('Epochs',fontweight='bold')\n",
        "plt.ylabel(\"Loss-'MSE'\",fontweight='bold');\n"
      ],
      "execution_count": 130,
      "outputs": [
        {
          "output_type": "display_data",
          "data": {
            "image/png": "[encoded data removed]",
            "text/plain": [
              "<Figure size 1800x216 with 1 Axes>"
            ]
          },
          "metadata": {
            "needs_background": "light"
          }
        }
      ]
    },
    {
      "cell_type": "code",
      "metadata": {
        "id": "MWPW8fPnVYh7"
      },
      "source": [
        "# Determining all LSTM predicted values so as to compare them with the actual test values \n",
        "n_features = scaled_train_data.shape[1]\n",
        "test_outputs = []\n",
        "batch = scaled_train_data[-length:].reshape((1, length, n_features))\n",
        "\n",
        "for i in range(len(test_data)):\n",
        "    test_out = model.predict(batch)[0]\n",
        "    test_outputs.append(test_out) \n",
        "    batch = np.append(batch[:,1:,:],[[test_out]],axis=1)\n"
      ],
      "execution_count": 131,
      "outputs": []
    },
    {
      "cell_type": "code",
      "metadata": {
        "id": "UWc79s8JVYli"
      },
      "source": [
        "# Applying the inverse_transform function to the test_outputs to get their original values\n",
        "true_outputs = scaler.inverse_transform(test_outputs)\n"
      ],
      "execution_count": 132,
      "outputs": []
    },
    {
      "cell_type": "code",
      "metadata": {
        "id": "DMh-6f5WW6F7"
      },
      "source": [
        "# Converting the true_outputs from np.ndarray to pandas dataframe\n",
        "true_outputs = pd.DataFrame(data=true_outputs,columns=test_data.columns,index=test_data.index)\n"
      ],
      "execution_count": 133,
      "outputs": []
    },
    {
      "cell_type": "code",
      "metadata": {
        "colab": {
          "base_uri": "https://localhost:8080/",
          "height": 235
        },
        "id": "gN1q77p8VSl6",
        "outputId": "78c76675-22af-476f-d897-5623c9a76f47"
      },
      "source": [
        "# Predicted values - first 5 predictions\n",
        "true_outputs.head(5)\n"
      ],
      "execution_count": 134,
      "outputs": [
        {
          "output_type": "execute_result",
          "data": {
            "text/html": [
              "<div>\n",
              "<style scoped>\n",
              "    .dataframe tbody tr th:only-of-type {\n",
              "        vertical-align: middle;\n",
              "    }\n",
              "\n",
              "    .dataframe tbody tr th {\n",
              "        vertical-align: top;\n",
              "    }\n",
              "\n",
              "    .dataframe thead th {\n",
              "        text-align: right;\n",
              "    }\n",
              "</style>\n",
              "<table border=\"1\" class=\"dataframe\">\n",
              "  <thead>\n",
              "    <tr style=\"text-align: right;\">\n",
              "      <th></th>\n",
              "      <th></th>\n",
              "      <th>NSR</th>\n",
              "    </tr>\n",
              "    <tr>\n",
              "      <th>Category</th>\n",
              "      <th>PSTG. DATE</th>\n",
              "      <th></th>\n",
              "    </tr>\n",
              "  </thead>\n",
              "  <tbody>\n",
              "    <tr>\n",
              "      <th rowspan=\"5\" valign=\"top\">N LCV</th>\n",
              "      <th>2021-08-02</th>\n",
              "      <td>1.454619</td>\n",
              "    </tr>\n",
              "    <tr>\n",
              "      <th>2021-08-03</th>\n",
              "      <td>0.418782</td>\n",
              "    </tr>\n",
              "    <tr>\n",
              "      <th>2021-08-04</th>\n",
              "      <td>2.766091</td>\n",
              "    </tr>\n",
              "    <tr>\n",
              "      <th>2021-08-05</th>\n",
              "      <td>3.203238</td>\n",
              "    </tr>\n",
              "    <tr>\n",
              "      <th>2021-08-06</th>\n",
              "      <td>3.400659</td>\n",
              "    </tr>\n",
              "  </tbody>\n",
              "</table>\n",
              "</div>"
            ],
            "text/plain": [
              "                          NSR\n",
              "Category PSTG. DATE          \n",
              "N LCV    2021-08-02  1.454619\n",
              "         2021-08-03  0.418782\n",
              "         2021-08-04  2.766091\n",
              "         2021-08-05  3.203238\n",
              "         2021-08-06  3.400659"
            ]
          },
          "metadata": {},
          "execution_count": 134
        }
      ]
    },
    {
      "cell_type": "markdown",
      "metadata": {
        "id": "tWuUva47Bw_w"
      },
      "source": [
        "for hcv prediction on test data"
      ]
    },
    {
      "cell_type": "code",
      "metadata": {
        "colab": {
          "base_uri": "https://localhost:8080/",
          "height": 173
        },
        "id": "MVQoMjaYXHg2",
        "outputId": "f0bbcca4-653b-4482-884a-13feccaef7c9"
      },
      "source": [
        "#n_lcv_df['NSR'][:-test_index].plot(linestyle='--',marker='.',label='Train',color='r')\n",
        "#test_data['NSR'].plot(linestyle='--',marker='.',label='Targets',color='g')\n",
        "#true_outputs['NSR'].plot(linestyle='--',marker='.',label='Predictions',color='b')\n",
        "pd.concat([nlcv_df['NSR'],test_data['NSR'],true_outputs['NSR']],axis=1).plot()\n"
      ],
      "execution_count": 135,
      "outputs": [
        {
          "output_type": "execute_result",
          "data": {
            "text/plain": [
              "<matplotlib.axes._subplots.AxesSubplot at 0x7feb6745ed10>"
            ]
          },
          "metadata": {},
          "execution_count": 135
        },
        {
          "output_type": "display_data",
          "data": {
            "image/png": "[encoded data removed]",
            "text/plain": [
              "<Figure size 1800x216 with 1 Axes>"
            ]
          },
          "metadata": {
            "needs_background": "light"
          }
        }
      ]
    },
    {
      "cell_type": "code",
      "metadata": {
        "id": "4v5L1YGapJVD"
      },
      "source": [
        "#pip install chart_studio"
      ],
      "execution_count": 136,
      "outputs": []
    },
    {
      "cell_type": "code",
      "metadata": {
        "id": "PfxdwFFRVI5F",
        "colab": {
          "base_uri": "https://localhost:8080/",
          "height": 450
        },
        "outputId": "0671f38c-0de2-4b08-adca-ad90fa0f69c9"
      },
      "source": [
        "train_data1=nlcv_df\n",
        "len(train_data1)\n",
        "test_data1=90\n",
        "train_data1"
      ],
      "execution_count": 137,
      "outputs": [
        {
          "output_type": "execute_result",
          "data": {
            "text/html": [
              "<div>\n",
              "<style scoped>\n",
              "    .dataframe tbody tr th:only-of-type {\n",
              "        vertical-align: middle;\n",
              "    }\n",
              "\n",
              "    .dataframe tbody tr th {\n",
              "        vertical-align: top;\n",
              "    }\n",
              "\n",
              "    .dataframe thead th {\n",
              "        text-align: right;\n",
              "    }\n",
              "</style>\n",
              "<table border=\"1\" class=\"dataframe\">\n",
              "  <thead>\n",
              "    <tr style=\"text-align: right;\">\n",
              "      <th></th>\n",
              "      <th></th>\n",
              "      <th>NSR</th>\n",
              "    </tr>\n",
              "    <tr>\n",
              "      <th>Category</th>\n",
              "      <th>PSTG. DATE</th>\n",
              "      <th></th>\n",
              "    </tr>\n",
              "  </thead>\n",
              "  <tbody>\n",
              "    <tr>\n",
              "      <th rowspan=\"11\" valign=\"top\">N LCV</th>\n",
              "      <th>2021-04-23</th>\n",
              "      <td>9</td>\n",
              "    </tr>\n",
              "    <tr>\n",
              "      <th>2021-04-24</th>\n",
              "      <td>0</td>\n",
              "    </tr>\n",
              "    <tr>\n",
              "      <th>2021-04-25</th>\n",
              "      <td>0</td>\n",
              "    </tr>\n",
              "    <tr>\n",
              "      <th>2021-04-26</th>\n",
              "      <td>0</td>\n",
              "    </tr>\n",
              "    <tr>\n",
              "      <th>2021-04-27</th>\n",
              "      <td>0</td>\n",
              "    </tr>\n",
              "    <tr>\n",
              "      <th>...</th>\n",
              "      <td>...</td>\n",
              "    </tr>\n",
              "    <tr>\n",
              "      <th>2021-08-27</th>\n",
              "      <td>0</td>\n",
              "    </tr>\n",
              "    <tr>\n",
              "      <th>2021-08-28</th>\n",
              "      <td>20</td>\n",
              "    </tr>\n",
              "    <tr>\n",
              "      <th>2021-08-29</th>\n",
              "      <td>0</td>\n",
              "    </tr>\n",
              "    <tr>\n",
              "      <th>2021-08-30</th>\n",
              "      <td>30</td>\n",
              "    </tr>\n",
              "    <tr>\n",
              "      <th>2021-08-31</th>\n",
              "      <td>96</td>\n",
              "    </tr>\n",
              "  </tbody>\n",
              "</table>\n",
              "<p>131 rows × 1 columns</p>\n",
              "</div>"
            ],
            "text/plain": [
              "                     NSR\n",
              "Category PSTG. DATE     \n",
              "N LCV    2021-04-23    9\n",
              "         2021-04-24    0\n",
              "         2021-04-25    0\n",
              "         2021-04-26    0\n",
              "         2021-04-27    0\n",
              "...                  ...\n",
              "         2021-08-27    0\n",
              "         2021-08-28   20\n",
              "         2021-08-29    0\n",
              "         2021-08-30   30\n",
              "         2021-08-31   96\n",
              "\n",
              "[131 rows x 1 columns]"
            ]
          },
          "metadata": {},
          "execution_count": 137
        }
      ]
    },
    {
      "cell_type": "code",
      "metadata": {
        "id": "A02tDn03yE4q"
      },
      "source": [
        "train_data1 = train_data1.reset_index()  "
      ],
      "execution_count": 138,
      "outputs": []
    },
    {
      "cell_type": "code",
      "metadata": {
        "id": "UOl6Fyrtw7Hv"
      },
      "source": [
        "\n",
        "train_data_new=train_data1.append(pd.DataFrame({'PSTG. DATE': pd.date_range(start=train_data1['PSTG. DATE'].iloc[-1], periods= 80, freq='d'),'Category':'N LCV'}),ignore_index = True)\n"
      ],
      "execution_count": 139,
      "outputs": []
    },
    {
      "cell_type": "code",
      "metadata": {
        "id": "AOWbQKW84h0y"
      },
      "source": [
        "train_data_new=train_data_new.set_index('PSTG. DATE').groupby('Category').resample('D').sum()\n",
        "#train_data_new"
      ],
      "execution_count": 140,
      "outputs": []
    },
    {
      "cell_type": "code",
      "metadata": {
        "id": "r37CxXra8LTS"
      },
      "source": [
        "#train_data_new.info()\n",
        "#train_data_new.info()\n",
        "train_data_new['NSR'] = train_data_new['NSR'].astype(int)\n"
      ],
      "execution_count": 141,
      "outputs": []
    },
    {
      "cell_type": "code",
      "metadata": {
        "id": "FinzRAOM4pAP"
      },
      "source": [
        "test_index=89\n",
        "full_train=train_data_new.iloc[:-test_index]\n",
        "full_test=train_data_new.iloc[-test_index:]\n"
      ],
      "execution_count": 142,
      "outputs": []
    },
    {
      "cell_type": "code",
      "metadata": {
        "colab": {
          "base_uri": "https://localhost:8080/",
          "height": 450
        },
        "id": "v8aOGBAN4jwW",
        "outputId": "c059e371-2133-4b34-9df4-50eec5b1e189"
      },
      "source": [
        "full_test    #created dataframe with future dates"
      ],
      "execution_count": 143,
      "outputs": [
        {
          "output_type": "execute_result",
          "data": {
            "text/html": [
              "<div>\n",
              "<style scoped>\n",
              "    .dataframe tbody tr th:only-of-type {\n",
              "        vertical-align: middle;\n",
              "    }\n",
              "\n",
              "    .dataframe tbody tr th {\n",
              "        vertical-align: top;\n",
              "    }\n",
              "\n",
              "    .dataframe thead th {\n",
              "        text-align: right;\n",
              "    }\n",
              "</style>\n",
              "<table border=\"1\" class=\"dataframe\">\n",
              "  <thead>\n",
              "    <tr style=\"text-align: right;\">\n",
              "      <th></th>\n",
              "      <th></th>\n",
              "      <th>NSR</th>\n",
              "    </tr>\n",
              "    <tr>\n",
              "      <th>Category</th>\n",
              "      <th>PSTG. DATE</th>\n",
              "      <th></th>\n",
              "    </tr>\n",
              "  </thead>\n",
              "  <tbody>\n",
              "    <tr>\n",
              "      <th rowspan=\"11\" valign=\"top\">N LCV</th>\n",
              "      <th>2021-08-22</th>\n",
              "      <td>0</td>\n",
              "    </tr>\n",
              "    <tr>\n",
              "      <th>2021-08-23</th>\n",
              "      <td>19</td>\n",
              "    </tr>\n",
              "    <tr>\n",
              "      <th>2021-08-24</th>\n",
              "      <td>28</td>\n",
              "    </tr>\n",
              "    <tr>\n",
              "      <th>2021-08-25</th>\n",
              "      <td>28</td>\n",
              "    </tr>\n",
              "    <tr>\n",
              "      <th>2021-08-26</th>\n",
              "      <td>19</td>\n",
              "    </tr>\n",
              "    <tr>\n",
              "      <th>...</th>\n",
              "      <td>...</td>\n",
              "    </tr>\n",
              "    <tr>\n",
              "      <th>2021-11-14</th>\n",
              "      <td>0</td>\n",
              "    </tr>\n",
              "    <tr>\n",
              "      <th>2021-11-15</th>\n",
              "      <td>0</td>\n",
              "    </tr>\n",
              "    <tr>\n",
              "      <th>2021-11-16</th>\n",
              "      <td>0</td>\n",
              "    </tr>\n",
              "    <tr>\n",
              "      <th>2021-11-17</th>\n",
              "      <td>0</td>\n",
              "    </tr>\n",
              "    <tr>\n",
              "      <th>2021-11-18</th>\n",
              "      <td>0</td>\n",
              "    </tr>\n",
              "  </tbody>\n",
              "</table>\n",
              "<p>89 rows × 1 columns</p>\n",
              "</div>"
            ],
            "text/plain": [
              "                     NSR\n",
              "Category PSTG. DATE     \n",
              "N LCV    2021-08-22    0\n",
              "         2021-08-23   19\n",
              "         2021-08-24   28\n",
              "         2021-08-25   28\n",
              "         2021-08-26   19\n",
              "...                  ...\n",
              "         2021-11-14    0\n",
              "         2021-11-15    0\n",
              "         2021-11-16    0\n",
              "         2021-11-17    0\n",
              "         2021-11-18    0\n",
              "\n",
              "[89 rows x 1 columns]"
            ]
          },
          "metadata": {},
          "execution_count": 143
        }
      ]
    },
    {
      "cell_type": "code",
      "metadata": {
        "id": "ATJwLpEu6Hbj"
      },
      "source": [
        "from sklearn.preprocessing import MinMaxScaler\n",
        "\n",
        "scaler=MinMaxScaler()\n",
        "\n",
        "scaled_train_data_new=scaler.fit_transform(full_train)\n",
        "scaled_test_data_new=scaler.transform(full_test)\n"
      ],
      "execution_count": 144,
      "outputs": []
    },
    {
      "cell_type": "code",
      "metadata": {
        "id": "J2Ct-tCn7ZPJ"
      },
      "source": [
        "length=3\n",
        "batch_size=1\n",
        "features=scaled_train_data_new.shape[1]\n",
        "\n",
        "# Importing the keras library and the TimeseriesGenerator\n",
        "from tensorflow.keras.preprocessing.sequence import TimeseriesGenerator\n",
        "time_series_generator=TimeseriesGenerator(scaled_train_data_new,scaled_train_data_new,length=length,batch_size=batch_size)\n",
        "\n",
        "\n",
        "\n",
        "# Importing the necessary libraries to create/construct the neural network model\n",
        "from tensorflow.keras.models import Sequential\n",
        "from tensorflow.keras.layers import Dense,LSTM\n",
        "from tensorflow.keras import initializers\n",
        "\n",
        "\n",
        "\n",
        "\n",
        "import tensorflow as tf\n",
        "initializer = tf.keras.initializers.he_uniform(seed=0)\n",
        "# Initially, the network model is defined \n",
        "model = Sequential()\n"
      ],
      "execution_count": 145,
      "outputs": []
    },
    {
      "cell_type": "code",
      "metadata": {
        "colab": {
          "base_uri": "https://localhost:8080/"
        },
        "id": "-72DkOtg8Db0",
        "outputId": "2d18bb15-fd3b-4473-93a7-1b3073a0cdfb"
      },
      "source": [
        "\n",
        "# Selected Activation function has been the rectified linear unit\n",
        "model.add(LSTM(51, activation='relu', input_shape=(length,features),kernel_initializer=initializer,\n",
        "                     bias_initializer=initializers.Constant(0.01)))\n",
        "# The output layer consists of 4 neuron (one neuron for each input feature) with a 'sigmoid' activation fuction \n",
        "model.add(Dense(features,activation='sigmoid',kernel_initializer=initializer,\n",
        "                     bias_initializer=initializers.Constant(0.01)))\n",
        "# The model is compiled with selected loss function= 'mse', whereas the selected optimizer is 'adam' with a learning rate\n",
        "# of 0.001, epsilon=1e-8 and with the default values of the exponential decay rates for the first and\n",
        "# second moment estimates\n",
        "opt = tf.keras.optimizers.Adam(learning_rate=0.001,\n",
        "    beta_1=0.9,\n",
        "    beta_2=0.999,\n",
        "    epsilon=1e-8)\n",
        "\n",
        "model.compile(optimizer=opt, loss='mse')\n",
        "\n",
        "\n",
        "\n",
        "\n",
        "model.fit(time_series_generator,epochs=20)\n"
      ],
      "execution_count": 146,
      "outputs": [
        {
          "output_type": "stream",
          "name": "stdout",
          "text": [
            "Epoch 1/20\n",
            "118/118 [==============================] - 2s 4ms/step - loss: 0.1173\n",
            "Epoch 2/20\n",
            "118/118 [==============================] - 0s 4ms/step - loss: 0.0154\n",
            "Epoch 3/20\n",
            "118/118 [==============================] - 0s 3ms/step - loss: 0.0146\n",
            "Epoch 4/20\n",
            "118/118 [==============================] - 0s 4ms/step - loss: 0.0147\n",
            "Epoch 5/20\n",
            "118/118 [==============================] - 0s 4ms/step - loss: 0.0145\n",
            "Epoch 6/20\n",
            "118/118 [==============================] - 0s 4ms/step - loss: 0.0145\n",
            "Epoch 7/20\n",
            "118/118 [==============================] - 0s 4ms/step - loss: 0.0145\n",
            "Epoch 8/20\n",
            "118/118 [==============================] - 0s 3ms/step - loss: 0.0145\n",
            "Epoch 9/20\n",
            "118/118 [==============================] - 0s 4ms/step - loss: 0.0143\n",
            "Epoch 10/20\n",
            "118/118 [==============================] - 0s 4ms/step - loss: 0.0144\n",
            "Epoch 11/20\n",
            "118/118 [==============================] - 0s 4ms/step - loss: 0.0144\n",
            "Epoch 12/20\n",
            "118/118 [==============================] - 0s 4ms/step - loss: 0.0142\n",
            "Epoch 13/20\n",
            "118/118 [==============================] - 0s 4ms/step - loss: 0.0143\n",
            "Epoch 14/20\n",
            "118/118 [==============================] - 0s 3ms/step - loss: 0.0144\n",
            "Epoch 15/20\n",
            "118/118 [==============================] - 0s 4ms/step - loss: 0.0144\n",
            "Epoch 16/20\n",
            "118/118 [==============================] - 0s 4ms/step - loss: 0.0142\n",
            "Epoch 17/20\n",
            "118/118 [==============================] - 0s 4ms/step - loss: 0.0144\n",
            "Epoch 18/20\n",
            "118/118 [==============================] - 0s 4ms/step - loss: 0.0142\n",
            "Epoch 19/20\n",
            "118/118 [==============================] - 0s 4ms/step - loss: 0.0142\n",
            "Epoch 20/20\n",
            "118/118 [==============================] - 0s 4ms/step - loss: 0.0145\n"
          ]
        },
        {
          "output_type": "execute_result",
          "data": {
            "text/plain": [
              "<keras.callbacks.History at 0x7feb675314d0>"
            ]
          },
          "metadata": {},
          "execution_count": 146
        }
      ]
    },
    {
      "cell_type": "code",
      "metadata": {
        "colab": {
          "base_uri": "https://localhost:8080/",
          "height": 390
        },
        "id": "izs2saqn9iww",
        "outputId": "b92380ba-4e4a-4e9b-8f1c-cd70abdfc7cb"
      },
      "source": [
        "# Determining all LSTM predicted values so as to compare them with the actual test values \n",
        "n_features = scaled_train_data.shape[1]\n",
        "test_outputs = []\n",
        "batch = scaled_train_data_new[-length:].reshape((1, length, n_features))\n",
        "\n",
        "for i in range(len(full_test)):\n",
        "    test_out = model.predict(batch)[0]\n",
        "    test_outputs.append(test_out) \n",
        "    batch = np.append(batch[:,1:,:],[[test_out]],axis=1)\n",
        "\n",
        "\n",
        "# Applying the inverse_transform function to the test_outputs to get their original values\n",
        "true_outputs1 = scaler.inverse_transform(test_outputs)\n",
        "\n",
        "\n",
        "\n",
        "# Converting the true_outputs from np.ndarray to pandas dataframe\n",
        "true_outputs1 = pd.DataFrame(data=true_outputs1,columns=full_test.columns,index=full_test.index)\n",
        "\n",
        "# Predicted values \n",
        "\n",
        "true_outputs1.head(10)\n",
        "\n"
      ],
      "execution_count": 147,
      "outputs": [
        {
          "output_type": "execute_result",
          "data": {
            "text/html": [
              "<div>\n",
              "<style scoped>\n",
              "    .dataframe tbody tr th:only-of-type {\n",
              "        vertical-align: middle;\n",
              "    }\n",
              "\n",
              "    .dataframe tbody tr th {\n",
              "        vertical-align: top;\n",
              "    }\n",
              "\n",
              "    .dataframe thead th {\n",
              "        text-align: right;\n",
              "    }\n",
              "</style>\n",
              "<table border=\"1\" class=\"dataframe\">\n",
              "  <thead>\n",
              "    <tr style=\"text-align: right;\">\n",
              "      <th></th>\n",
              "      <th></th>\n",
              "      <th>NSR</th>\n",
              "    </tr>\n",
              "    <tr>\n",
              "      <th>Category</th>\n",
              "      <th>PSTG. DATE</th>\n",
              "      <th></th>\n",
              "    </tr>\n",
              "  </thead>\n",
              "  <tbody>\n",
              "    <tr>\n",
              "      <th rowspan=\"10\" valign=\"top\">N LCV</th>\n",
              "      <th>2021-08-22</th>\n",
              "      <td>2.715436</td>\n",
              "    </tr>\n",
              "    <tr>\n",
              "      <th>2021-08-23</th>\n",
              "      <td>2.389500</td>\n",
              "    </tr>\n",
              "    <tr>\n",
              "      <th>2021-08-24</th>\n",
              "      <td>4.023812</td>\n",
              "    </tr>\n",
              "    <tr>\n",
              "      <th>2021-08-25</th>\n",
              "      <td>5.124269</td>\n",
              "    </tr>\n",
              "    <tr>\n",
              "      <th>2021-08-26</th>\n",
              "      <td>5.891082</td>\n",
              "    </tr>\n",
              "    <tr>\n",
              "      <th>2021-08-27</th>\n",
              "      <td>6.105883</td>\n",
              "    </tr>\n",
              "    <tr>\n",
              "      <th>2021-08-28</th>\n",
              "      <td>5.891159</td>\n",
              "    </tr>\n",
              "    <tr>\n",
              "      <th>2021-08-29</th>\n",
              "      <td>5.585188</td>\n",
              "    </tr>\n",
              "    <tr>\n",
              "      <th>2021-08-30</th>\n",
              "      <td>5.437233</td>\n",
              "    </tr>\n",
              "    <tr>\n",
              "      <th>2021-08-31</th>\n",
              "      <td>5.450203</td>\n",
              "    </tr>\n",
              "  </tbody>\n",
              "</table>\n",
              "</div>"
            ],
            "text/plain": [
              "                          NSR\n",
              "Category PSTG. DATE          \n",
              "N LCV    2021-08-22  2.715436\n",
              "         2021-08-23  2.389500\n",
              "         2021-08-24  4.023812\n",
              "         2021-08-25  5.124269\n",
              "         2021-08-26  5.891082\n",
              "         2021-08-27  6.105883\n",
              "         2021-08-28  5.891159\n",
              "         2021-08-29  5.585188\n",
              "         2021-08-30  5.437233\n",
              "         2021-08-31  5.450203"
            ]
          },
          "metadata": {},
          "execution_count": 147
        }
      ]
    },
    {
      "cell_type": "code",
      "metadata": {
        "id": "A4tC5a2Aa1RM"
      },
      "source": [
        ""
      ],
      "execution_count": 147,
      "outputs": []
    },
    {
      "cell_type": "code",
      "metadata": {
        "colab": {
          "base_uri": "https://localhost:8080/",
          "height": 173
        },
        "id": "hSoMrTJ8ASIk",
        "outputId": "e086f393-e078-4377-9a32-3314dae0832c"
      },
      "source": [
        "pd.concat([train_data_new['NSR'],true_outputs1['NSR']],axis=1).plot()\n"
      ],
      "execution_count": 148,
      "outputs": [
        {
          "output_type": "execute_result",
          "data": {
            "text/plain": [
              "<matplotlib.axes._subplots.AxesSubplot at 0x7feb66658690>"
            ]
          },
          "metadata": {},
          "execution_count": 148
        },
        {
          "output_type": "display_data",
          "data": {
            "image/png": "[encoded data removed]",
            "text/plain": [
              "<Figure size 1800x216 with 1 Axes>"
            ]
          },
          "metadata": {
            "needs_background": "light"
          }
        }
      ]
    }
  ]
}